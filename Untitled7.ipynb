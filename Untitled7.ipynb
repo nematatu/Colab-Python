{
  "nbformat": 4,
  "nbformat_minor": 0,
  "metadata": {
    "colab": {
      "provenance": [],
      "gpuType": "T4",
      "authorship_tag": "ABX9TyMc3+EVRFdnZOl+ZMhBINa5",
      "include_colab_link": true
    },
    "kernelspec": {
      "name": "python3",
      "display_name": "Python 3"
    },
    "language_info": {
      "name": "python"
    },
    "accelerator": "GPU"
  },
  "cells": [
    {
      "cell_type": "markdown",
      "metadata": {
        "id": "view-in-github",
        "colab_type": "text"
      },
      "source": [
        "<a href=\"https://colab.research.google.com/github/nematatu/Colab-Python/blob/master/Untitled7.ipynb\" target=\"_parent\"><img src=\"https://colab.research.google.com/assets/colab-badge.svg\" alt=\"Open In Colab\"/></a>"
      ]
    },
    {
      "cell_type": "code",
      "execution_count": 26,
      "metadata": {
        "collapsed": true,
        "id": "NxaXitQAdzPK"
      },
      "outputs": [],
      "source": [
        "!pip -q install streamlit\n",
        "!pip -q install pyngrok"
      ]
    },
    {
      "cell_type": "code",
      "source": [
        "%%writefile app.py\n",
        "import streamlit as st\n",
        "import datetime\n",
        "\n",
        "st.title(\"Hello streamlit!\")\n",
        "_name=st.text_input(\"What's your name?\")\n",
        "\n",
        "if st.button('Press!'):\n",
        "  hour=datetime.datetime.now().hour\n",
        "  if 4<=hour<12:\n",
        "    f'**GM, {_name}!**'\n",
        "  elif 12<=hour<18:\n",
        "    f'**Hello, {_name}**'\n",
        "  else:\n",
        "    f'**GA, {_name}**'\n",
        "\n",
        "st.divider()\n",
        "\n",
        "umiyuri=st.radio('『ウミユリ』？',['海底譚','ゆりゆり'])\n",
        "if st.button('Press!!'):\n",
        "  f'**ウミユリ{umiyuri}**'"
      ],
      "metadata": {
        "colab": {
          "base_uri": "https://localhost:8080/"
        },
        "id": "qrhSCjxneoyg",
        "outputId": "da7be36c-594c-4037-c0d1-7b529eeae968"
      },
      "execution_count": 34,
      "outputs": [
        {
          "output_type": "stream",
          "name": "stdout",
          "text": [
            "Overwriting app.py\n"
          ]
        }
      ]
    },
    {
      "cell_type": "code",
      "source": [
        "!pgrep ngrok|!kill -9"
      ],
      "metadata": {
        "colab": {
          "base_uri": "https://localhost:8080/"
        },
        "id": "CEYFMd8Ns1zU",
        "outputId": "b33cc0b1-1984-47f6-9950-4d617f160b55"
      },
      "execution_count": 29,
      "outputs": [
        {
          "output_type": "stream",
          "name": "stdout",
          "text": [
            "/bin/bash: line 1: !kill: command not found\n"
          ]
        }
      ]
    },
    {
      "cell_type": "code",
      "source": [
        "!pkill ngrok"
      ],
      "metadata": {
        "id": "M2ObnZkos5Om"
      },
      "execution_count": 30,
      "outputs": []
    },
    {
      "cell_type": "code",
      "source": [
        "!ngrok authtoken 2PMf7scevefTRXrpSkwYS1bm7tj_633ppQEnDJon78KWHQtLq\n",
        "!streamlit run app.py &>/dev/null&\n",
        "\n",
        "from pyngrok import ngrok\n",
        "\n",
        "public_url=ngrok.connect(8501)\n",
        "print(\"URL:\",public_url)"
      ],
      "metadata": {
        "colab": {
          "base_uri": "https://localhost:8080/"
        },
        "id": "g4BkH21RfLds",
        "outputId": "5916ac79-55a2-4341-c6cc-e14fc522f900"
      },
      "execution_count": 33,
      "outputs": [
        {
          "output_type": "stream",
          "name": "stdout",
          "text": [
            "Authtoken saved to configuration file: /root/.config/ngrok/ngrok.yml\n",
            "URL: NgrokTunnel: \"https://ff75-34-148-169-205.ngrok-free.app\" -> \"http://localhost:8501\"\n"
          ]
        }
      ]
    }
  ]
}