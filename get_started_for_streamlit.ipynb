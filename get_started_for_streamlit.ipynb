{
  "nbformat": 4,
  "nbformat_minor": 0,
  "metadata": {
    "colab": {
      "provenance": [],
      "gpuType": "T4",
      "authorship_tag": "ABX9TyOgnbmh7XTDPsyKQ7dhwUcO",
      "include_colab_link": true
    },
    "kernelspec": {
      "name": "python3",
      "display_name": "Python 3"
    },
    "language_info": {
      "name": "python"
    }
  },
  "cells": [
    {
      "cell_type": "markdown",
      "metadata": {
        "id": "view-in-github",
        "colab_type": "text"
      },
      "source": [
        "<a href=\"https://colab.research.google.com/github/nematatu/Colab-Python/blob/master/get_started_for_streamlit.ipynb\" target=\"_parent\"><img src=\"https://colab.research.google.com/assets/colab-badge.svg\" alt=\"Open In Colab\"/></a>"
      ]
    },
    {
      "cell_type": "code",
      "execution_count": 128,
      "metadata": {
        "colab": {
          "base_uri": "https://localhost:8080/"
        },
        "collapsed": true,
        "id": "NxaXitQAdzPK",
        "outputId": "22695138-164b-480b-db0a-48e28cdfe432"
      },
      "outputs": [
        {
          "output_type": "stream",
          "name": "stdout",
          "text": [
            "\u001b[32mINFO\u001b[0m[01-01|09:50:37] no configuration paths supplied \n",
            "\u001b[36mDBUG\u001b[0m[01-01|09:50:37] ngrok config file at legacy location does not exist \u001b[36mlegacy_path\u001b[0m=/root/.config/ngrok/ngrok.yml\n",
            "\u001b[32mINFO\u001b[0m[01-01|09:50:37] using configuration at default config path \u001b[32mpath\u001b[0m=/root/.config/ngrok/ngrok.yml\n",
            "\u001b[32mINFO\u001b[0m[01-01|09:50:37] open config file                         \u001b[32mpath\u001b[0m=/root/.config/ngrok/ngrok.yml \u001b[32merr\u001b[0m=nil\n",
            "No update available, this is the latest version.\n"
          ]
        }
      ],
      "source": [
        "!pip install -q streamlit\n",
        "!pip install -q pyngrok\n",
        "!ngrok update"
      ]
    },
    {
      "cell_type": "code",
      "source": [
        "!apt install tree figlet &>/dev/null&"
      ],
      "metadata": {
        "collapsed": true,
        "id": "IfoTu_Y4P2L8"
      },
      "execution_count": 129,
      "outputs": []
    },
    {
      "cell_type": "code",
      "source": [
        "!figlet Hello, Streamlit!"
      ],
      "metadata": {
        "colab": {
          "base_uri": "https://localhost:8080/"
        },
        "id": "ouupICt6U4NR",
        "outputId": "c12f0c6d-0b1e-4994-c732-e7c20c517ddd"
      },
      "execution_count": 130,
      "outputs": [
        {
          "output_type": "stream",
          "name": "stdout",
          "text": [
            " _   _      _ _          ____  _                            _ _ _   _ \n",
            "| | | | ___| | | ___    / ___|| |_ _ __ ___  __ _ _ __ ___ | (_) |_| |\n",
            "| |_| |/ _ \\ | |/ _ \\   \\___ \\| __| '__/ _ \\/ _` | '_ ` _ \\| | | __| |\n",
            "|  _  |  __/ | | (_) |   ___) | |_| | |  __/ (_| | | | | | | | | |_|_|\n",
            "|_| |_|\\___|_|_|\\___( ) |____/ \\__|_|  \\___|\\__,_|_| |_| |_|_|_|\\__(_)\n",
            "                    |/                                                \n"
          ]
        }
      ]
    },
    {
      "cell_type": "code",
      "source": [
        "import os"
      ],
      "metadata": {
        "id": "_PLVQhDVXbrj"
      },
      "execution_count": 131,
      "outputs": []
    },
    {
      "cell_type": "code",
      "source": [
        "os.chdir('/content')\n",
        "!rm -rf ./app ./app.py"
      ],
      "metadata": {
        "id": "lhS570lPnG1B"
      },
      "execution_count": 132,
      "outputs": []
    },
    {
      "cell_type": "code",
      "source": [
        "app_dir='./app'\n",
        "os.mkdir(app_dir)\n",
        "os.chdir(app_dir)\n",
        "\n",
        "!pwd\n",
        "!tree .."
      ],
      "metadata": {
        "colab": {
          "base_uri": "https://localhost:8080/"
        },
        "id": "0NGaT5MANH9G",
        "outputId": "a2ec00ae-16b0-46a4-cedd-b706e9f0ed84"
      },
      "execution_count": 133,
      "outputs": [
        {
          "output_type": "stream",
          "name": "stdout",
          "text": [
            "/content/app\n",
            "\u001b[01;34m..\u001b[0m\n",
            "├── \u001b[01;34mapp\u001b[0m\n",
            "└── \u001b[01;34msample_data\u001b[0m\n",
            "    ├── \u001b[01;32manscombe.json\u001b[0m\n",
            "    ├── \u001b[00mcalifornia_housing_test.csv\u001b[0m\n",
            "    ├── \u001b[00mcalifornia_housing_train.csv\u001b[0m\n",
            "    ├── \u001b[00mmnist_test.csv\u001b[0m\n",
            "    ├── \u001b[00mmnist_train_small.csv\u001b[0m\n",
            "    └── \u001b[01;32mREADME.md\u001b[0m\n",
            "\n",
            "2 directories, 6 files\n"
          ]
        }
      ]
    },
    {
      "cell_type": "code",
      "source": [
        "!pkill ngrok"
      ],
      "metadata": {
        "id": "M2ObnZkos5Om"
      },
      "execution_count": 134,
      "outputs": []
    },
    {
      "cell_type": "code",
      "source": [
        "%%writefile app.py\n",
        "import streamlit as st\n",
        "import seaborn as sns\n",
        "\n",
        "ss=st.session_state\n",
        "\n",
        "DATA = [\n",
        "    \"anagrams\", \"anscombe\", \"attention\", \"car_crashes\", \"diamonds\",\n",
        "    \"dots\", \"dowjones\", \"exercise\", \"fmri\", \"geyser\",\n",
        "    \"glue\", \"healthexp\", \"iris\", \"mpg\", \"penguins\",\n",
        "    \"planets\", \"seaice\", \"taxis\", \"tips\", \"titanic\"]\n",
        "\n",
        "if 'now' not in ss:\n",
        "  ss.now=0\n",
        "  ss.rst=False\n",
        "def countup(reset):\n",
        "  ss.now+=1\n",
        "  ss.rst=reset\n",
        "def countdown():\n",
        "  ss.now-=1\n",
        "def reset():\n",
        "  ss.now=0\n",
        "\n",
        "def buttons(now, _reset=False):\n",
        "    col = st.columns([1,1,2])\n",
        "    if now <= 1:\n",
        "    #countupに引数を渡してる\n",
        "        col[0].button('次へ進む', on_click=countup, args=(_reset,))\n",
        "    if now >= 1:\n",
        "        col[1].button('前へ戻る', on_click=countdown)\n",
        "    if now >= 2:\n",
        "        col[2].button('はじめからやり直す', on_click=reset)\n",
        "\n",
        "st.title('seabornデータ')\n",
        "if ss.now==0:\n",
        "  st.write('### step1: select date')\n",
        "  st.info(\"There are Seaborn's dataset. Select for visible\")\n",
        "  if 'idx0' not in ss:\n",
        "    ss.idx0=0\n",
        "\n",
        "  #'': ラベルがないことを表す\n",
        "  #DATA: 選択肢のリスト\n",
        "  #ss.idx0: デフォルト値(0)\n",
        "  #label_visibility='collapsed': ラベルの非表示(collapsed: 折りたたむ)\n",
        "\n",
        "  ss.ds=st.radio('',DATA,ss.idx0,horizontal=True,label_visibility='collapsed')\n",
        "  #選択された内容と一致するインデックスを取得\n",
        "  ss.idx0=[i for i,e in enumerate(DATA) if e==ss.ds][0]\n",
        "  ss.df=sns.load_dataset(ss.ds)\n",
        "  st.write('select data:({},{})'.format(*ss.df.shape))\n",
        "  buttons(ss.now,True)\n",
        "elif ss.now==1:\n",
        "  st.write('### step2: select row')\n",
        "  st.info(f\"select row for visible in '{ss.ds}'\")\n",
        "  if 'flgl' not in ss or ss.rst:\n",
        "    ss.flgl=[False]*ss.df.shape[1]\n",
        "    ss.rst=False\n",
        "  for c,f in zip(ss.df.columns,ss.flgl):\n",
        "    ss[c]=st.checkbox(c,f)\n",
        "\n",
        "  ss.flgl=[ss[c] for c in ss.df.columns]\n",
        "  ss.clmn=ss.df.columns[ss.flgl]\n",
        "  buttons(ss.now)\n",
        "elif ss.now==2:\n",
        "  st.write('### step3: visible')\n",
        "  msg=st.empty()\n",
        "  if len(ss.clmn)==0:\n",
        "    msg.error('column is not selected')\n",
        "  else:\n",
        "    msg.success('visible was successed!')\n",
        "    col=st.columns([3,2])\n",
        "    with col[0]:\n",
        "      st.write('##### graph')\n",
        "      try:\n",
        "        st.line_chart(ss.df[ss.clmn])\n",
        "      except:\n",
        "        msg.error('error')\n",
        "    with col[1]:\n",
        "      st.write('##### table')\n",
        "      st.dataframe(ss.df[ss.clmn])\n",
        "  buttons(ss.now)"
      ],
      "metadata": {
        "colab": {
          "base_uri": "https://localhost:8080/"
        },
        "id": "6zOSnzmleYSm",
        "outputId": "4fe6e6fc-227e-4326-ec26-33fcc6f2d7eb"
      },
      "execution_count": 135,
      "outputs": [
        {
          "output_type": "stream",
          "name": "stdout",
          "text": [
            "Writing app.py\n"
          ]
        }
      ]
    },
    {
      "cell_type": "code",
      "source": [
        "os.mkdir('pages')\n",
        "os.chdir('pages')"
      ],
      "metadata": {
        "id": "5jZ9yYk1YC3g"
      },
      "execution_count": 136,
      "outputs": []
    },
    {
      "cell_type": "code",
      "source": [
        "%%writefile page2.py\n",
        "import streamlit as st\n",
        "st.title('page2')"
      ],
      "metadata": {
        "colab": {
          "base_uri": "https://localhost:8080/"
        },
        "id": "kXc41iiyYYOI",
        "outputId": "53c0c6de-1979-42c7-f0b1-e4a0d465e9f1"
      },
      "execution_count": 137,
      "outputs": [
        {
          "output_type": "stream",
          "name": "stdout",
          "text": [
            "Writing page2.py\n"
          ]
        }
      ]
    },
    {
      "cell_type": "code",
      "source": [
        "%%writefile page3.py\n",
        "import streamlit as st\n",
        "st.title('page3')"
      ],
      "metadata": {
        "colab": {
          "base_uri": "https://localhost:8080/"
        },
        "id": "sK-6wpksYhlQ",
        "outputId": "bbc662c1-394f-42c9-f214-225f0446d512"
      },
      "execution_count": 138,
      "outputs": [
        {
          "output_type": "stream",
          "name": "stdout",
          "text": [
            "Writing page3.py\n"
          ]
        }
      ]
    },
    {
      "cell_type": "code",
      "source": [
        "!ngrok authtoken 2PMf7scevefTRXrpSkwYS1bm7tj_633ppQEnDJon78KWHQtLq\n",
        "!streamlit run app &>/dev/null&\n",
        "\n",
        "from pyngrok import ngrok\n",
        "\n",
        "public_url=ngrok.connect(8501)\n",
        "print(\"URL:\",public_url)"
      ],
      "metadata": {
        "colab": {
          "base_uri": "https://localhost:8080/"
        },
        "id": "g4BkH21RfLds",
        "outputId": "aefb9a92-d289-4c56-8f2c-ca7e033df9c3"
      },
      "execution_count": 139,
      "outputs": [
        {
          "output_type": "stream",
          "name": "stdout",
          "text": [
            "Authtoken saved to configuration file: /root/.config/ngrok/ngrok.yml\n",
            "URL: NgrokTunnel: \"https://65c8-35-229-133-82.ngrok-free.app\" -> \"http://localhost:8501\"\n"
          ]
        }
      ]
    },
    {
      "cell_type": "code",
      "source": [
        "# %%writefile app.py\n",
        "# import streamlit as st\n",
        "# import datetime\n",
        "# from time import sleep\n",
        "\n",
        "# st.title(\"Hello streamlit!\")\n",
        "# _name=st.text_input(\"What's your name?\")\n",
        "\n",
        "# if st.button('Press!'):\n",
        "#   hour=datetime.datetime.now().hour\n",
        "#   if 4<=hour<12:\n",
        "#     f'**GM, {_name}!**'\n",
        "#   elif 12<=hour<18:\n",
        "#     f'**Hello, {_name}**'\n",
        "#   else:\n",
        "#     f'**GA, {_name}**'\n",
        "\n",
        "# st.divider()\n",
        "\n",
        "# umiyuri=st.radio('『ウミユリ』？',['海底譚','ゆりゆり'])\n",
        "# if st.button('Press!!'):\n",
        "#   f'**ウミユリ{umiyuri}**'\n",
        "\n",
        "# ss=st.session_state\n",
        "\n",
        "# st.title('状態を管理する')\n",
        "# tab=st.tabs(['誤ったコード','正しいコード'])\n",
        "\n",
        "# with tab[0]:\n",
        "#   count=0\n",
        "#   if st.button('count up',key='k0'):\n",
        "#     count+=1\n",
        "#   if count >0:\n",
        "#     st.warning(f'{count} clicked!')\n",
        "\n",
        "# with tab[1]:\n",
        "#   if 'count' not in ss:\n",
        "#     ss.count=0\n",
        "#   if st.button('count up',key='k1'):\n",
        "#     ss.count+=1\n",
        "#   if ss.count >0:\n",
        "#     st.warning(f'{ss.count} clicked!')\n",
        "\n",
        "# st.title('st.buttonの挙動')\n",
        "# if 'log' not in ss:\n",
        "#   ss.log=''\n",
        "\n",
        "# ss.log+='<先頭=>'\n",
        "# if st.button('rerunあり'):\n",
        "#   ss.log+='処理1=>rerun=>'\n",
        "#   st.rerun()\n",
        "# ss.log+='中間=>'\n",
        "# if st.button('rerunなし'):\n",
        "#   ss.log+='処理2=>'\n",
        "# ss.log+='末尾>'\n",
        "# st.warning(ss.log)\n",
        "\n",
        "# def countup():\n",
        "#   ss.view1+=1\n",
        "# def reset():\n",
        "#   ss.view1=0\n",
        "# if 'view0' not in ss:\n",
        "#   ss.view0=0\n",
        "#   reset()\n",
        "\n",
        "# st.title('returnとcallback')\n",
        "# st.radio('',['rerun','callback'],key='which',horizontal=True)\n",
        "\n",
        "# if ss.which=='rerun':\n",
        "#   if ss.view0==0:\n",
        "#     with st.spinner('wait...'):\n",
        "#       sleep(3)\n",
        "#     st.subheader('はじめに')\n",
        "#     st.warning('冒頭の操作説明文')\n",
        "#     if st.button('step 1'):\n",
        "#       ss.view0=1\n",
        "#       st.rerun()\n",
        "\n",
        "#   if ss.view0==1:\n",
        "#     st.subheader('step1')\n",
        "#     st.info('go to run')\n",
        "#     if st.button('run'):\n",
        "#       ss.view0=2\n",
        "#       st.rerun()\n",
        "#   if ss.view0==2:\n",
        "#     st.subheader('step2')\n",
        "#     with st.spinner('wait...'):\n",
        "#       sleep(3)\n",
        "#       st.success('success!')\n",
        "#       if st.button('restart'):\n",
        "#         ss.view0=0\n",
        "#         st.rerun()\n",
        "\n",
        "# else:\n",
        "#   if ss.view1==0:\n",
        "#     with st.spinner('wait...'):\n",
        "#       sleep(3)\n",
        "#     st.subheader('はじめに')\n",
        "#     st.warning('操作文')\n",
        "#     st.button('step1',on_click=countup)\n",
        "#   if ss.view1==1:\n",
        "#     st.subheader('go to run')\n",
        "#     st.button('run',on_click=countup)\n",
        "#   if ss.view1==2:\n",
        "#     st.subheader('step2')\n",
        "#     with st.spinner('wait...'):\n",
        "#       sleep(3)\n",
        "#       st.success('success')\n",
        "#     st.button('restart',on_click=reset)\n",
        "\n",
        "# if 'now' not in ss:\n",
        "#   ss.now=0\n",
        "# def countup():\n",
        "#   ss.now+=1\n",
        "# def countdown():\n",
        "#   ss.now0=1\n",
        "# def reset():\n",
        "#   ss.now=0\n",
        "\n",
        "# def buttons(now):\n",
        "#   col=st.columns(3)\n",
        "#   if ss.now<3:\n",
        "#     col[0].button('next',on_click=countup)\n",
        "#   if ss.now>0:\n",
        "#     col[1].button('back',on_click=countup)\n",
        "#   if ss.now>1:\n",
        "#     col[2].button('restart',on_click=countup)\n",
        "# col=st.columns([2,1])\n",
        "# col[0].title('step by step')\n",
        "# if col[1].toggle('step by step',False):\n",
        "#   st.write(\"### A. ステップごとに表示\")\n",
        "#   if ss.now==0:\n",
        "#     st.write('#### step1')\n",
        "#     st.error('step1 process')\n",
        "#     buttons(ss.now)\n",
        "#   elif ss.now==1:\n",
        "#     st.write('#### step2')\n",
        "#     st.warning('step2 process')\n",
        "#     buttons(ss.now)\n",
        "\n",
        "#   elif ss.now==2:\n",
        "#     st.write('#### step3')\n",
        "#     st.info('step3 process')\n",
        "#     buttons(ss.now)\n",
        "\n",
        "#   else:\n",
        "#     st.write(\"#### success!\")\n",
        "#     st.success(\"success!\")\n",
        "#     buttons(ss.now)\n",
        "# else:\n",
        "#   st.write('### B. 全てを常時表示')\n",
        "#   st.write('#### step1')\n",
        "#   st.error('step1 process')\n",
        "#   st.write('#### step2')\n",
        "#   st.warning('step2 process')\n",
        "#   st.write('#### step3')\n",
        "#   st.info('step3 process')\n",
        "#   st.success('success!')"
      ],
      "metadata": {
        "id": "qrhSCjxneoyg"
      },
      "execution_count": 140,
      "outputs": []
    }
  ]
}