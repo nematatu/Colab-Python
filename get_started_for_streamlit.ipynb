{
  "nbformat": 4,
  "nbformat_minor": 0,
  "metadata": {
    "colab": {
      "provenance": [],
      "gpuType": "T4",
      "authorship_tag": "ABX9TyNlWxzJz0JEhdQ9WtmSPM/P",
      "include_colab_link": true
    },
    "kernelspec": {
      "name": "python3",
      "display_name": "Python 3"
    },
    "language_info": {
      "name": "python"
    },
    "accelerator": "GPU"
  },
  "cells": [
    {
      "cell_type": "markdown",
      "metadata": {
        "id": "view-in-github",
        "colab_type": "text"
      },
      "source": [
        "<a href=\"https://colab.research.google.com/github/nematatu/Colab-Python/blob/master/get_started_for_streamlit.ipynb\" target=\"_parent\"><img src=\"https://colab.research.google.com/assets/colab-badge.svg\" alt=\"Open In Colab\"/></a>"
      ]
    },
    {
      "cell_type": "code",
      "execution_count": 1,
      "metadata": {
        "colab": {
          "base_uri": "https://localhost:8080/"
        },
        "collapsed": true,
        "id": "NxaXitQAdzPK",
        "outputId": "f3f39480-cdcf-4952-af4d-cd7d0b99bfd8"
      },
      "outputs": [
        {
          "output_type": "stream",
          "name": "stdout",
          "text": [
            "\u001b[2K     \u001b[90m━━━━━━━━━━━━━━━━━━━━━━━━━━━━━━━━━━━━━━━━\u001b[0m \u001b[32m8.4/8.4 MB\u001b[0m \u001b[31m26.5 MB/s\u001b[0m eta \u001b[36m0:00:00\u001b[0m\n",
            "\u001b[2K     \u001b[90m━━━━━━━━━━━━━━━━━━━━━━━━━━━━━━━━━━━━━━━━\u001b[0m \u001b[32m190.6/190.6 kB\u001b[0m \u001b[31m19.7 MB/s\u001b[0m eta \u001b[36m0:00:00\u001b[0m\n",
            "\u001b[2K     \u001b[90m━━━━━━━━━━━━━━━━━━━━━━━━━━━━━━━━━━━━━━━━\u001b[0m \u001b[32m4.8/4.8 MB\u001b[0m \u001b[31m57.1 MB/s\u001b[0m eta \u001b[36m0:00:00\u001b[0m\n",
            "\u001b[2K     \u001b[90m━━━━━━━━━━━━━━━━━━━━━━━━━━━━━━━━━━━━━━━━\u001b[0m \u001b[32m82.1/82.1 kB\u001b[0m \u001b[31m10.3 MB/s\u001b[0m eta \u001b[36m0:00:00\u001b[0m\n",
            "\u001b[2K     \u001b[90m━━━━━━━━━━━━━━━━━━━━━━━━━━━━━━━━━━━━━━━━\u001b[0m \u001b[32m62.7/62.7 kB\u001b[0m \u001b[31m7.4 MB/s\u001b[0m eta \u001b[36m0:00:00\u001b[0m\n",
            "\u001b[?25h"
          ]
        }
      ],
      "source": [
        "!pip -q install streamlit\n",
        "!pip -q install pyngrok"
      ]
    },
    {
      "cell_type": "code",
      "source": [
        "!rm -r ./app.py ./app2.py"
      ],
      "metadata": {
        "colab": {
          "base_uri": "https://localhost:8080/"
        },
        "id": "lhS570lPnG1B",
        "outputId": "3db2ab67-82db-4d1a-81e2-3e1418d71b90"
      },
      "execution_count": 2,
      "outputs": [
        {
          "output_type": "stream",
          "name": "stdout",
          "text": [
            "rm: cannot remove './app.py': No such file or directory\n",
            "rm: cannot remove './app2.py': No such file or directory\n"
          ]
        }
      ]
    },
    {
      "cell_type": "code",
      "source": [
        "# %%writefile app.py\n",
        "# import streamlit as st\n",
        "# import datetime\n",
        "# from time import sleep\n",
        "\n",
        "# st.title(\"Hello streamlit!\")\n",
        "# _name=st.text_input(\"What's your name?\")\n",
        "\n",
        "# if st.button('Press!'):\n",
        "#   hour=datetime.datetime.now().hour\n",
        "#   if 4<=hour<12:\n",
        "#     f'**GM, {_name}!**'\n",
        "#   elif 12<=hour<18:\n",
        "#     f'**Hello, {_name}**'\n",
        "#   else:\n",
        "#     f'**GA, {_name}**'\n",
        "\n",
        "# st.divider()\n",
        "\n",
        "# umiyuri=st.radio('『ウミユリ』？',['海底譚','ゆりゆり'])\n",
        "# if st.button('Press!!'):\n",
        "#   f'**ウミユリ{umiyuri}**'\n",
        "\n",
        "# ss=st.session_state\n",
        "\n",
        "# st.title('状態を管理する')\n",
        "# tab=st.tabs(['誤ったコード','正しいコード'])\n",
        "\n",
        "# with tab[0]:\n",
        "#   count=0\n",
        "#   if st.button('count up',key='k0'):\n",
        "#     count+=1\n",
        "#   if count >0:\n",
        "#     st.warning(f'{count} clicked!')\n",
        "\n",
        "# with tab[1]:\n",
        "#   if 'count' not in ss:\n",
        "#     ss.count=0\n",
        "#   if st.button('count up',key='k1'):\n",
        "#     ss.count+=1\n",
        "#   if ss.count >0:\n",
        "#     st.warning(f'{ss.count} clicked!')\n",
        "\n",
        "# st.title('st.buttonの挙動')\n",
        "# if 'log' not in ss:\n",
        "#   ss.log=''\n",
        "\n",
        "# ss.log+='<先頭=>'\n",
        "# if st.button('rerunあり'):\n",
        "#   ss.log+='処理1=>rerun=>'\n",
        "#   st.rerun()\n",
        "# ss.log+='中間=>'\n",
        "# if st.button('rerunなし'):\n",
        "#   ss.log+='処理2=>'\n",
        "# ss.log+='末尾>'\n",
        "# st.warning(ss.log)\n",
        "\n",
        "# def countup():\n",
        "#   ss.view1+=1\n",
        "# def reset():\n",
        "#   ss.view1=0\n",
        "# if 'view0' not in ss:\n",
        "#   ss.view0=0\n",
        "#   reset()\n",
        "\n",
        "# st.title('returnとcallback')\n",
        "# st.radio('',['rerun','callback'],key='which',horizontal=True)\n",
        "\n",
        "# if ss.which=='rerun':\n",
        "#   if ss.view0==0:\n",
        "#     with st.spinner('wait...'):\n",
        "#       sleep(3)\n",
        "#     st.subheader('はじめに')\n",
        "#     st.warning('冒頭の操作説明文')\n",
        "#     if st.button('step 1'):\n",
        "#       ss.view0=1\n",
        "#       st.rerun()\n",
        "\n",
        "#   if ss.view0==1:\n",
        "#     st.subheader('step1')\n",
        "#     st.info('go to run')\n",
        "#     if st.button('run'):\n",
        "#       ss.view0=2\n",
        "#       st.rerun()\n",
        "#   if ss.view0==2:\n",
        "#     st.subheader('step2')\n",
        "#     with st.spinner('wait...'):\n",
        "#       sleep(3)\n",
        "#       st.success('success!')\n",
        "#       if st.button('restart'):\n",
        "#         ss.view0=0\n",
        "#         st.rerun()\n",
        "\n",
        "# else:\n",
        "#   if ss.view1==0:\n",
        "#     with st.spinner('wait...'):\n",
        "#       sleep(3)\n",
        "#     st.subheader('はじめに')\n",
        "#     st.warning('操作文')\n",
        "#     st.button('step1',on_click=countup)\n",
        "#   if ss.view1==1:\n",
        "#     st.subheader('go to run')\n",
        "#     st.button('run',on_click=countup)\n",
        "#   if ss.view1==2:\n",
        "#     st.subheader('step2')\n",
        "#     with st.spinner('wait...'):\n",
        "#       sleep(3)\n",
        "#       st.success('success')\n",
        "#     st.button('restart',on_click=reset)\n",
        "\n",
        "# if 'now' not in ss:\n",
        "#   ss.now=0\n",
        "# def countup():\n",
        "#   ss.now+=1\n",
        "# def countdown():\n",
        "#   ss.now0=1\n",
        "# def reset():\n",
        "#   ss.now=0\n",
        "\n",
        "# def buttons(now):\n",
        "#   col=st.columns(3)\n",
        "#   if ss.now<3:\n",
        "#     col[0].button('next',on_click=countup)\n",
        "#   if ss.now>0:\n",
        "#     col[1].button('back',on_click=countup)\n",
        "#   if ss.now>1:\n",
        "#     col[2].button('restart',on_click=countup)\n",
        "# col=st.columns([2,1])\n",
        "# col[0].title('step by step')\n",
        "# if col[1].toggle('step by step',False):\n",
        "#   st.write(\"### A. ステップごとに表示\")\n",
        "#   if ss.now==0:\n",
        "#     st.write('#### step1')\n",
        "#     st.error('step1 process')\n",
        "#     buttons(ss.now)\n",
        "#   elif ss.now==1:\n",
        "#     st.write('#### step2')\n",
        "#     st.warning('step2 process')\n",
        "#     buttons(ss.now)\n",
        "\n",
        "#   elif ss.now==2:\n",
        "#     st.write('#### step3')\n",
        "#     st.info('step3 process')\n",
        "#     buttons(ss.now)\n",
        "\n",
        "#   else:\n",
        "#     st.write(\"#### success!\")\n",
        "#     st.success(\"success!\")\n",
        "#     buttons(ss.now)\n",
        "# else:\n",
        "#   st.write('### B. 全てを常時表示')\n",
        "#   st.write('#### step1')\n",
        "#   st.error('step1 process')\n",
        "#   st.write('#### step2')\n",
        "#   st.warning('step2 process')\n",
        "#   st.write('#### step3')\n",
        "#   st.info('step3 process')\n",
        "#   st.success('success!')"
      ],
      "metadata": {
        "id": "qrhSCjxneoyg"
      },
      "execution_count": 3,
      "outputs": []
    },
    {
      "cell_type": "code",
      "source": [
        "%%writefile app.py\n",
        "import streamlit as st\n",
        "import seaborn as sns\n",
        "\n",
        "ss=st.session_state\n",
        "\n",
        "DATA = [\n",
        "    \"anagrams\", \"anscombe\", \"attention\", \"car_crashes\", \"diamonds\",\n",
        "    \"dots\", \"dowjones\", \"exercise\", \"fmri\", \"geyser\",\n",
        "    \"glue\", \"healthexp\", \"iris\", \"mpg\", \"penguins\",\n",
        "    \"planets\", \"seaice\", \"taxis\", \"tips\", \"titanic\"]\n",
        "\n",
        "if 'now' not in ss:\n",
        "  ss.now=0\n",
        "  ss.rst=False\n",
        "def countup(reset):\n",
        "  ss.now+=1\n",
        "  ss.rst=reset\n",
        "def countdown():\n",
        "  ss.now-=1\n",
        "def reset():\n",
        "  ss.now=0\n",
        "\n",
        "def buttons(now, _reset=False):\n",
        "    col = st.columns([1,1,2])\n",
        "    if now <= 1:\n",
        "    #countupに引数を渡してる\n",
        "        col[0].button('次へ進む', on_click=countup, args=(_reset,))\n",
        "    if now >= 1:\n",
        "        col[1].button('前へ戻る', on_click=countdown)\n",
        "    if now >= 2:\n",
        "        col[2].button('はじめからやり直す', on_click=reset)\n",
        "\n",
        "st.title('seabornデータ')\n",
        "if ss.now==0:\n",
        "  st.write('### step1: select date')\n",
        "  st.info(\"There are Seaborn's dataset. Select for visible\")\n",
        "  if 'idx0' not in ss:\n",
        "    ss.idx0=0\n",
        "\n",
        "  #'': ラベルがないことを表す\n",
        "  #DATA: 選択肢のリスト\n",
        "  #ss.idx0: デフォルト値(0)\n",
        "  #label_visibility='collapsed': ラベルの非表示(collapsed: 折りたたむ)\n",
        "\n",
        "  ss.ds=st.radio('',DATA,ss.idx0,horizontal=True,label_visibility='collapsed')\n",
        "  #選択された内容と一致するインデックスを取得\n",
        "  ss.idx0=[i for i,e in enumerate(DATA) if e==ss.ds][0]\n",
        "  ss.df=sns.load_dataset(ss.ds)\n",
        "  st.write('select data:({},{})'.format(*ss.df.shape))\n",
        "  buttons(ss.now,True)\n",
        "elif ss.now==1:\n",
        "  st.write('### step2: select row')\n",
        "  st.info(f\"select row for visible in '{ss.ds}'\")\n",
        "  if 'flgl' not in ss or ss.rst:\n",
        "    ss.flgl=[False]*ss.df.shape[1]\n",
        "    ss.rst=False\n",
        "  for c,f in zip(ss.df.columns,ss.flgl):\n",
        "    ss[c]=st.checkbox(c,f)\n",
        "\n",
        "  ss.flgl=[ss[c] for c in ss.df.columns]\n",
        "  ss.clmn=ss.df.columns[ss.flgl]\n",
        "  buttons(ss.now)\n",
        "elif ss.now==2:\n",
        "  st.write('### step3: visible')\n",
        "  msg=st.empty()\n",
        "  if len(ss.clmn)==0:\n",
        "    msg.error('column is not selected')\n",
        "  else:\n",
        "    msg.success('visible was successed!')\n",
        "    col=st.columns([3,2])\n",
        "    with col[0]:\n",
        "      st.write('##### graph')\n",
        "      try:\n",
        "        st.line_chart(ss.df[ss.clmn])\n",
        "      except:\n",
        "        msg.error('error')\n",
        "    with col[1]:\n",
        "      st.write('##### table')\n",
        "      st.dataframe(ss.df[ss.clmn])\n",
        "  buttons(ss.now)"
      ],
      "metadata": {
        "colab": {
          "base_uri": "https://localhost:8080/"
        },
        "id": "6zOSnzmleYSm",
        "outputId": "53be7ad9-a56d-4d01-8ba3-f5d58715378e"
      },
      "execution_count": 10,
      "outputs": [
        {
          "output_type": "stream",
          "name": "stdout",
          "text": [
            "Overwriting app.py\n"
          ]
        }
      ]
    },
    {
      "cell_type": "code",
      "source": [
        "!pgrep ngrok|!kill -9"
      ],
      "metadata": {
        "colab": {
          "base_uri": "https://localhost:8080/"
        },
        "id": "CEYFMd8Ns1zU",
        "outputId": "8c51dd4f-e6fb-4b5d-a5ae-30e21fe0f00f"
      },
      "execution_count": 5,
      "outputs": [
        {
          "output_type": "stream",
          "name": "stdout",
          "text": [
            "/bin/bash: line 1: !kill: command not found\n"
          ]
        }
      ]
    },
    {
      "cell_type": "code",
      "source": [
        "!pkill ngrok"
      ],
      "metadata": {
        "id": "M2ObnZkos5Om"
      },
      "execution_count": 6,
      "outputs": []
    },
    {
      "cell_type": "code",
      "source": [
        "!ngrok authtoken 2PMf7scevefTRXrpSkwYS1bm7tj_633ppQEnDJon78KWHQtLq\n",
        "!streamlit run app.py &>/dev/null&\n",
        "\n",
        "from pyngrok import ngrok\n",
        "\n",
        "public_url=ngrok.connect(8501)\n",
        "print(\"URL:\",public_url)"
      ],
      "metadata": {
        "colab": {
          "base_uri": "https://localhost:8080/"
        },
        "id": "g4BkH21RfLds",
        "outputId": "f3ab68cc-a318-49cb-c647-29b0db1f1b03"
      },
      "execution_count": 11,
      "outputs": [
        {
          "output_type": "stream",
          "name": "stdout",
          "text": [
            "Authtoken saved to configuration file: /root/.config/ngrok/ngrok.yml\n",
            "URL: NgrokTunnel: \"https://ef17-35-194-35-244.ngrok-free.app\" -> \"http://localhost:8501\"\n"
          ]
        }
      ]
    }
  ]
}