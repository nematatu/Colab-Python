{
  "nbformat": 4,
  "nbformat_minor": 0,
  "metadata": {
    "colab": {
      "provenance": [],
      "authorship_tag": "ABX9TyNH1mp3u0mDYiqQhqxPN9qx",
      "include_colab_link": true
    },
    "kernelspec": {
      "name": "python3",
      "display_name": "Python 3"
    },
    "language_info": {
      "name": "python"
    }
  },
  "cells": [
    {
      "cell_type": "markdown",
      "metadata": {
        "id": "view-in-github",
        "colab_type": "text"
      },
      "source": [
        "<a href=\"https://colab.research.google.com/github/nematatu/Colab-Python/blob/master/kasoon_colab.ipynb\" target=\"_parent\"><img src=\"https://colab.research.google.com/assets/colab-badge.svg\" alt=\"Open In Colab\"/></a>"
      ]
    },
    {
      "cell_type": "code",
      "source": [
        "!pip install -q bing_image_downloader\n",
        "!pip install -q google-cloud-vision\n",
        "!pip install -q tensorflow\n",
        "!pip install -q Pillow\n",
        "!pip -q install icrawler"
      ],
      "metadata": {
        "id": "LFgTSEvh3Zoe",
        "outputId": "44b606f8-1d45-4b01-b246-998d07ca940d",
        "colab": {
          "base_uri": "https://localhost:8080/"
        }
      },
      "execution_count": null,
      "outputs": [
        {
          "output_type": "stream",
          "name": "stdout",
          "text": [
            "\u001b[?25l     \u001b[90m━━━━━━━━━━━━━━━━━━━━━━━━━━━━━━━━━━━━━━━━\u001b[0m \u001b[32m0.0/442.1 kB\u001b[0m \u001b[31m?\u001b[0m eta \u001b[36m-:--:--\u001b[0m\r\u001b[2K     \u001b[91m╸\u001b[0m\u001b[90m━━━━━━━━━━━━━━━━━━━━━━━━━━━━━━━━━━━━━━━\u001b[0m \u001b[32m10.2/442.1 kB\u001b[0m \u001b[31m?\u001b[0m eta \u001b[36m-:--:--\u001b[0m\r\u001b[2K     \u001b[91m━━━\u001b[0m\u001b[91m╸\u001b[0m\u001b[90m━━━━━━━━━━━━━━━━━━━━━━━━━━━━━━━━━━━━\u001b[0m \u001b[32m41.0/442.1 kB\u001b[0m \u001b[31m498.2 kB/s\u001b[0m eta \u001b[36m0:00:01\u001b[0m\r\u001b[2K     \u001b[91m━━━━━━━━━━━━━━━━━━\u001b[0m\u001b[91m╸\u001b[0m\u001b[90m━━━━━━━━━━━━━━━━━━━━━\u001b[0m \u001b[32m204.8/442.1 kB\u001b[0m \u001b[31m1.8 MB/s\u001b[0m eta \u001b[36m0:00:01\u001b[0m\r\u001b[2K     \u001b[91m━━━━━━━━━━━━━━━━━━━━━━━━━━━━━━━━━━━━━━━\u001b[0m\u001b[91m╸\u001b[0m \u001b[32m440.3/442.1 kB\u001b[0m \u001b[31m3.5 MB/s\u001b[0m eta \u001b[36m0:00:01\u001b[0m\r\u001b[2K     \u001b[90m━━━━━━━━━━━━━━━━━━━━━━━━━━━━━━━━━━━━━━━━\u001b[0m \u001b[32m442.1/442.1 kB\u001b[0m \u001b[31m2.6 MB/s\u001b[0m eta \u001b[36m0:00:00\u001b[0m\n",
            "\u001b[?25h"
          ]
        }
      ]
    },
    {
      "cell_type": "code",
      "execution_count": null,
      "metadata": {
        "id": "ND4MnQoot1AX"
      },
      "outputs": [],
      "source": [
        "from bing_image_downloader import downloader\n",
        "from google.cloud import vision\n",
        "import google.cloud.vision_v1.types as types\n",
        "from PIL import Image as PILImage\n",
        "from PIL import ImageOps\n",
        "import os\n",
        "import random\n",
        "import shutil\n",
        "import tensorflow as tf\n",
        "import keras\n",
        "from tensorflow.keras.preprocessing.image import ImageDataGenerator\n",
        "import cv2\n",
        "import glob\n",
        "from scipy import ndimage\n",
        "from icrawler.builtin import GoogleImageCrawler\n",
        "\n",
        "from google.colab import drive\n",
        "from IPython.display import Image,display_jpeg"
      ]
    },
    {
      "cell_type": "code",
      "source": [
        "!rm -rf ./ds ./img"
      ],
      "metadata": {
        "id": "YLROvhuBzkTH"
      },
      "execution_count": null,
      "outputs": []
    },
    {
      "cell_type": "code",
      "source": [
        "drive.mount('/content/drive')"
      ],
      "metadata": {
        "colab": {
          "base_uri": "https://localhost:8080/"
        },
        "id": "xaeTw4b05XpL",
        "outputId": "7a6a5c34-2b08-43c6-8c19-14c51f3987ca"
      },
      "execution_count": null,
      "outputs": [
        {
          "output_type": "stream",
          "name": "stdout",
          "text": [
            "Mounted at /content/drive\n"
          ]
        }
      ]
    },
    {
      "cell_type": "code",
      "source": [
        "!readlink -f drive/MyDrive/Colab\\ Notebooks/kasoon_colab/fluted-oath-407809-b8c332499f57.json"
      ],
      "metadata": {
        "colab": {
          "base_uri": "https://localhost:8080/"
        },
        "id": "zo2gw9jY0RwQ",
        "outputId": "fbd8a8a6-9018-46d8-8580-d129a07b541a"
      },
      "execution_count": null,
      "outputs": [
        {
          "output_type": "stream",
          "name": "stdout",
          "text": [
            "/content/drive/MyDrive/Colab Notebooks/kasoon_colab/fluted-oath-407809-b8c332499f57.json\n"
          ]
        }
      ]
    },
    {
      "cell_type": "code",
      "source": [
        "google_auth_path='/content/drive/MyDrive/Colab\\ Notebooks/kasoon_colab/fluted-oath-407809-b8c332499f57.json'"
      ],
      "metadata": {
        "id": "AxYwWHUD8315"
      },
      "execution_count": null,
      "outputs": []
    },
    {
      "cell_type": "code",
      "source": [
        "os.environ[\"GOOGLE_APPLICATION_CREDENTIALS\"] ='/content/drive/MyDrive/開発/kasoon/fluted-oath-407809-b8c332499f57.json'\n"
      ],
      "metadata": {
        "id": "acslmR7m7XvP"
      },
      "execution_count": null,
      "outputs": []
    },
    {
      "cell_type": "code",
      "source": [
        "from bing_image_downloader import downloader\n",
        "query_string = '伊織もえ'\n",
        "\n",
        "downloader.download(query_string,limit=200,output_dir=r'./img',adult_filter_off=False,timeout=500,verbose= True)"
      ],
      "metadata": {
        "collapsed": true,
        "id": "d5X7R1kk2DHP"
      },
      "execution_count": null,
      "outputs": []
    },
    {
      "cell_type": "code",
      "source": [
        "query_string=\"伊織もえ\"\n",
        "\n",
        "\n",
        "if not os.path.exists('./img'):\n",
        "  os.mkdir('./img')\n",
        "save_directory = os.path.join(\"./img\",query_string) # 保存先ディレクトリ\n",
        "if not os.path.exists(save_directory):\n",
        "  os.mkdir(save_directory)\n",
        "google_crawler = GoogleImageCrawler(storage={\"root_dir\": save_directory})\n",
        "num_images = 100 # 取得する画像の数\n",
        "google_crawler.crawl(keyword=query_string, max_num=num_images)"
      ],
      "metadata": {
        "id": "y5r5U1bz8ibO",
        "outputId": "19b514cc-37ae-4e3b-f338-20c126091263",
        "colab": {
          "base_uri": "https://localhost:8080/"
        }
      },
      "execution_count": null,
      "outputs": [
        {
          "output_type": "stream",
          "name": "stderr",
          "text": [
            "ERROR:downloader:Response status code 404, file https://upload.wikimedia.org/wikipedia/commons/thumb/5/56/Comic_Market_99_Day_1_Iori_Moe_%2851823744431%29.jpg\n",
            "ERROR:downloader:Response status code 400, file https://thumbor.4gamers.com.tw/LFSLjZq45SX9SdPRmwI6JhY_Spg\\u003d/adaptive-fit-in/1200x1200/filters:no_upscale():extract_cover():format(jpeg):quality(85)/https%3A%2F%2Fugc-media.4gamers.com.tw%2Fpuku-prod-zh%2Fanonymous-story%2F4a0053f5-8994-4ea9-bc50-624b2bd682cc.jpg\n",
            "ERROR:downloader:Response status code 403, file https://bunshun.ismcdn.jp/mwimgs/7/4/750wm/img_749756074560f6443a85110b7e1d594c569631.jpg\n"
          ]
        }
      ]
    },
    {
      "cell_type": "code",
      "source": [
        "!ls -l img/伊織もえ|wc -l"
      ],
      "metadata": {
        "colab": {
          "base_uri": "https://localhost:8080/"
        },
        "id": "1OFJrRvUA6Er",
        "outputId": "6fa58ad4-c976-4b86-97be-92ef7baba931"
      },
      "execution_count": null,
      "outputs": [
        {
          "output_type": "stream",
          "name": "stdout",
          "text": [
            "66\n"
          ]
        }
      ]
    },
    {
      "cell_type": "code",
      "source": [
        "display_jpeg(Image(f'img/{query_string}/000010.jpg'))"
      ],
      "metadata": {
        "colab": {
          "base_uri": "https://localhost:8080/",
          "height": 446
        },
        "id": "9-_uqcsT-AEc",
        "outputId": "d8cb1530-88ae-44c1-a3f8-9cf38cf3c2c1",
        "collapsed": true
      },
      "execution_count": null,
      "outputs": [
        {
          "output_type": "error",
          "ename": "FileNotFoundError",
          "evalue": "ignored",
          "traceback": [
            "\u001b[0;31m---------------------------------------------------------------------------\u001b[0m",
            "\u001b[0;31mTypeError\u001b[0m                                 Traceback (most recent call last)",
            "\u001b[0;32m/usr/local/lib/python3.10/dist-packages/IPython/core/display.py\u001b[0m in \u001b[0;36m_data_and_metadata\u001b[0;34m(self, always_both)\u001b[0m\n\u001b[1;32m   1299\u001b[0m         \u001b[0;32mtry\u001b[0m\u001b[0;34m:\u001b[0m\u001b[0;34m\u001b[0m\u001b[0;34m\u001b[0m\u001b[0m\n\u001b[0;32m-> 1300\u001b[0;31m             \u001b[0mb64_data\u001b[0m \u001b[0;34m=\u001b[0m \u001b[0mb2a_base64\u001b[0m\u001b[0;34m(\u001b[0m\u001b[0mself\u001b[0m\u001b[0;34m.\u001b[0m\u001b[0mdata\u001b[0m\u001b[0;34m)\u001b[0m\u001b[0;34m.\u001b[0m\u001b[0mdecode\u001b[0m\u001b[0;34m(\u001b[0m\u001b[0;34m'ascii'\u001b[0m\u001b[0;34m)\u001b[0m\u001b[0;34m\u001b[0m\u001b[0;34m\u001b[0m\u001b[0m\n\u001b[0m\u001b[1;32m   1301\u001b[0m         \u001b[0;32mexcept\u001b[0m \u001b[0mTypeError\u001b[0m\u001b[0;34m:\u001b[0m\u001b[0;34m\u001b[0m\u001b[0;34m\u001b[0m\u001b[0m\n",
            "\u001b[0;31mTypeError\u001b[0m: a bytes-like object is required, not 'str'",
            "\nDuring handling of the above exception, another exception occurred:\n",
            "\u001b[0;31mFileNotFoundError\u001b[0m                         Traceback (most recent call last)",
            "\u001b[0;32m/usr/local/lib/python3.10/dist-packages/IPython/core/formatters.py\u001b[0m in \u001b[0;36m__call__\u001b[0;34m(self, obj, include, exclude)\u001b[0m\n\u001b[1;32m    968\u001b[0m \u001b[0;34m\u001b[0m\u001b[0m\n\u001b[1;32m    969\u001b[0m             \u001b[0;32mif\u001b[0m \u001b[0mmethod\u001b[0m \u001b[0;32mis\u001b[0m \u001b[0;32mnot\u001b[0m \u001b[0;32mNone\u001b[0m\u001b[0;34m:\u001b[0m\u001b[0;34m\u001b[0m\u001b[0;34m\u001b[0m\u001b[0m\n\u001b[0;32m--> 970\u001b[0;31m                 \u001b[0;32mreturn\u001b[0m \u001b[0mmethod\u001b[0m\u001b[0;34m(\u001b[0m\u001b[0minclude\u001b[0m\u001b[0;34m=\u001b[0m\u001b[0minclude\u001b[0m\u001b[0;34m,\u001b[0m \u001b[0mexclude\u001b[0m\u001b[0;34m=\u001b[0m\u001b[0mexclude\u001b[0m\u001b[0;34m)\u001b[0m\u001b[0;34m\u001b[0m\u001b[0;34m\u001b[0m\u001b[0m\n\u001b[0m\u001b[1;32m    971\u001b[0m             \u001b[0;32mreturn\u001b[0m \u001b[0;32mNone\u001b[0m\u001b[0;34m\u001b[0m\u001b[0;34m\u001b[0m\u001b[0m\n\u001b[1;32m    972\u001b[0m         \u001b[0;32melse\u001b[0m\u001b[0;34m:\u001b[0m\u001b[0;34m\u001b[0m\u001b[0;34m\u001b[0m\u001b[0m\n",
            "\u001b[0;32m/usr/local/lib/python3.10/dist-packages/IPython/core/display.py\u001b[0m in \u001b[0;36m_repr_mimebundle_\u001b[0;34m(self, include, exclude)\u001b[0m\n\u001b[1;32m   1288\u001b[0m         \u001b[0;32mif\u001b[0m \u001b[0mself\u001b[0m\u001b[0;34m.\u001b[0m\u001b[0membed\u001b[0m\u001b[0;34m:\u001b[0m\u001b[0;34m\u001b[0m\u001b[0;34m\u001b[0m\u001b[0m\n\u001b[1;32m   1289\u001b[0m             \u001b[0mmimetype\u001b[0m \u001b[0;34m=\u001b[0m \u001b[0mself\u001b[0m\u001b[0;34m.\u001b[0m\u001b[0m_mimetype\u001b[0m\u001b[0;34m\u001b[0m\u001b[0;34m\u001b[0m\u001b[0m\n\u001b[0;32m-> 1290\u001b[0;31m             \u001b[0mdata\u001b[0m\u001b[0;34m,\u001b[0m \u001b[0mmetadata\u001b[0m \u001b[0;34m=\u001b[0m \u001b[0mself\u001b[0m\u001b[0;34m.\u001b[0m\u001b[0m_data_and_metadata\u001b[0m\u001b[0;34m(\u001b[0m\u001b[0malways_both\u001b[0m\u001b[0;34m=\u001b[0m\u001b[0;32mTrue\u001b[0m\u001b[0;34m)\u001b[0m\u001b[0;34m\u001b[0m\u001b[0;34m\u001b[0m\u001b[0m\n\u001b[0m\u001b[1;32m   1291\u001b[0m             \u001b[0;32mif\u001b[0m \u001b[0mmetadata\u001b[0m\u001b[0;34m:\u001b[0m\u001b[0;34m\u001b[0m\u001b[0;34m\u001b[0m\u001b[0m\n\u001b[1;32m   1292\u001b[0m                 \u001b[0mmetadata\u001b[0m \u001b[0;34m=\u001b[0m \u001b[0;34m{\u001b[0m\u001b[0mmimetype\u001b[0m\u001b[0;34m:\u001b[0m \u001b[0mmetadata\u001b[0m\u001b[0;34m}\u001b[0m\u001b[0;34m\u001b[0m\u001b[0;34m\u001b[0m\u001b[0m\n",
            "\u001b[0;32m/usr/local/lib/python3.10/dist-packages/IPython/core/display.py\u001b[0m in \u001b[0;36m_data_and_metadata\u001b[0;34m(self, always_both)\u001b[0m\n\u001b[1;32m   1300\u001b[0m             \u001b[0mb64_data\u001b[0m \u001b[0;34m=\u001b[0m \u001b[0mb2a_base64\u001b[0m\u001b[0;34m(\u001b[0m\u001b[0mself\u001b[0m\u001b[0;34m.\u001b[0m\u001b[0mdata\u001b[0m\u001b[0;34m)\u001b[0m\u001b[0;34m.\u001b[0m\u001b[0mdecode\u001b[0m\u001b[0;34m(\u001b[0m\u001b[0;34m'ascii'\u001b[0m\u001b[0;34m)\u001b[0m\u001b[0;34m\u001b[0m\u001b[0;34m\u001b[0m\u001b[0m\n\u001b[1;32m   1301\u001b[0m         \u001b[0;32mexcept\u001b[0m \u001b[0mTypeError\u001b[0m\u001b[0;34m:\u001b[0m\u001b[0;34m\u001b[0m\u001b[0;34m\u001b[0m\u001b[0m\n\u001b[0;32m-> 1302\u001b[0;31m             raise FileNotFoundError(\n\u001b[0m\u001b[1;32m   1303\u001b[0m                 \"No such file or directory: '%s'\" % (self.data))\n\u001b[1;32m   1304\u001b[0m         \u001b[0mmd\u001b[0m \u001b[0;34m=\u001b[0m \u001b[0;34m{\u001b[0m\u001b[0;34m}\u001b[0m\u001b[0;34m\u001b[0m\u001b[0;34m\u001b[0m\u001b[0m\n",
            "\u001b[0;31mFileNotFoundError\u001b[0m: No such file or directory: 'img/伊織もえ/000010.jpg'"
          ]
        }
      ]
    },
    {
      "cell_type": "code",
      "source": [
        "#def: 顔の検知\n",
        "def detect_face(image_path):\n",
        "    client=vision.ImageAnnotatorClient()\n",
        "    #コードブロックが終わったら自動でfileが閉じる\n",
        "    #メモリの効率化\n",
        "    #引数で取ったiamge_pathを'rb'バイナリファイルを読み込む\n",
        "    with open(image_path, 'rb') as file:\n",
        "        #読み込んだバイナリファイルを画像形式に変換している\n",
        "        image=types.Image(content=file.read())\n",
        "        #GCV APIのface_detection()を使って画像内の顔を検出する\n",
        "        #そのうち、顔の情報を含むface_annotationsオブジェクトを返す\n",
        "        annotations=client.face_detection(image=image).face_annotations\n",
        "\n",
        "    face_boxes=[]\n",
        "\n",
        "    for annotation in annotations:\n",
        "        #annotation(顔の情報)の境界ボックス(bounding_poly)の座標情報(vertices)を取得\n",
        "        #リスト内包表記で、うちx座標のみをリストに格納\n",
        "        x_s=[vertex.x for vertex in annotation.bounding_poly.vertices]\n",
        "        y_s=[vertex.y for vertex in annotation.bounding_poly.vertices]\n",
        "        face_boxes.append((min(x_s),min(y_s),max(x_s),max(y_s)))\n",
        "    return face_boxes"
      ],
      "metadata": {
        "id": "XZ3XpT9HtFlP"
      },
      "execution_count": null,
      "outputs": []
    },
    {
      "cell_type": "code",
      "source": [
        "#def: データセットの分割\n",
        "train_dir_path='./ds/train'\n",
        "test_dir_path='./ds/test'\n",
        "\n",
        "def split_dataset(image_dir_path):\n",
        "  print(\"データセットの分割を開始します\")\n",
        "  file_list=os.listdir(image_dir_path)\n",
        "  random.shuffle(file_list)\n",
        "\n",
        "  dir_name=image_dir_path.split('/')[-1]\n",
        "  train_size=int(len(file_list)*0.8)\n",
        "  print(f\"images:{int(len(file_list))}\")\n",
        "  print(f\"train:{train_size}\")\n",
        "  if not os.path.exists('./ds'):\n",
        "    os.mkdir('./ds')\n",
        "    os.mkdir(train_dir_path)\n",
        "    os.mkdir(test_dir_path)\n",
        "    os.mkdir(os.path.join(test_dir_path,dir_name))\n",
        "    os.mkdir(os.path.join(train_dir_path,dir_name))\n",
        "  for i, file in enumerate(file_list):\n",
        "    if i < train_size:\n",
        "      shutil.copy(os.path.join(image_dir_path, file), os.path.join(train_dir_path,dir_name, file))\n",
        "    else:\n",
        "      shutil.copy(os.path.join(image_dir_path, file), os.path.join(test_dir_path, dir_name,file))\n",
        "  print(\"データセットの分割が終了しました！\")"
      ],
      "metadata": {
        "id": "2hcowIYdxshd"
      },
      "execution_count": null,
      "outputs": []
    },
    {
      "cell_type": "code",
      "source": [
        "!printenv GOOGLE_APPLICATION_CREDENTIALS\n",
        "#/content/drive/MyDrive/開発/kasoon/fluted-oath-407809-b8c332499f57.json"
      ],
      "metadata": {
        "colab": {
          "base_uri": "https://localhost:8080/"
        },
        "id": "yOTEDMQ9RtJy",
        "outputId": "9ddb6f41-aea4-4e1a-c926-17499b0f6c1b"
      },
      "execution_count": null,
      "outputs": [
        {
          "output_type": "stream",
          "name": "stdout",
          "text": [
            "/content/drive/MyDrive/開発/kasoon/fluted-oath-407809-b8c332499f57.json\n"
          ]
        }
      ]
    },
    {
      "cell_type": "code",
      "source": [
        "#def: 底上げ\n",
        "def false_buttom(in_dir):\n",
        "  print(f\"{query_string}の写真を水増しします\")\n",
        "  out_dir = \"./img/Edited/\" + query_string\n",
        "  if not os.path.exists(os.path.join(\"./img\",\"Edited\")):\n",
        "    os.mkdir(os.path.join(\"./img\",\"Edited\"))\n",
        "  if not os.path.exists(out_dir):\n",
        "    os.mkdir(out_dir)\n",
        "  in_jpg = glob.glob(os.path.join(in_dir,'*'))\n",
        "  for i in range(len(in_jpg)):\n",
        "      img = cv2.imread(str(in_jpg[i]))\n",
        "      print(str(in_jpg[i]))\n",
        "      for ang in [-10, 0, 10]:\n",
        "          img_rot = ndimage.rotate(img, ang)\n",
        "          fileName = os.path.join(out_dir, str(i) + \"_\" + str(ang) + \".jpg\")\n",
        "          cv2.imwrite(str(fileName), img_rot)\n",
        "          retval, img_thr = cv2.threshold(img_rot, 100, 255, cv2.THRESH_TOZERO)\n",
        "          fileName = os.path.join(out_dir, str(i) + \"_\" + str(ang) + \"thr.jpg\")\n",
        "          cv2.imwrite(str(fileName), img_thr)\n",
        "          img_filter = cv2.GaussianBlur(img_rot, (5, 5), 0)\n",
        "          fileName = os.path.join(out_dir, str(i) + \"_\" + str(ang) + \"filter.jpg\")\n",
        "          cv2.imwrite(str(fileName), img_filter)\n",
        "  print(\"画像の水増しに大成功しました！\")"
      ],
      "metadata": {
        "collapsed": true,
        "id": "mNEgoyg06gc8"
      },
      "execution_count": null,
      "outputs": []
    },
    {
      "cell_type": "code",
      "source": [
        "#body\n",
        "max_margin=0.2\n",
        "image_dir_path=os.path.join('./img',query_string)\n",
        "file_list=os.listdir(image_dir_path)\n",
        "image_size=(128,128)\n",
        "\n",
        "for img in file_list:\n",
        "    new_img=os.path.join(image_dir_path,img)\n",
        "    target_name=image_dir_path.split('/')[-1]\n",
        "    print(new_img)\n",
        "\n",
        "    if img.endswith('.jpg') or img.endswith('.png') or img.endswith('.jpeg'):\n",
        "        #faces=img+'_face'\n",
        "        #GoogleDriveのパスを空白を含めないディレクトリに変更したら行けた\n",
        "        faces=detect_face(new_img)\n",
        "\n",
        "        if len(faces)>0:\n",
        "            #PILライブラリのImage.open()で画像を開く\n",
        "            #from PIL import Image as PILImageとしたらいけた\n",
        "            #恐らく、GoogleColab内でImageという変数が重複してる\n",
        "            image=PILImage.open(new_img).convert('RGB')\n",
        "\n",
        "            x1,y1,x2,y2=faces[0]\n",
        "            w=x2-x1\n",
        "            h=y2-y1\n",
        "\n",
        "            spaces_x = min(x1, image.width - x2, int(float(w) * max_margin))\n",
        "            spaces_y = min(y1,image.height-y2,int(float(h)*max_margin))\n",
        "            margin=min(spaces_x,spaces_y)\n",
        "\n",
        "            cropped_img=image.crop((\n",
        "                x1-margin,\n",
        "                y1-margin,\n",
        "                x2+margin,\n",
        "                y2+margin\n",
        "            ))\n",
        "            #ImageOps:切り取り\n",
        "            cropped_img=ImageOps.contain(cropped_img,image_size)\n",
        "\n",
        "            directory='face_cropped'\n",
        "            new_directory=os.path.join('./img',directory,target_name)\n",
        "\n",
        "            if not os.path.exists(os.path.join('./img',directory)):\n",
        "              os.mkdir(os.path.join('./img',directory))\n",
        "            if not os.path.exists(new_directory):\n",
        "                os.mkdir(new_directory)\n",
        "\n",
        "            cropped_img.save(os.path.join(new_directory,f'cropped_{img}'))\n",
        "\n",
        "false_buttom(os.path.join(\"./img\",\"face_cropped\",query_string))\n",
        "split_dataset(os.path.join('./img','Edited',query_string))\n",
        "\n"
      ],
      "metadata": {
        "colab": {
          "base_uri": "https://localhost:8080/"
        },
        "collapsed": true,
        "id": "wep2ckpB48wQ",
        "outputId": "a274b188-bcc4-43f1-ed8c-761dff025c36"
      },
      "execution_count": null,
      "outputs": [
        {
          "output_type": "stream",
          "name": "stdout",
          "text": [
            "./img/伊織もえ/000055.jpg\n",
            "./img/伊織もえ/000053.jpg\n",
            "./img/伊織もえ/000054.jpg\n",
            "./img/伊織もえ/000026.png\n",
            "./img/伊織もえ/000058.jpg\n",
            "./img/伊織もえ/000029.jpg\n",
            "./img/伊織もえ/000040.jpg\n",
            "./img/伊織もえ/000047.jpg\n",
            "./img/伊織もえ/000039.jpg\n",
            "./img/伊織もえ/000009.jpg\n",
            "./img/伊織もえ/000049.jpg\n",
            "./img/伊織もえ/000027.jpg\n",
            "./img/伊織もえ/000041.jpg\n",
            "./img/伊織もえ/000035.jpg\n",
            "./img/伊織もえ/000018.jpg\n",
            "./img/伊織もえ/000022.jpg\n",
            "./img/伊織もえ/000014.jpg\n",
            "./img/伊織もえ/000006.jpg\n",
            "./img/伊織もえ/000042.jpg\n",
            "./img/伊織もえ/000008.jpg\n",
            "./img/伊織もえ/000023.jpg\n",
            "./img/伊織もえ/000059.jpg\n",
            "./img/伊織もえ/000025.jpg\n",
            "./img/伊織もえ/000038.jpg\n",
            "./img/伊織もえ/000013.jpg\n",
            "./img/伊織もえ/000001.jpg\n",
            "./img/伊織もえ/000011.jpg\n",
            "./img/伊織もえ/000046.jpg\n",
            "./img/伊織もえ/000007.jpg\n",
            "./img/伊織もえ/000033.jpg\n",
            "./img/伊織もえ/000032.jpg\n",
            "./img/伊織もえ/000063.jpg\n",
            "./img/伊織もえ/000017.jpg\n",
            "./img/伊織もえ/000061.jpg\n",
            "./img/伊織もえ/000044.jpg\n",
            "./img/伊織もえ/000057.jpg\n",
            "./img/伊織もえ/000048.jpg\n",
            "./img/伊織もえ/000045.jpg\n",
            "./img/伊織もえ/000034.jpg\n",
            "./img/伊織もえ/000060.jpg\n",
            "./img/伊織もえ/000036.jpg\n",
            "./img/伊織もえ/000064.jpg\n",
            "./img/伊織もえ/000050.jpg\n",
            "./img/伊織もえ/000021.jpg\n",
            "./img/伊織もえ/000051.jpg\n",
            "./img/伊織もえ/000010.png\n"
          ]
        },
        {
          "output_type": "stream",
          "name": "stderr",
          "text": [
            "/usr/local/lib/python3.10/dist-packages/PIL/Image.py:996: UserWarning: Palette images with Transparency expressed in bytes should be converted to RGBA images\n",
            "  warnings.warn(\n"
          ]
        },
        {
          "output_type": "stream",
          "name": "stdout",
          "text": [
            "./img/伊織もえ/000065.jpg\n",
            "./img/伊織もえ/000024.jpg\n",
            "./img/伊織もえ/000015.jpg\n",
            "./img/伊織もえ/000056.jpg\n",
            "./img/伊織もえ/000028.jpg\n",
            "./img/伊織もえ/000052.jpg\n",
            "./img/伊織もえ/000019.jpg\n",
            "./img/伊織もえ/000031.jpg\n",
            "./img/伊織もえ/000043.jpg\n",
            "./img/伊織もえ/000030.jpg\n",
            "./img/伊織もえ/000062.jpg\n",
            "./img/伊織もえ/000016.jpg\n",
            "./img/伊織もえ/000003.jpg\n",
            "./img/伊織もえ/000005.jpg\n",
            "./img/伊織もえ/000002.jpg\n",
            "./img/伊織もえ/000037.jpg\n",
            "./img/伊織もえ/000020.jpg\n",
            "./img/伊織もえ/000012.jpg\n",
            "./img/伊織もえ/000004.jpg\n",
            "伊織もえの写真を水増しします\n",
            "./img/face_cropped/伊織もえ/cropped_000009.jpg\n",
            "./img/face_cropped/伊織もえ/cropped_000011.jpg\n",
            "./img/face_cropped/伊織もえ/cropped_000059.jpg\n",
            "./img/face_cropped/伊織もえ/cropped_000026.png\n",
            "./img/face_cropped/伊織もえ/cropped_000002.jpg\n",
            "./img/face_cropped/伊織もえ/cropped_000040.jpg\n",
            "./img/face_cropped/伊織もえ/cropped_000033.jpg\n",
            "./img/face_cropped/伊織もえ/cropped_000005.jpg\n",
            "./img/face_cropped/伊織もえ/cropped_000047.jpg\n",
            "./img/face_cropped/伊織もえ/cropped_000046.jpg\n",
            "./img/face_cropped/伊織もえ/cropped_000017.jpg\n",
            "./img/face_cropped/伊織もえ/cropped_000029.jpg\n",
            "./img/face_cropped/伊織もえ/cropped_000010.png\n",
            "./img/face_cropped/伊織もえ/cropped_000043.jpg\n",
            "./img/face_cropped/伊織もえ/cropped_000045.jpg\n",
            "./img/face_cropped/伊織もえ/cropped_000062.jpg\n",
            "./img/face_cropped/伊織もえ/cropped_000058.jpg\n",
            "./img/face_cropped/伊織もえ/cropped_000028.jpg\n",
            "./img/face_cropped/伊織もえ/cropped_000035.jpg\n",
            "./img/face_cropped/伊織もえ/cropped_000019.jpg\n",
            "./img/face_cropped/伊織もえ/cropped_000036.jpg\n",
            "./img/face_cropped/伊織もえ/cropped_000053.jpg\n",
            "./img/face_cropped/伊織もえ/cropped_000031.jpg\n",
            "./img/face_cropped/伊織もえ/cropped_000032.jpg\n",
            "./img/face_cropped/伊織もえ/cropped_000064.jpg\n",
            "./img/face_cropped/伊織もえ/cropped_000018.jpg\n",
            "./img/face_cropped/伊織もえ/cropped_000001.jpg\n",
            "./img/face_cropped/伊織もえ/cropped_000030.jpg\n",
            "./img/face_cropped/伊織もえ/cropped_000003.jpg\n",
            "./img/face_cropped/伊織もえ/cropped_000042.jpg\n",
            "./img/face_cropped/伊織もえ/cropped_000056.jpg\n",
            "./img/face_cropped/伊織もえ/cropped_000041.jpg\n",
            "./img/face_cropped/伊織もえ/cropped_000006.jpg\n",
            "./img/face_cropped/伊織もえ/cropped_000022.jpg\n",
            "./img/face_cropped/伊織もえ/cropped_000065.jpg\n",
            "./img/face_cropped/伊織もえ/cropped_000051.jpg\n",
            "./img/face_cropped/伊織もえ/cropped_000013.jpg\n",
            "./img/face_cropped/伊織もえ/cropped_000057.jpg\n",
            "./img/face_cropped/伊織もえ/cropped_000023.jpg\n",
            "./img/face_cropped/伊織もえ/cropped_000052.jpg\n",
            "./img/face_cropped/伊織もえ/cropped_000004.jpg\n",
            "./img/face_cropped/伊織もえ/cropped_000044.jpg\n",
            "./img/face_cropped/伊織もえ/cropped_000039.jpg\n",
            "./img/face_cropped/伊織もえ/cropped_000055.jpg\n",
            "./img/face_cropped/伊織もえ/cropped_000021.jpg\n",
            "./img/face_cropped/伊織もえ/cropped_000020.jpg\n",
            "./img/face_cropped/伊織もえ/cropped_000034.jpg\n",
            "./img/face_cropped/伊織もえ/cropped_000007.jpg\n",
            "./img/face_cropped/伊織もえ/cropped_000050.jpg\n",
            "./img/face_cropped/伊織もえ/cropped_000008.jpg\n",
            "./img/face_cropped/伊織もえ/cropped_000061.jpg\n",
            "./img/face_cropped/伊織もえ/cropped_000038.jpg\n",
            "./img/face_cropped/伊織もえ/cropped_000054.jpg\n",
            "./img/face_cropped/伊織もえ/cropped_000027.jpg\n",
            "./img/face_cropped/伊織もえ/cropped_000048.jpg\n",
            "./img/face_cropped/伊織もえ/cropped_000060.jpg\n",
            "./img/face_cropped/伊織もえ/cropped_000025.jpg\n",
            "./img/face_cropped/伊織もえ/cropped_000014.jpg\n",
            "./img/face_cropped/伊織もえ/cropped_000063.jpg\n",
            "./img/face_cropped/伊織もえ/cropped_000015.jpg\n",
            "./img/face_cropped/伊織もえ/cropped_000016.jpg\n",
            "./img/face_cropped/伊織もえ/cropped_000037.jpg\n",
            "./img/face_cropped/伊織もえ/cropped_000024.jpg\n",
            "./img/face_cropped/伊織もえ/cropped_000049.jpg\n",
            "画像の水増しに大成功しました！\n",
            "データセットの分割を開始します\n",
            "images:576\n",
            "train:460\n",
            "データセットの分割が終了しました！\n"
          ]
        }
      ]
    },
    {
      "cell_type": "code",
      "source": [
        "# file_list=os.listdir(os.path.join('./img','face_cropped',image_dir_path.split('/')[-1]))\n",
        "# print(os.path.join('./img','face_cropped',image_dir_path.split('/')[-1]))\n",
        "# file_num=int(len(file_list)*0.8)\n",
        "# print(f\"file_num:\",file_num)\n",
        "# for i, file in enumerate(file_list):\n",
        "#   print(file.split('_')[-1].split('.')[0])\n",
        "#   if i<file_num:\n",
        "#     print(f\"train{i}:{file}\")\n",
        "#   if i>file_num:\n",
        "#     print(f\"test{i}:{file}\")"
      ],
      "metadata": {
        "collapsed": true,
        "id": "6uhDLJpLlJFV"
      },
      "execution_count": null,
      "outputs": []
    },
    {
      "cell_type": "code",
      "source": [
        "display(Image(\"./img/Edited/伊織もえ/0_-10.jpg\"))\n",
        "display(Image(\"./img/Edited/伊織もえ/0_-10thr.jpg\"))\n",
        "display(Image(\"./img/Edited/伊織もえ/0_-10filter.jpg\"))"
      ],
      "metadata": {
        "collapsed": true,
        "id": "gNlNjYli7qE5",
        "outputId": "94259c8b-0ff9-40a3-96cf-755a8c9cdd98",
        "colab": {
          "base_uri": "https://localhost:8080/",
          "height": 455
        }
      },
      "execution_count": null,
      "outputs": [
        {
          "output_type": "display_data",
          "data": {
            "image/jpeg": "[encoded data removed]",
            "text/plain": [
              "<IPython.core.display.Image object>"
            ]
          },
          "metadata": {}
        },
        {
          "output_type": "display_data",
          "data": {
            "image/jpeg": "[encoded data removed]",
            "text/plain": [
              "<IPython.core.display.Image object>"
            ]
          },
          "metadata": {}
        },
        {
          "output_type": "display_data",
          "data": {
            "image/jpeg": "[encoded data removed]",
            "text/plain": [
              "<IPython.core.display.Image object>"
            ]
          },
          "metadata": {}
        }
      ]
    },
    {
      "cell_type": "code",
      "source": [
        "#画像ディレクトリの読み込み\n",
        "\n",
        "#ここで伊織もえまで含めない\n",
        "train_dir_path='./ds/train/'\n",
        "test_dir_path='./ds/test/'\n",
        "image_size=128\n",
        "batch_size=3\n",
        "\n",
        "train_datagen=ImageDataGenerator(\n",
        "    rescale=1./255,\n",
        "    zoom_range=0.2,\n",
        "    horizontal_flip=True,\n",
        "    rotation_range=0.5\n",
        ")\n",
        "\n",
        "test_datagen=ImageDataGenerator(\n",
        "    rescale=1./255\n",
        ")\n",
        "\n",
        "train_generator=train_datagen.flow_from_directory(\n",
        "    train_dir_path,\n",
        "    target_size=(image_size,image_size),\n",
        "    batch_size=batch_size,\n",
        "    class_mode=\"categorical\"\n",
        ")\n",
        "\n",
        "test_generator=test_datagen.flow_from_directory(\n",
        "    test_dir_path,\n",
        "    target_size=(image_size,image_size),\n",
        "    batch_size=batch_size,\n",
        "    class_mode=\"categorical\"\n",
        ")"
      ],
      "metadata": {
        "colab": {
          "base_uri": "https://localhost:8080/"
        },
        "id": "2eFggEgdcwj2",
        "outputId": "550422c5-f3b5-4e99-b5c9-a265d3a54a63"
      },
      "execution_count": null,
      "outputs": [
        {
          "output_type": "stream",
          "name": "stdout",
          "text": [
            "Found 460 images belonging to 1 classes.\n",
            "Found 116 images belonging to 1 classes.\n"
          ]
        }
      ]
    },
    {
      "cell_type": "code",
      "source": [
        "#!rm -rf ./ds"
      ],
      "metadata": {
        "id": "RwzrzsBQyWzM"
      },
      "execution_count": null,
      "outputs": []
    },
    {
      "cell_type": "code",
      "source": [
        "#モデルの作成\n",
        "num_categories=2\n",
        "model = keras.Sequential()\n",
        "#Conv2D:二次元の畳み込みレイヤを追加\n",
        "#Conv(特徴を出力する数,(カーネルのサイズ),入力画像の大きさとチャンネル数。ここではRGBの3チャンネル)\n",
        "model.add(keras.layers.Conv2D(32,(3,3),input_shape=(image_size,image_size,3)))\n",
        "#活性化関数で非線形を導入することで複雑な学習ができるらしい\n",
        "model.add(keras.layers.Activation('relu'))\n",
        "#MaxPoolingで(2,2)で動きながらそこでの最大値のみを取る\n",
        "#Convで特徴量を出力した後にやるのでデータサイズの効率化とか\n",
        "model.add(keras.layers.MaxPooling2D(pool_size=(2,2)))\n",
        "\n",
        "\n",
        "#もう一回似たような処理をしてより精度を高める\n",
        "model.add(keras.layers.Conv2D(32,(3,3)))\n",
        "model.add(keras.layers.Activation('relu'))\n",
        "model.add(keras.layers.MaxPooling2D(pool_size=(2,2)))\n",
        "\n",
        "#もっかい\n",
        "model.add(keras.layers.Conv2D(64,3,3))\n",
        "model.add(keras.layers.Activation('relu'))\n",
        "model.add(keras.layers.MaxPooling2D(pool_size=(2,2)))\n",
        "\n",
        "#Falttenで、出力された特徴量を一次元にする\n",
        "model.add(keras.layers.Flatten())\n",
        "#64個の結合層を追加\n",
        "model.add(keras.layers.Dense(64))\n",
        "\n",
        "model.add(keras.layers.Activation('relu'))\n",
        "model.add(keras.layers.Dropout(0.5))\n",
        "model.add(keras.layers.Dense(units=num_categories, activation=\"sigmoid\"))\n",
        "\n",
        "#オプティマイザ\n",
        "adam=keras.optimizers.Adam(learning_rate=1e-5)\n",
        "model.compile(loss='categorical_crossentropy',optimizer=adam,metrics=['accuracy'])"
      ],
      "metadata": {
        "id": "jZ7myKFKbjoU"
      },
      "execution_count": null,
      "outputs": []
    },
    {
      "cell_type": "code",
      "source": [
        "#学習\n",
        "checkpoint_cb = keras.callbacks.ModelCheckpoint(\"snapshot/{epoch:03d}-.hdf5\", save_best_only=True)\n",
        "model.fit(\n",
        "        train_generator,\n",
        "        steps_per_epoch=batch_size,\n",
        "        epochs=200,\n",
        "        validation_data=test_generator,\n",
        "        validation_steps=32,\n",
        "        callbacks=[checkpoint_cb])"
      ],
      "metadata": {
        "colab": {
          "base_uri": "https://localhost:8080/"
        },
        "id": "FiAwqutcQwmq",
        "outputId": "832ba881-9805-4563-b869-d3bcd6a1c649"
      },
      "execution_count": null,
      "outputs": [
        {
          "output_type": "stream",
          "name": "stdout",
          "text": [
            "Epoch 1/200\n",
            "3/3 [==============================] - 3s 558ms/step - loss: 1.4230 - accuracy: 0.8889 - val_loss: 1.4249 - val_accuracy: 1.0000\n"
          ]
        },
        {
          "output_type": "stream",
          "name": "stderr",
          "text": [
            "/usr/local/lib/python3.10/dist-packages/keras/src/engine/training.py:3103: UserWarning: You are saving your model as an HDF5 file via `model.save()`. This file format is considered legacy. We recommend using instead the native Keras format, e.g. `model.save('my_model.keras')`.\n",
            "  saving_api.save_model(\n"
          ]
        },
        {
          "output_type": "stream",
          "name": "stdout",
          "text": [
            "Epoch 2/200\n",
            "3/3 [==============================] - 1s 408ms/step - loss: 1.4231 - accuracy: 1.0000 - val_loss: 1.4215 - val_accuracy: 1.0000\n",
            "Epoch 3/200\n",
            "3/3 [==============================] - 1s 461ms/step - loss: 1.4186 - accuracy: 0.8889 - val_loss: 1.4191 - val_accuracy: 1.0000\n",
            "Epoch 4/200\n",
            "3/3 [==============================] - 1s 578ms/step - loss: 1.4297 - accuracy: 1.0000 - val_loss: 1.4164 - val_accuracy: 1.0000\n",
            "Epoch 5/200\n",
            "3/3 [==============================] - 2s 808ms/step - loss: 1.4262 - accuracy: 0.8889 - val_loss: 1.4156 - val_accuracy: 1.0000\n",
            "Epoch 6/200\n",
            "3/3 [==============================] - 1s 457ms/step - loss: 1.4286 - accuracy: 0.7778 - val_loss: 1.4132 - val_accuracy: 1.0000\n",
            "Epoch 7/200\n",
            "3/3 [==============================] - 1s 344ms/step - loss: 1.4193 - accuracy: 1.0000 - val_loss: 1.4115 - val_accuracy: 1.0000\n",
            "Epoch 8/200\n",
            "3/3 [==============================] - 1s 405ms/step - loss: 1.4288 - accuracy: 1.0000 - val_loss: 1.4099 - val_accuracy: 1.0000\n",
            "Epoch 9/200\n",
            "3/3 [==============================] - 1s 418ms/step - loss: 1.4070 - accuracy: 1.0000 - val_loss: 1.4082 - val_accuracy: 1.0000\n",
            "Epoch 10/200\n",
            "3/3 [==============================] - 1s 349ms/step - loss: 1.4129 - accuracy: 1.0000 - val_loss: 1.4071 - val_accuracy: 1.0000\n",
            "Epoch 11/200\n",
            "3/3 [==============================] - 1s 411ms/step - loss: 1.4178 - accuracy: 1.0000 - val_loss: 1.4058 - val_accuracy: 1.0000\n",
            "Epoch 12/200\n",
            "3/3 [==============================] - 1s 364ms/step - loss: 1.4409 - accuracy: 1.0000 - val_loss: 1.4043 - val_accuracy: 1.0000\n",
            "Epoch 13/200\n",
            "3/3 [==============================] - 1s 409ms/step - loss: 1.4107 - accuracy: 0.8889 - val_loss: 1.4028 - val_accuracy: 1.0000\n",
            "Epoch 14/200\n",
            "3/3 [==============================] - 1s 351ms/step - loss: 1.4125 - accuracy: 0.8889 - val_loss: 1.4019 - val_accuracy: 1.0000\n",
            "Epoch 15/200\n",
            "3/3 [==============================] - 1s 401ms/step - loss: 1.4246 - accuracy: 1.0000 - val_loss: 1.4012 - val_accuracy: 1.0000\n",
            "Epoch 16/200\n",
            "3/3 [==============================] - 1s 400ms/step - loss: 1.4177 - accuracy: 0.8889 - val_loss: 1.3995 - val_accuracy: 1.0000\n",
            "Epoch 17/200\n",
            "3/3 [==============================] - 2s 748ms/step - loss: 1.4100 - accuracy: 0.7778 - val_loss: 1.3996 - val_accuracy: 1.0000\n",
            "Epoch 18/200\n",
            "3/3 [==============================] - 2s 791ms/step - loss: 1.4032 - accuracy: 0.8889 - val_loss: 1.3988 - val_accuracy: 1.0000\n",
            "Epoch 19/200\n",
            "3/3 [==============================] - 1s 402ms/step - loss: 1.4028 - accuracy: 1.0000 - val_loss: 1.3982 - val_accuracy: 1.0000\n",
            "Epoch 20/200\n",
            "3/3 [==============================] - 1s 404ms/step - loss: 1.3995 - accuracy: 0.7778 - val_loss: 1.3974 - val_accuracy: 1.0000\n",
            "Epoch 21/200\n",
            "3/3 [==============================] - 1s 415ms/step - loss: 1.4042 - accuracy: 0.6667 - val_loss: 1.3963 - val_accuracy: 1.0000\n",
            "Epoch 22/200\n",
            "3/3 [==============================] - 1s 360ms/step - loss: 1.4130 - accuracy: 0.6667 - val_loss: 1.3957 - val_accuracy: 1.0000\n",
            "Epoch 23/200\n",
            "3/3 [==============================] - 1s 392ms/step - loss: 1.3981 - accuracy: 0.8889 - val_loss: 1.3957 - val_accuracy: 1.0000\n",
            "Epoch 24/200\n",
            "3/3 [==============================] - 1s 353ms/step - loss: 1.4130 - accuracy: 0.6667 - val_loss: 1.3945 - val_accuracy: 1.0000\n",
            "Epoch 25/200\n",
            "3/3 [==============================] - 1s 346ms/step - loss: 1.4050 - accuracy: 0.8889 - val_loss: 1.3939 - val_accuracy: 1.0000\n",
            "Epoch 26/200\n",
            "3/3 [==============================] - 1s 353ms/step - loss: 1.4020 - accuracy: 1.0000 - val_loss: 1.3931 - val_accuracy: 0.9792\n",
            "Epoch 27/200\n",
            "3/3 [==============================] - 1s 385ms/step - loss: 1.3990 - accuracy: 0.8889 - val_loss: 1.3936 - val_accuracy: 0.9792\n",
            "Epoch 28/200\n",
            "3/3 [==============================] - 1s 402ms/step - loss: 1.4010 - accuracy: 0.5556 - val_loss: 1.3930 - val_accuracy: 0.9792\n",
            "Epoch 29/200\n",
            "3/3 [==============================] - 2s 761ms/step - loss: 1.3968 - accuracy: 0.8889 - val_loss: 1.3919 - val_accuracy: 0.9792\n",
            "Epoch 30/200\n",
            "3/3 [==============================] - 1s 553ms/step - loss: 1.3947 - accuracy: 0.7778 - val_loss: 1.3920 - val_accuracy: 0.9792\n",
            "Epoch 31/200\n",
            "3/3 [==============================] - 2s 777ms/step - loss: 1.4260 - accuracy: 0.8889 - val_loss: 1.3918 - val_accuracy: 0.9792\n",
            "Epoch 32/200\n",
            "3/3 [==============================] - 1s 404ms/step - loss: 1.3992 - accuracy: 0.8889 - val_loss: 1.3913 - val_accuracy: 0.9688\n",
            "Epoch 33/200\n",
            "3/3 [==============================] - 1s 353ms/step - loss: 1.3928 - accuracy: 0.5556 - val_loss: 1.3910 - val_accuracy: 0.9792\n",
            "Epoch 34/200\n",
            "3/3 [==============================] - 1s 405ms/step - loss: 1.4066 - accuracy: 0.6667 - val_loss: 1.3909 - val_accuracy: 0.9688\n",
            "Epoch 35/200\n",
            "3/3 [==============================] - 1s 403ms/step - loss: 1.4038 - accuracy: 0.7778 - val_loss: 1.3905 - val_accuracy: 0.9792\n",
            "Epoch 36/200\n",
            "3/3 [==============================] - 1s 353ms/step - loss: 1.4085 - accuracy: 0.8889 - val_loss: 1.3903 - val_accuracy: 0.9688\n",
            "Epoch 37/200\n",
            "3/3 [==============================] - 1s 321ms/step - loss: 1.3972 - accuracy: 0.7778 - val_loss: 1.3903 - val_accuracy: 0.9688\n",
            "Epoch 38/200\n",
            "3/3 [==============================] - 1s 357ms/step - loss: 1.3953 - accuracy: 0.6667 - val_loss: 1.3902 - val_accuracy: 0.9583\n",
            "Epoch 39/200\n",
            "3/3 [==============================] - 1s 406ms/step - loss: 1.3928 - accuracy: 0.7778 - val_loss: 1.3900 - val_accuracy: 0.9583\n",
            "Epoch 40/200\n",
            "3/3 [==============================] - 2s 754ms/step - loss: 1.4047 - accuracy: 1.0000 - val_loss: 1.3901 - val_accuracy: 0.9479\n",
            "Epoch 41/200\n",
            "3/3 [==============================] - 2s 781ms/step - loss: 1.4067 - accuracy: 0.7778 - val_loss: 1.3898 - val_accuracy: 0.9583\n",
            "Epoch 42/200\n",
            "3/3 [==============================] - 1s 404ms/step - loss: 1.3985 - accuracy: 0.8889 - val_loss: 1.3897 - val_accuracy: 0.9271\n",
            "Epoch 43/200\n",
            "3/3 [==============================] - 1s 356ms/step - loss: 1.3960 - accuracy: 0.6667 - val_loss: 1.3891 - val_accuracy: 0.9271\n",
            "Epoch 44/200\n",
            "3/3 [==============================] - 1s 385ms/step - loss: 1.4107 - accuracy: 0.6667 - val_loss: 1.3896 - val_accuracy: 0.9062\n",
            "Epoch 45/200\n",
            "3/3 [==============================] - 1s 344ms/step - loss: 1.3910 - accuracy: 0.2222 - val_loss: 1.3896 - val_accuracy: 0.9479\n",
            "Epoch 46/200\n",
            "3/3 [==============================] - 1s 327ms/step - loss: 1.3995 - accuracy: 0.8889 - val_loss: 1.3895 - val_accuracy: 0.9167\n",
            "Epoch 47/200\n",
            "3/3 [==============================] - 1s 328ms/step - loss: 1.3984 - accuracy: 0.6667 - val_loss: 1.3895 - val_accuracy: 0.9271\n",
            "Epoch 48/200\n",
            "3/3 [==============================] - 1s 339ms/step - loss: 1.4047 - accuracy: 0.7778 - val_loss: 1.3893 - val_accuracy: 0.9167\n",
            "Epoch 49/200\n",
            "3/3 [==============================] - 1s 395ms/step - loss: 1.3911 - accuracy: 0.7778 - val_loss: 1.3893 - val_accuracy: 0.9271\n",
            "Epoch 50/200\n",
            "3/3 [==============================] - 1s 390ms/step - loss: 1.4042 - accuracy: 0.6667 - val_loss: 1.3894 - val_accuracy: 0.9167\n",
            "Epoch 51/200\n",
            "3/3 [==============================] - 1s 333ms/step - loss: 1.4181 - accuracy: 0.6667 - val_loss: 1.3894 - val_accuracy: 0.9271\n",
            "Epoch 52/200\n",
            "3/3 [==============================] - 2s 706ms/step - loss: 1.4165 - accuracy: 0.6667 - val_loss: 1.3894 - val_accuracy: 0.9375\n",
            "Epoch 53/200\n",
            "3/3 [==============================] - 1s 563ms/step - loss: 1.4009 - accuracy: 0.6667 - val_loss: 1.3893 - val_accuracy: 0.9167\n",
            "Epoch 54/200\n",
            "3/3 [==============================] - 1s 434ms/step - loss: 1.4155 - accuracy: 0.6667 - val_loss: 1.3892 - val_accuracy: 0.9062\n",
            "Epoch 55/200\n",
            "3/3 [==============================] - 1s 348ms/step - loss: 1.4036 - accuracy: 0.5556 - val_loss: 1.3895 - val_accuracy: 0.9271\n",
            "Epoch 56/200\n",
            "3/3 [==============================] - 1s 340ms/step - loss: 1.4090 - accuracy: 0.4444 - val_loss: 1.3894 - val_accuracy: 0.9167\n",
            "Epoch 57/200\n",
            "3/3 [==============================] - 1s 339ms/step - loss: 1.4164 - accuracy: 0.4444 - val_loss: 1.3893 - val_accuracy: 0.9375\n",
            "Epoch 58/200\n",
            "3/3 [==============================] - 1s 387ms/step - loss: 1.4218 - accuracy: 0.3333 - val_loss: 1.3893 - val_accuracy: 0.9479\n",
            "Epoch 59/200\n",
            "3/3 [==============================] - 1s 389ms/step - loss: 1.4038 - accuracy: 0.6667 - val_loss: 1.3894 - val_accuracy: 0.9375\n",
            "Epoch 60/200\n",
            "3/3 [==============================] - 1s 388ms/step - loss: 1.4193 - accuracy: 0.6667 - val_loss: 1.3897 - val_accuracy: 0.9479\n",
            "Epoch 61/200\n",
            "3/3 [==============================] - 1s 395ms/step - loss: 1.4182 - accuracy: 0.3333 - val_loss: 1.3900 - val_accuracy: 0.9583\n",
            "Epoch 62/200\n",
            "3/3 [==============================] - 1s 396ms/step - loss: 1.4292 - accuracy: 0.7778 - val_loss: 1.3899 - val_accuracy: 0.9583\n",
            "Epoch 63/200\n",
            "3/3 [==============================] - 1s 333ms/step - loss: 1.4137 - accuracy: 0.7778 - val_loss: 1.3902 - val_accuracy: 0.9479\n",
            "Epoch 64/200\n",
            "3/3 [==============================] - 1s 394ms/step - loss: 1.4161 - accuracy: 0.7778 - val_loss: 1.3898 - val_accuracy: 0.9271\n",
            "Epoch 65/200\n",
            "3/3 [==============================] - 2s 755ms/step - loss: 1.4162 - accuracy: 0.5556 - val_loss: 1.3901 - val_accuracy: 0.9271\n",
            "Epoch 66/200\n",
            "3/3 [==============================] - 2s 753ms/step - loss: 1.4138 - accuracy: 0.4444 - val_loss: 1.3896 - val_accuracy: 0.9167\n",
            "Epoch 67/200\n",
            "3/3 [==============================] - 2s 760ms/step - loss: 1.4125 - accuracy: 0.5556 - val_loss: 1.3898 - val_accuracy: 0.9375\n",
            "Epoch 68/200\n",
            "3/3 [==============================] - 1s 383ms/step - loss: 1.4560 - accuracy: 0.4444 - val_loss: 1.3901 - val_accuracy: 0.9479\n",
            "Epoch 69/200\n",
            "3/3 [==============================] - 1s 383ms/step - loss: 1.4504 - accuracy: 0.7778 - val_loss: 1.3901 - val_accuracy: 0.9375\n",
            "Epoch 70/200\n",
            "3/3 [==============================] - 1s 349ms/step - loss: 1.4006 - accuracy: 0.4444 - val_loss: 1.3900 - val_accuracy: 0.9167\n",
            "Epoch 71/200\n",
            "3/3 [==============================] - 1s 335ms/step - loss: 1.4568 - accuracy: 0.6667 - val_loss: 1.3899 - val_accuracy: 0.9271\n",
            "Epoch 72/200\n",
            "3/3 [==============================] - 1s 397ms/step - loss: 1.4361 - accuracy: 0.5556 - val_loss: 1.3899 - val_accuracy: 0.9271\n",
            "Epoch 73/200\n",
            "3/3 [==============================] - 1s 385ms/step - loss: 1.4209 - accuracy: 0.4444 - val_loss: 1.3903 - val_accuracy: 0.9271\n",
            "Epoch 74/200\n",
            "3/3 [==============================] - 1s 387ms/step - loss: 1.4429 - accuracy: 0.6667 - val_loss: 1.3898 - val_accuracy: 0.9062\n",
            "Epoch 75/200\n",
            "3/3 [==============================] - 1s 343ms/step - loss: 1.4054 - accuracy: 0.7778 - val_loss: 1.3900 - val_accuracy: 0.9062\n",
            "Epoch 76/200\n",
            "3/3 [==============================] - 2s 708ms/step - loss: 1.4381 - accuracy: 0.6667 - val_loss: 1.3901 - val_accuracy: 0.9271\n",
            "Epoch 77/200\n",
            "3/3 [==============================] - 1s 582ms/step - loss: 1.4549 - accuracy: 0.4444 - val_loss: 1.3899 - val_accuracy: 0.9271\n",
            "Epoch 78/200\n",
            "3/3 [==============================] - 1s 385ms/step - loss: 1.4228 - accuracy: 0.3333 - val_loss: 1.3900 - val_accuracy: 0.8854\n",
            "Epoch 79/200\n",
            "3/3 [==============================] - 1s 331ms/step - loss: 1.4367 - accuracy: 0.8889 - val_loss: 1.3900 - val_accuracy: 0.8854\n",
            "Epoch 80/200\n",
            "3/3 [==============================] - 1s 329ms/step - loss: 1.4444 - accuracy: 0.5556 - val_loss: 1.3898 - val_accuracy: 0.8646\n",
            "Epoch 81/200\n",
            "3/3 [==============================] - 1s 336ms/step - loss: 1.4110 - accuracy: 0.3333 - val_loss: 1.3898 - val_accuracy: 0.8438\n",
            "Epoch 82/200\n",
            "3/3 [==============================] - 1s 388ms/step - loss: 1.4574 - accuracy: 0.6667 - val_loss: 1.3899 - val_accuracy: 0.8333\n",
            "Epoch 83/200\n",
            "3/3 [==============================] - 1s 342ms/step - loss: 1.4940 - accuracy: 0.4444 - val_loss: 1.3902 - val_accuracy: 0.8646\n",
            "Epoch 84/200\n",
            "3/3 [==============================] - 1s 394ms/step - loss: 1.4903 - accuracy: 0.5556 - val_loss: 1.3900 - val_accuracy: 0.8125\n",
            "Epoch 85/200\n",
            "3/3 [==============================] - 1s 387ms/step - loss: 1.4337 - accuracy: 0.7778 - val_loss: 1.3902 - val_accuracy: 0.8125\n",
            "Epoch 86/200\n",
            "3/3 [==============================] - 2s 709ms/step - loss: 1.4637 - accuracy: 0.4444 - val_loss: 1.3895 - val_accuracy: 0.8021\n",
            "Epoch 87/200\n",
            "3/3 [==============================] - 2s 750ms/step - loss: 1.4154 - accuracy: 0.3333 - val_loss: 1.3904 - val_accuracy: 0.8125\n",
            "Epoch 88/200\n",
            "3/3 [==============================] - 1s 388ms/step - loss: 1.4520 - accuracy: 0.6667 - val_loss: 1.3903 - val_accuracy: 0.8021\n",
            "Epoch 89/200\n",
            "3/3 [==============================] - 1s 326ms/step - loss: 1.4398 - accuracy: 0.7778 - val_loss: 1.3904 - val_accuracy: 0.8229\n",
            "Epoch 90/200\n",
            "3/3 [==============================] - 1s 385ms/step - loss: 1.4554 - accuracy: 0.4444 - val_loss: 1.3909 - val_accuracy: 0.8021\n",
            "Epoch 91/200\n",
            "3/3 [==============================] - 1s 342ms/step - loss: 1.5115 - accuracy: 0.7778 - val_loss: 1.3908 - val_accuracy: 0.8229\n",
            "Epoch 92/200\n",
            "3/3 [==============================] - 1s 386ms/step - loss: 1.4851 - accuracy: 0.4444 - val_loss: 1.3907 - val_accuracy: 0.8021\n",
            "Epoch 93/200\n",
            "3/3 [==============================] - 1s 385ms/step - loss: 1.5818 - accuracy: 0.4444 - val_loss: 1.3908 - val_accuracy: 0.7708\n",
            "Epoch 94/200\n",
            "3/3 [==============================] - 1s 388ms/step - loss: 1.4944 - accuracy: 0.6667 - val_loss: 1.3900 - val_accuracy: 0.7396\n",
            "Epoch 95/200\n",
            "3/3 [==============================] - 1s 383ms/step - loss: 1.4964 - accuracy: 0.5556 - val_loss: 1.3898 - val_accuracy: 0.6875\n",
            "Epoch 96/200\n",
            "3/3 [==============================] - 1s 396ms/step - loss: 1.5280 - accuracy: 0.5556 - val_loss: 1.3901 - val_accuracy: 0.6875\n",
            "Epoch 97/200\n",
            "3/3 [==============================] - 2s 748ms/step - loss: 1.6463 - accuracy: 0.8889 - val_loss: 1.3895 - val_accuracy: 0.6562\n",
            "Epoch 98/200\n",
            "3/3 [==============================] - 1s 567ms/step - loss: 1.6906 - accuracy: 0.7778 - val_loss: 1.3896 - val_accuracy: 0.5208\n",
            "Epoch 99/200\n",
            "3/3 [==============================] - 1s 386ms/step - loss: 1.5061 - accuracy: 0.5556 - val_loss: 1.3894 - val_accuracy: 0.4375\n",
            "Epoch 100/200\n",
            "3/3 [==============================] - 1s 395ms/step - loss: 1.5260 - accuracy: 0.4444 - val_loss: 1.3899 - val_accuracy: 0.3958\n",
            "Epoch 101/200\n",
            "3/3 [==============================] - 1s 327ms/step - loss: 1.5870 - accuracy: 0.4444 - val_loss: 1.3901 - val_accuracy: 0.3750\n",
            "Epoch 102/200\n",
            "3/3 [==============================] - 1s 338ms/step - loss: 1.5528 - accuracy: 0.5556 - val_loss: 1.3896 - val_accuracy: 0.3438\n",
            "Epoch 103/200\n",
            "3/3 [==============================] - 1s 387ms/step - loss: 1.5141 - accuracy: 0.4444 - val_loss: 1.3904 - val_accuracy: 0.3646\n",
            "Epoch 104/200\n",
            "3/3 [==============================] - 1s 393ms/step - loss: 1.6249 - accuracy: 0.4444 - val_loss: 1.3904 - val_accuracy: 0.3542\n",
            "Epoch 105/200\n",
            "3/3 [==============================] - 1s 332ms/step - loss: 1.5456 - accuracy: 0.4444 - val_loss: 1.3908 - val_accuracy: 0.3333\n",
            "Epoch 106/200\n",
            "3/3 [==============================] - 1s 401ms/step - loss: 1.4911 - accuracy: 0.6667 - val_loss: 1.3907 - val_accuracy: 0.3333\n",
            "Epoch 107/200\n",
            "3/3 [==============================] - 1s 391ms/step - loss: 1.5471 - accuracy: 0.5556 - val_loss: 1.3911 - val_accuracy: 0.3542\n",
            "Epoch 108/200\n",
            "3/3 [==============================] - 2s 752ms/step - loss: 1.5318 - accuracy: 0.5556 - val_loss: 1.3907 - val_accuracy: 0.3333\n",
            "Epoch 109/200\n",
            "3/3 [==============================] - 2s 756ms/step - loss: 1.6622 - accuracy: 0.4444 - val_loss: 1.3916 - val_accuracy: 0.3542\n",
            "Epoch 110/200\n",
            "3/3 [==============================] - 2s 763ms/step - loss: 1.7050 - accuracy: 0.3333 - val_loss: 1.3916 - val_accuracy: 0.3021\n",
            "Epoch 111/200\n",
            "3/3 [==============================] - 1s 387ms/step - loss: 1.7280 - accuracy: 0.5556 - val_loss: 1.3919 - val_accuracy: 0.2812\n",
            "Epoch 112/200\n",
            "3/3 [==============================] - 1s 385ms/step - loss: 1.7800 - accuracy: 0.5556 - val_loss: 1.3930 - val_accuracy: 0.2396\n",
            "Epoch 113/200\n",
            "3/3 [==============================] - 1s 396ms/step - loss: 1.7277 - accuracy: 0.5556 - val_loss: 1.3942 - val_accuracy: 0.2292\n",
            "Epoch 114/200\n",
            "3/3 [==============================] - 1s 387ms/step - loss: 1.7236 - accuracy: 0.6667 - val_loss: 1.3950 - val_accuracy: 0.1875\n",
            "Epoch 115/200\n",
            "3/3 [==============================] - 1s 391ms/step - loss: 1.8896 - accuracy: 0.3333 - val_loss: 1.3958 - val_accuracy: 0.2292\n",
            "Epoch 116/200\n",
            "3/3 [==============================] - 1s 393ms/step - loss: 1.6524 - accuracy: 0.4444 - val_loss: 1.3981 - val_accuracy: 0.1979\n",
            "Epoch 117/200\n",
            "3/3 [==============================] - 1s 335ms/step - loss: 1.6212 - accuracy: 0.3333 - val_loss: 1.3977 - val_accuracy: 0.1771\n",
            "Epoch 118/200\n",
            "3/3 [==============================] - 1s 338ms/step - loss: 1.8927 - accuracy: 0.2222 - val_loss: 1.3976 - val_accuracy: 0.1771\n",
            "Epoch 119/200\n",
            "3/3 [==============================] - 1s 388ms/step - loss: 1.6344 - accuracy: 0.5556 - val_loss: 1.3968 - val_accuracy: 0.1875\n",
            "Epoch 120/200\n",
            "3/3 [==============================] - 1s 392ms/step - loss: 1.5380 - accuracy: 0.3333 - val_loss: 1.3969 - val_accuracy: 0.2188\n",
            "Epoch 121/200\n",
            "3/3 [==============================] - 2s 755ms/step - loss: 1.6882 - accuracy: 0.5556 - val_loss: 1.3962 - val_accuracy: 0.2396\n",
            "Epoch 122/200\n",
            "3/3 [==============================] - 2s 757ms/step - loss: 1.7498 - accuracy: 0.5556 - val_loss: 1.3953 - val_accuracy: 0.2812\n",
            "Epoch 123/200\n",
            "3/3 [==============================] - 1s 341ms/step - loss: 2.1488 - accuracy: 0.3333 - val_loss: 1.3948 - val_accuracy: 0.2604\n",
            "Epoch 124/200\n",
            "3/3 [==============================] - 1s 386ms/step - loss: 1.6919 - accuracy: 0.3333 - val_loss: 1.3945 - val_accuracy: 0.3021\n",
            "Epoch 125/200\n",
            "3/3 [==============================] - 1s 339ms/step - loss: 1.7354 - accuracy: 0.4444 - val_loss: 1.3942 - val_accuracy: 0.3438\n",
            "Epoch 126/200\n",
            "3/3 [==============================] - 1s 395ms/step - loss: 1.7157 - accuracy: 0.5556 - val_loss: 1.3937 - val_accuracy: 0.3542\n",
            "Epoch 127/200\n",
            "3/3 [==============================] - 1s 391ms/step - loss: 1.7539 - accuracy: 0.4444 - val_loss: 1.3944 - val_accuracy: 0.3854\n",
            "Epoch 128/200\n",
            "3/3 [==============================] - 1s 387ms/step - loss: 2.1860 - accuracy: 0.7778 - val_loss: 1.3949 - val_accuracy: 0.3542\n",
            "Epoch 129/200\n",
            "3/3 [==============================] - 1s 386ms/step - loss: 1.9069 - accuracy: 0.3333 - val_loss: 1.3955 - val_accuracy: 0.3333\n",
            "Epoch 130/200\n",
            "3/3 [==============================] - 1s 390ms/step - loss: 1.9921 - accuracy: 0.4444 - val_loss: 1.3947 - val_accuracy: 0.3438\n",
            "Epoch 131/200\n",
            "3/3 [==============================] - 2s 766ms/step - loss: 2.2208 - accuracy: 0.4444 - val_loss: 1.3952 - val_accuracy: 0.3333\n",
            "Epoch 132/200\n",
            "3/3 [==============================] - 2s 758ms/step - loss: 1.6498 - accuracy: 0.8889 - val_loss: 1.3944 - val_accuracy: 0.3438\n",
            "Epoch 133/200\n",
            "3/3 [==============================] - 2s 745ms/step - loss: 2.4346 - accuracy: 0.4444 - val_loss: 1.3958 - val_accuracy: 0.3646\n",
            "Epoch 134/200\n",
            "3/3 [==============================] - 1s 332ms/step - loss: 2.1752 - accuracy: 0.5556 - val_loss: 1.3967 - val_accuracy: 0.3750\n",
            "Epoch 135/200\n",
            "3/3 [==============================] - 1s 387ms/step - loss: 1.7428 - accuracy: 0.6667 - val_loss: 1.3966 - val_accuracy: 0.3229\n",
            "Epoch 136/200\n",
            "3/3 [==============================] - 1s 330ms/step - loss: 2.3538 - accuracy: 0.3333 - val_loss: 1.3974 - val_accuracy: 0.3021\n",
            "Epoch 137/200\n",
            "3/3 [==============================] - 1s 392ms/step - loss: 2.2143 - accuracy: 0.6667 - val_loss: 1.3987 - val_accuracy: 0.2708\n",
            "Epoch 138/200\n",
            "3/3 [==============================] - 1s 325ms/step - loss: 1.8998 - accuracy: 0.5556 - val_loss: 1.3997 - val_accuracy: 0.2812\n",
            "Epoch 139/200\n",
            "3/3 [==============================] - 1s 385ms/step - loss: 2.5369 - accuracy: 0.3333 - val_loss: 1.4015 - val_accuracy: 0.2604\n",
            "Epoch 140/200\n",
            "3/3 [==============================] - 1s 344ms/step - loss: 2.5212 - accuracy: 0.4444 - val_loss: 1.4004 - val_accuracy: 0.2917\n",
            "Epoch 141/200\n",
            "3/3 [==============================] - 1s 342ms/step - loss: 2.7775 - accuracy: 0.4444 - val_loss: 1.4016 - val_accuracy: 0.2500\n",
            "Epoch 142/200\n",
            "3/3 [==============================] - 1s 388ms/step - loss: 3.0203 - accuracy: 0.7778 - val_loss: 1.4027 - val_accuracy: 0.2500\n",
            "Epoch 143/200\n",
            "3/3 [==============================] - 1s 388ms/step - loss: 2.3417 - accuracy: 0.4444 - val_loss: 1.4045 - val_accuracy: 0.2083\n",
            "Epoch 144/200\n",
            "3/3 [==============================] - 2s 758ms/step - loss: 3.1525 - accuracy: 0.7778 - val_loss: 1.4061 - val_accuracy: 0.1979\n",
            "Epoch 145/200\n",
            "3/3 [==============================] - 2s 756ms/step - loss: 2.1655 - accuracy: 0.4444 - val_loss: 1.4115 - val_accuracy: 0.1354\n",
            "Epoch 146/200\n",
            "3/3 [==============================] - 1s 423ms/step - loss: 2.8344 - accuracy: 0.4444 - val_loss: 1.4175 - val_accuracy: 0.0833\n",
            "Epoch 147/200\n",
            "3/3 [==============================] - 1s 342ms/step - loss: 2.8653 - accuracy: 0.3333 - val_loss: 1.4138 - val_accuracy: 0.1042\n",
            "Epoch 148/200\n",
            "3/3 [==============================] - 1s 344ms/step - loss: 2.2734 - accuracy: 0.4444 - val_loss: 1.4139 - val_accuracy: 0.1562\n",
            "Epoch 149/200\n",
            "3/3 [==============================] - 1s 390ms/step - loss: 2.3652 - accuracy: 0.6667 - val_loss: 1.4156 - val_accuracy: 0.1458\n",
            "Epoch 150/200\n",
            "3/3 [==============================] - 1s 386ms/step - loss: 2.3625 - accuracy: 0.2222 - val_loss: 1.4126 - val_accuracy: 0.1667\n",
            "Epoch 151/200\n",
            "3/3 [==============================] - 1s 388ms/step - loss: 3.1783 - accuracy: 0.6667 - val_loss: 1.4106 - val_accuracy: 0.2188\n",
            "Epoch 152/200\n",
            "3/3 [==============================] - 1s 385ms/step - loss: 3.1873 - accuracy: 0.4444 - val_loss: 1.4101 - val_accuracy: 0.2188\n",
            "Epoch 153/200\n",
            "3/3 [==============================] - 1s 400ms/step - loss: 3.6415 - accuracy: 0.5556 - val_loss: 1.4097 - val_accuracy: 0.2604\n",
            "Epoch 154/200\n",
            "3/3 [==============================] - 1s 338ms/step - loss: 3.4901 - accuracy: 0.2222 - val_loss: 1.4075 - val_accuracy: 0.2500\n",
            "Epoch 155/200\n",
            "3/3 [==============================] - 1s 331ms/step - loss: 2.9199 - accuracy: 0.6667 - val_loss: 1.4098 - val_accuracy: 0.2708\n",
            "Epoch 156/200\n",
            "3/3 [==============================] - 2s 751ms/step - loss: 2.6964 - accuracy: 0.4444 - val_loss: 1.4076 - val_accuracy: 0.2708\n",
            "Epoch 157/200\n",
            "3/3 [==============================] - 2s 754ms/step - loss: 3.2863 - accuracy: 0.5556 - val_loss: 1.4089 - val_accuracy: 0.2812\n",
            "Epoch 158/200\n",
            "3/3 [==============================] - 1s 333ms/step - loss: 3.4901 - accuracy: 0.3333 - val_loss: 1.4152 - val_accuracy: 0.1979\n",
            "Epoch 159/200\n",
            "3/3 [==============================] - 1s 389ms/step - loss: 2.6718 - accuracy: 0.5556 - val_loss: 1.4205 - val_accuracy: 0.1250\n",
            "Epoch 160/200\n",
            "3/3 [==============================] - 1s 340ms/step - loss: 2.4728 - accuracy: 0.8889 - val_loss: 1.4278 - val_accuracy: 0.1146\n",
            "Epoch 161/200\n",
            "3/3 [==============================] - 1s 393ms/step - loss: 4.3399 - accuracy: 0.3333 - val_loss: 1.4363 - val_accuracy: 0.0729\n",
            "Epoch 162/200\n",
            "3/3 [==============================] - 1s 395ms/step - loss: 3.8367 - accuracy: 0.2222 - val_loss: 1.4414 - val_accuracy: 0.0938\n",
            "Epoch 163/200\n",
            "3/3 [==============================] - 1s 386ms/step - loss: 3.5668 - accuracy: 0.4444 - val_loss: 1.4375 - val_accuracy: 0.0833\n",
            "Epoch 164/200\n",
            "3/3 [==============================] - 1s 398ms/step - loss: 2.4838 - accuracy: 0.2222 - val_loss: 1.4258 - val_accuracy: 0.1354\n",
            "Epoch 165/200\n",
            "3/3 [==============================] - 1s 388ms/step - loss: 3.0907 - accuracy: 0.6667 - val_loss: 1.4205 - val_accuracy: 0.2083\n",
            "Epoch 166/200\n",
            "3/3 [==============================] - 1s 387ms/step - loss: 3.8483 - accuracy: 0.3333 - val_loss: 1.4163 - val_accuracy: 0.2812\n",
            "Epoch 167/200\n",
            "3/3 [==============================] - 1s 397ms/step - loss: 3.2578 - accuracy: 0.4444 - val_loss: 1.4120 - val_accuracy: 0.3333\n",
            "Epoch 168/200\n",
            "3/3 [==============================] - 2s 762ms/step - loss: 3.5145 - accuracy: 0.5556 - val_loss: 1.4108 - val_accuracy: 0.4479\n",
            "Epoch 169/200\n",
            "3/3 [==============================] - 2s 766ms/step - loss: 2.2869 - accuracy: 0.6667 - val_loss: 1.4109 - val_accuracy: 0.4479\n",
            "Epoch 170/200\n",
            "3/3 [==============================] - 1s 458ms/step - loss: 5.0401 - accuracy: 0.5556 - val_loss: 1.4127 - val_accuracy: 0.4479\n",
            "Epoch 171/200\n",
            "3/3 [==============================] - 1s 389ms/step - loss: 3.8071 - accuracy: 0.4444 - val_loss: 1.4118 - val_accuracy: 0.4479\n",
            "Epoch 172/200\n",
            "3/3 [==============================] - 1s 386ms/step - loss: 4.0910 - accuracy: 0.5556 - val_loss: 1.4125 - val_accuracy: 0.4688\n",
            "Epoch 173/200\n",
            "3/3 [==============================] - 1s 387ms/step - loss: 3.5809 - accuracy: 0.4444 - val_loss: 1.4135 - val_accuracy: 0.4062\n",
            "Epoch 174/200\n",
            "3/3 [==============================] - 1s 334ms/step - loss: 3.9142 - accuracy: 0.3333 - val_loss: 1.4132 - val_accuracy: 0.4271\n",
            "Epoch 175/200\n",
            "3/3 [==============================] - 1s 384ms/step - loss: 5.2060 - accuracy: 0.4444 - val_loss: 1.4175 - val_accuracy: 0.4062\n",
            "Epoch 176/200\n",
            "3/3 [==============================] - 1s 343ms/step - loss: 5.5759 - accuracy: 0.2222 - val_loss: 1.4146 - val_accuracy: 0.4792\n",
            "Epoch 177/200\n",
            "3/3 [==============================] - 1s 387ms/step - loss: 3.0414 - accuracy: 0.5556 - val_loss: 1.4156 - val_accuracy: 0.5312\n",
            "Epoch 178/200\n",
            "3/3 [==============================] - 1s 384ms/step - loss: 5.6222 - accuracy: 0.7778 - val_loss: 1.4182 - val_accuracy: 0.5938\n",
            "Epoch 179/200\n",
            "3/3 [==============================] - 1s 387ms/step - loss: 3.7274 - accuracy: 0.4444 - val_loss: 1.4189 - val_accuracy: 0.5312\n",
            "Epoch 180/200\n",
            "3/3 [==============================] - 2s 710ms/step - loss: 3.9386 - accuracy: 0.6667 - val_loss: 1.4162 - val_accuracy: 0.5104\n",
            "Epoch 181/200\n",
            "3/3 [==============================] - 1s 557ms/step - loss: 5.1460 - accuracy: 0.6667 - val_loss: 1.4184 - val_accuracy: 0.4375\n",
            "Epoch 182/200\n",
            "3/3 [==============================] - 1s 407ms/step - loss: 7.1005 - accuracy: 0.5556 - val_loss: 1.4256 - val_accuracy: 0.4479\n",
            "Epoch 183/200\n",
            "3/3 [==============================] - 1s 393ms/step - loss: 5.8103 - accuracy: 0.3333 - val_loss: 1.4267 - val_accuracy: 0.3854\n",
            "Epoch 184/200\n",
            "3/3 [==============================] - 1s 388ms/step - loss: 7.8073 - accuracy: 0.4444 - val_loss: 1.4329 - val_accuracy: 0.3750\n",
            "Epoch 185/200\n",
            "3/3 [==============================] - 1s 692ms/step - loss: 4.2211 - accuracy: 0.7143 - val_loss: 1.4330 - val_accuracy: 0.3438\n",
            "Epoch 186/200\n",
            "3/3 [==============================] - 1s 554ms/step - loss: 6.4740 - accuracy: 0.5556 - val_loss: 1.4329 - val_accuracy: 0.3333\n",
            "Epoch 187/200\n",
            "3/3 [==============================] - 2s 768ms/step - loss: 4.9296 - accuracy: 0.6667 - val_loss: 1.4398 - val_accuracy: 0.3125\n",
            "Epoch 188/200\n",
            "3/3 [==============================] - 2s 751ms/step - loss: 5.3060 - accuracy: 0.2222 - val_loss: 1.4412 - val_accuracy: 0.3333\n",
            "Epoch 189/200\n",
            "3/3 [==============================] - 1s 430ms/step - loss: 6.5674 - accuracy: 0.4444 - val_loss: 1.4372 - val_accuracy: 0.3646\n",
            "Epoch 190/200\n",
            "3/3 [==============================] - 1s 386ms/step - loss: 6.9621 - accuracy: 0.5556 - val_loss: 1.4389 - val_accuracy: 0.3750\n",
            "Epoch 191/200\n",
            "3/3 [==============================] - 1s 389ms/step - loss: 5.7267 - accuracy: 0.5556 - val_loss: 1.4360 - val_accuracy: 0.3958\n",
            "Epoch 192/200\n",
            "3/3 [==============================] - 1s 339ms/step - loss: 4.4856 - accuracy: 0.7778 - val_loss: 1.4375 - val_accuracy: 0.3646\n",
            "Epoch 193/200\n",
            "3/3 [==============================] - 1s 392ms/step - loss: 9.1361 - accuracy: 0.4444 - val_loss: 1.4457 - val_accuracy: 0.3229\n",
            "Epoch 194/200\n",
            "3/3 [==============================] - 1s 325ms/step - loss: 6.5083 - accuracy: 0.3333 - val_loss: 1.4458 - val_accuracy: 0.3333\n",
            "Epoch 195/200\n",
            "3/3 [==============================] - 1s 385ms/step - loss: 9.9537 - accuracy: 0.6667 - val_loss: 1.4490 - val_accuracy: 0.3438\n",
            "Epoch 196/200\n",
            "3/3 [==============================] - 1s 341ms/step - loss: 5.6615 - accuracy: 0.3333 - val_loss: 1.4453 - val_accuracy: 0.3333\n",
            "Epoch 197/200\n",
            "3/3 [==============================] - 1s 391ms/step - loss: 8.2391 - accuracy: 0.6667 - val_loss: 1.4502 - val_accuracy: 0.3333\n",
            "Epoch 198/200\n",
            "3/3 [==============================] - 1s 329ms/step - loss: 5.5050 - accuracy: 0.3333 - val_loss: 1.4459 - val_accuracy: 0.3333\n",
            "Epoch 199/200\n",
            "3/3 [==============================] - 1s 388ms/step - loss: 4.2401 - accuracy: 0.4444 - val_loss: 1.4509 - val_accuracy: 0.4271\n",
            "Epoch 200/200\n",
            "3/3 [==============================] - 1s 398ms/step - loss: 7.8213 - accuracy: 0.4444 - val_loss: 1.4474 - val_accuracy: 0.5104\n"
          ]
        },
        {
          "output_type": "execute_result",
          "data": {
            "text/plain": [
              "<keras.src.callbacks.History at 0x781de979ea40>"
            ]
          },
          "metadata": {},
          "execution_count": 22
        }
      ]
    },
    {
      "cell_type": "code",
      "source": [
        "!ls ./ds/train/伊織もえ -l |grep -v '^d' |wc -l"
      ],
      "metadata": {
        "colab": {
          "base_uri": "https://localhost:8080/"
        },
        "id": "V1wF0j9wcDII",
        "outputId": "767f1bce-eb1c-4203-efde-6cfac42b3473"
      },
      "execution_count": null,
      "outputs": [
        {
          "output_type": "stream",
          "name": "stdout",
          "text": [
            "461\n"
          ]
        }
      ]
    },
    {
      "cell_type": "code",
      "source": [
        "!ls ./img/face_cropped/伊織もえ -l |grep -v '^d' |wc -l"
      ],
      "metadata": {
        "colab": {
          "base_uri": "https://localhost:8080/"
        },
        "id": "YErP4w2UDFGf",
        "outputId": "53bb9707-376f-4c9a-f948-22ba294e9fce"
      },
      "execution_count": null,
      "outputs": [
        {
          "output_type": "stream",
          "name": "stdout",
          "text": [
            "65\n"
          ]
        }
      ]
    },
    {
      "cell_type": "code",
      "source": [
        "#for i in range (len(os.listdir('img/face_cropped/伊織もえ'))):\n",
        "#  display_jpeg(Image(f'img/face_cropped/{query_string}/cropped_Image_{i}.jpg'))"
      ],
      "metadata": {
        "id": "rihmPwPStHMt"
      },
      "execution_count": null,
      "outputs": []
    },
    {
      "cell_type": "code",
      "source": [
        "print(\"test:{}\".format(len(os.listdir(\"ds/test/伊織もえ\"))))\n",
        "print(\"train:{}\".format(len(os.listdir(\"ds/train/伊織もえ\"))))"
      ],
      "metadata": {
        "id": "YpDfdOl8Bibu",
        "outputId": "06f88825-8465-4b27-84ba-9c60860b283d",
        "colab": {
          "base_uri": "https://localhost:8080/"
        }
      },
      "execution_count": null,
      "outputs": [
        {
          "output_type": "stream",
          "name": "stdout",
          "text": [
            "test:116\n",
            "train:460\n"
          ]
        }
      ]
    }
  ]
}