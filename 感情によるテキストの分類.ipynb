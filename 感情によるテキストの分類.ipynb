{
  "nbformat": 4,
  "nbformat_minor": 0,
  "metadata": {
    "colab": {
      "provenance": [],
      "authorship_tag": "ABX9TyOgcpfr9+r40ldcRfqKzUpV",
      "include_colab_link": true
    },
    "kernelspec": {
      "name": "python3",
      "display_name": "Python 3"
    },
    "language_info": {
      "name": "python"
    }
  },
  "cells": [
    {
      "cell_type": "markdown",
      "metadata": {
        "id": "view-in-github",
        "colab_type": "text"
      },
      "source": [
        "<a href=\"https://colab.research.google.com/github/nematatu/Colab-Python/blob/master/%E6%84%9F%E6%83%85%E3%81%AB%E3%82%88%E3%82%8B%E3%83%86%E3%82%AD%E3%82%B9%E3%83%88%E3%81%AE%E5%88%86%E9%A1%9E.ipynb\" target=\"_parent\"><img src=\"https://colab.research.google.com/assets/colab-badge.svg\" alt=\"Open In Colab\"/></a>"
      ]
    },
    {
      "cell_type": "code",
      "execution_count": 1,
      "metadata": {
        "id": "P9PaqFwbfaT_"
      },
      "outputs": [],
      "source": [
        "import matplotlib.pyplot as plt\n",
        "#ファイルの作成、ディレクトリの移動とか、OS依存の機能をいじるのに使う\n",
        "import os\n",
        "#re(Regular Expressions)正規表現を扱うのに使う\n",
        "#文字列パターンを検索、抽出、置換したり\n",
        "import re\n",
        "#ファイル、ディレクトリの操作をするのに使う\n",
        "#osと何が違うんだ↓\n",
        "#shutilはosを基に、高度なファイル、ディレクトリ操作ができるようになったものらしい\n",
        "import shutil\n",
        "#文字列の操作に使う\n",
        "import string\n",
        "import tensorflow as tf\n",
        "\n",
        "from tensorflow.keras import layers\n",
        "from tensorflow.keras import losses"
      ]
    },
    {
      "cell_type": "code",
      "source": [
        "print(tf.__version__)"
      ],
      "metadata": {
        "colab": {
          "base_uri": "https://localhost:8080/"
        },
        "id": "19TwHn8oiRcR",
        "outputId": "2ba1ae9d-cb5e-4b36-f997-7a0c8748f931"
      },
      "execution_count": 2,
      "outputs": [
        {
          "output_type": "stream",
          "name": "stdout",
          "text": [
            "2.14.0\n"
          ]
        }
      ]
    },
    {
      "cell_type": "code",
      "source": [
        "#IMDB(Internet Movie DataBase)という50000件の映画レビューから抽出した、データセットを使う\n",
        "#トレーニング用とテスト用に25000件ずつある\n",
        "url = \"https://ai.stanford.edu/~amaas/data/sentiment/aclImdb_v1.tar.gz\"\n",
        "#↑urlからファイルをダウンロードする\n",
        "#tf.keras.utils.get_file()\n",
        "#\"aclImdb\": 保存先のディレクトリ名\n",
        "#url: urlの指定\n",
        "#untar: 保存するファイルが.tarなら、解凍するかどうか\n",
        "#cache_dir: ファイルのダウンロード先のディレクトリを指定\n",
        "#cache_subdir: 保存先のサブディレクトリを指定。今回はなし\n",
        "dataset=tf.keras.utils.get_file(\"aclImdb\",url,untar=True,cache_dir='.',cache_subdir='')\n",
        "dataset_dir=os.path.join(os.path.dirname(dataset),'aclImdb')"
      ],
      "metadata": {
        "colab": {
          "base_uri": "https://localhost:8080/"
        },
        "id": "x1UALQ0vinx-",
        "outputId": "c23d1c5f-69a4-459c-ecdb-429303864481"
      },
      "execution_count": 3,
      "outputs": [
        {
          "output_type": "stream",
          "name": "stdout",
          "text": [
            "Downloading data from https://ai.stanford.edu/~amaas/data/sentiment/aclImdb_v1.tar.gz\n",
            "84125825/84125825 [==============================] - 11s 0us/step\n"
          ]
        }
      ]
    },
    {
      "cell_type": "code",
      "source": [
        "print(os.listdir(os.path.dirname(dataset)))\n",
        "os.listdir(dataset_dir)"
      ],
      "metadata": {
        "colab": {
          "base_uri": "https://localhost:8080/"
        },
        "id": "_IfeoArZpImU",
        "outputId": "8ddd17ac-6bee-4efa-bfb8-98d221fe7113"
      },
      "execution_count": 4,
      "outputs": [
        {
          "output_type": "stream",
          "name": "stdout",
          "text": [
            "['.config', 'aclImdb.tar.gz', 'aclImdb', 'sample_data']\n"
          ]
        },
        {
          "output_type": "execute_result",
          "data": {
            "text/plain": [
              "['README', 'train', 'test', 'imdb.vocab', 'imdbEr.txt']"
            ]
          },
          "metadata": {},
          "execution_count": 4
        }
      ]
    },
    {
      "cell_type": "code",
      "source": [
        "train_dir=os.path.join(dataset_dir,'train')\n",
        "print(os.listdir(train_dir))"
      ],
      "metadata": {
        "colab": {
          "base_uri": "https://localhost:8080/"
        },
        "id": "XEx9Ly2FqVzL",
        "outputId": "674afb47-216e-47ee-f0f7-8fe93e848b73"
      },
      "execution_count": 5,
      "outputs": [
        {
          "output_type": "stream",
          "name": "stdout",
          "text": [
            "['unsupBow.feat', 'unsup', 'labeledBow.feat', 'pos', 'urls_pos.txt', 'neg', 'urls_neg.txt', 'urls_unsup.txt']\n"
          ]
        }
      ]
    },
    {
      "cell_type": "code",
      "source": [
        "sample_file=os.path.join(train_dir,'pos/1189_9.txt')\n",
        "#with: 安全にファイル操作ができるらしい\n",
        "with open(sample_file) as f:\n",
        "  print(f.read())"
      ],
      "metadata": {
        "colab": {
          "base_uri": "https://localhost:8080/"
        },
        "id": "7vo7wZd9rac3",
        "outputId": "8f347c52-067a-4b02-b964-23164f3fd3fb"
      },
      "execution_count": 6,
      "outputs": [
        {
          "output_type": "stream",
          "name": "stdout",
          "text": [
            "The Last Hunt is one of the few westerns ever made to deal with Buffalo hunting, both as a sport and business and as a method of winning the plains Indian wars. Before the white man set foot on the other side of the Mississippi, the plains used to have herds of American Bison as large as some of our largest cities. By the time of the period The Last Hunt is set in, the buffalo had been all but wiped out. The 20th century, due to the efforts of conservationists, saw a revival in population of the species, but not hardly like it once was.<br /><br />Robert Taylor and Stewart Granger are co-starring in a second film together and this one is far superior to All the Brothers Were Valiant. Here Stewart Granger is the good guy, a world weary buffalo hunter, who has to go back to a job he hates because of financial considerations.<br /><br />The partner he's chosen to throw in with is Robert Taylor. Forgetting Taylor for the moment, I doubt if there's ever been a meaner, nastier soul than Charlie Gilsen who Taylor portrays. In Devil's Doorway he was an American Indian fighting against the prejudice stirred up by a racist played by Louis Calhern. In The Last Hunt, he's the racist here. He kills both buffalo and Indians for pure pleasure. He kills one Indian family when they steal his mules and takes the widow of one captive. Like some barbarian conqueror he expects the pleasure of Debra Paget's sexual favors. He's actually mad when Paget doesn't see it that way.<br /><br />No matter how often they refer to Russ Tamblyn as a halfbreed, I was never really convinced he was any part Indian. It's the only weakness I found in The Last Hunt.<br /><br />However Lloyd Nolan, the grizzled old buffalo skinner Taylor and Granger bring along is just great. Nolan steals every scene he's in with the cast. <br /><br />For those who like their westerns real, who want to see a side of Robert Taylor never seen on screen, and who don't like cheap heroics, The Last Hunt is the ideal hunt.\n"
          ]
        }
      ]
    },
    {
      "cell_type": "code",
      "source": [
        "remove_dir=os.path.join(train_dir,'unsup')\n",
        "shutil.rmtree(remove_dir)"
      ],
      "metadata": {
        "id": "wZYQ9X6LrU5t"
      },
      "execution_count": 8,
      "outputs": []
    },
    {
      "cell_type": "code",
      "source": [
        "batch_size=32\n",
        "seed=42\n",
        "\n",
        "#元のディレクトリから、テキスト形式のデータセットにする\n",
        "raw_train_ds=tf.keras.utils.text_dataset_from_directory(\n",
        "    'aclImdb/train',\n",
        "    batch_size=batch_size,\n",
        "    #内20%を検証用に使う\n",
        "    validation_split=0.2,\n",
        "    subset='training',\n",
        "    seed=seed\n",
        ")"
      ],
      "metadata": {
        "id": "aXpMdmChqP8-",
        "outputId": "fdf3a415-e8ab-4a25-c216-820d903c9cde",
        "colab": {
          "base_uri": "https://localhost:8080/"
        }
      },
      "execution_count": 10,
      "outputs": [
        {
          "output_type": "stream",
          "name": "stdout",
          "text": [
            "Found 25000 files belonging to 2 classes.\n",
            "Using 20000 files for training.\n"
          ]
        }
      ]
    },
    {
      "cell_type": "code",
      "source": [
        "print(raw_train_ds.class_names)"
      ],
      "metadata": {
        "id": "9ESBQn16udQ7",
        "outputId": "eb5a0519-9b1c-4a67-ee8e-48bf930792e6",
        "colab": {
          "base_uri": "https://localhost:8080/"
        }
      },
      "execution_count": 40,
      "outputs": [
        {
          "output_type": "stream",
          "name": "stdout",
          "text": [
            "['neg', 'pos']\n"
          ]
        }
      ]
    },
    {
      "cell_type": "code",
      "source": [
        "for text_batch,label_batch in raw_train_ds.take(1):\n",
        "  for i in range(3):\n",
        "    print(\"Review\",text_batch.numpy()[i])\n",
        "    print(\"Label\",label_batch.numpy()[i])"
      ],
      "metadata": {
        "id": "9f-koB9yq8nL",
        "outputId": "e947bc7c-ec1f-4f2a-fec3-d9c7b4368f15",
        "colab": {
          "base_uri": "https://localhost:8080/"
        }
      },
      "execution_count": 39,
      "outputs": [
        {
          "output_type": "stream",
          "name": "stdout",
          "text": [
            "Review b'I try to be very objective when I view a low budget movie. I also apply a lower weight to independent and low budget productions versus the big budget productions. I expect near flawlessness from big budget productions and their studios. Therefore I apply tougher criteria to the major studio releases. But this movie was just a dud. Period. The premise was terrible. The main character, Mary Gordano (Alicia Silverstone), was unbelievable as a high school senior with an unquenchable desire to solve crimes. There was not enough depth in her character or her acting that pulled you into her world. Also, to make this movie more mysterious, the lighting in certain scenes did not set the mood, especially in the warehouse.<br /><br />Once again another disappointing movie that I could only give three points to.'\n",
            "Label 0\n",
            "Review b'Have you ever, or do you have, a pet who\\'s been with you through thick and thin, who you\\'d be lost without, and who you love no matter what? Betcha never thought they feel the same way about you!<br /><br />Wonderful, wonderful family film. If you have a soft spot for animals, this is guaranteed to make you cry no matter your age. I used to watch this movie all the time when I was a little kid, and I find that now, at age sixteen, I love it as much as I did then. I could never decide on a favorite character then, and I still don\\'t think I can! I love all three of the animals. The dialogue seems very real and comfortable, like a loving, but feuding family. I do love Chance, and how at the end he says that he has a family at last. Cheesy, yes, but one must remember that this is meant to be a family film, and it fulfills that role perfectly. Sassy has just the perfect dose of \"sassiness\" and Shadow is the perfect leader/role model to the young, adventurous Chance.<br /><br />The animals way outshine the humans, but of course most of the teary moments are to be had during an interaction with them (ie. rescuing Molly, and the end). Not to mention the incredible soundtrack that gives each moment even more emotion, and an accompanying heart-swelling feeling. I give this 9/10. To be compared to (and even rated better than) Cats and Dogs and Babe.'\n",
            "Label 1\n",
            "Review b'Brand Hauser (John Cusack) is an assassin for the CIA. He is ordered to go to the country of Turaquistan, a nation that the United States has \"liberated\", and kill a businessman named Omar Shariff. This is because the American conglomerate, Tamerlane, that is putting the country \"back together\" will not stand for Shariff, an oil man from a neighboring state, laying down his own pipeline through war-torn Turquistan. But, once there, Brand runs into difficulties. One, he meets a determined journalist, Natalie (Marisa Tomei) who wants to tell the American public the \"true\" story of the region\\'s conflict...and of Tamerlane. But, Brand is aghast to realize that Natalie\\'s pretty face and sharp mind instantly and unconsciously compels him to lose focus on his mission. Also, his cover as a trade show host forces him to meet the country\\'s pop-singing princess, Yonica (Hillary Duff), who will be getting married at the convention center. She is a young diva whose wedding arrangements also turn Brand\\'s attention away from the coming assassination. With other inept underlings and complications, will Brand be able to carry out his mission, for the satisfaction of Tamerlane\\'s BIG boss, the former vice-president (Dan Ackroyd)? Good for you, John Cusack, to make this film, even though it doesn\\'t quite hold together. Shot in Serbia, it is a worthy look at what present-day Iraq must be like, a country turned upside-down. In a stroke a brilliance, the green zone here is called \"The Emerald City\" and aptly so, for this Oz-like neighborhood attempts to keep out the ravages of war going on elsewhere in the metropolis. The cast is very fine, with Cusack doing a nice job and Tomei, Joan Cusack, Ben Kingsley, Ackroyd and others backing him up in style. Duff, especially, does a great turn as the heavily-accented, heavily made-up, potty-mouthed singer. The recreation of war-riddled Baghdad is so real that it hurts while the costumes and other production values are top-notch. As for the script, it isn\\'t always cohesive but it certainly has some tremendous dialogue and scenes. For example, a young Turaqui boy offers to show Brand an enemy hideout, in exchange for money and candy. Brand produces the cash but, because he has no candy, the boy burns his vehicle anyway. Brilliant! Then, also, the direction is not a total success but doesn\\'t lag very often. No, if you have conservative leanings, you probably won\\'t like this film one bit. But, if you have an open mind and want to see a satirical view of the \"war on terrorism\", this is quite a good show. Therefore, do make an effort to view it, as you will be supporting those filmmakers who choose to make movies far away from those old studio \"formulas\".'\n",
            "Label 1\n"
          ]
        }
      ]
    },
    {
      "cell_type": "code",
      "source": [
        "print(\"label 0 correspond to \",raw_train_ds.class_names[0])\n",
        "print(\"label 1 correspond to \",raw_train_ds.class_names[1])"
      ],
      "metadata": {
        "id": "PIc3GfBxtPJB",
        "outputId": "503cb16c-bc82-4187-a791-f22929488608",
        "colab": {
          "base_uri": "https://localhost:8080/"
        }
      },
      "execution_count": 41,
      "outputs": [
        {
          "output_type": "stream",
          "name": "stdout",
          "text": [
            "label 0 correspond to  neg\n",
            "label 1 correspond to  pos\n"
          ]
        }
      ]
    }
  ]
}