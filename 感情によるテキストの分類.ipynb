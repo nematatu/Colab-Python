{
  "nbformat": 4,
  "nbformat_minor": 0,
  "metadata": {
    "colab": {
      "provenance": [],
      "authorship_tag": "ABX9TyMlneBqpDpBNfj3pf86SFXN",
      "include_colab_link": true
    },
    "kernelspec": {
      "name": "python3",
      "display_name": "Python 3"
    },
    "language_info": {
      "name": "python"
    }
  },
  "cells": [
    {
      "cell_type": "markdown",
      "metadata": {
        "id": "view-in-github",
        "colab_type": "text"
      },
      "source": [
        "<a href=\"https://colab.research.google.com/github/nematatu/Colab-Python/blob/master/%E6%84%9F%E6%83%85%E3%81%AB%E3%82%88%E3%82%8B%E3%83%86%E3%82%AD%E3%82%B9%E3%83%88%E3%81%AE%E5%88%86%E9%A1%9E.ipynb\" target=\"_parent\"><img src=\"https://colab.research.google.com/assets/colab-badge.svg\" alt=\"Open In Colab\"/></a>"
      ]
    },
    {
      "cell_type": "code",
      "execution_count": 1,
      "metadata": {
        "id": "P9PaqFwbfaT_"
      },
      "outputs": [],
      "source": [
        "import matplotlib.pyplot as plt\n",
        "#ファイルの作成、ディレクトリの移動とか、OS依存の機能をいじるのに使う\n",
        "import os\n",
        "#re(Regular Expressions)正規表現を扱うのに使う\n",
        "#文字列パターンを検索、抽出、置換したり\n",
        "import re\n",
        "#ファイル、ディレクトリの操作をするのに使う\n",
        "#osと何が違うんだ↓\n",
        "#shutilはosを基に、高度なファイル、ディレクトリ操作ができるようになったものらしい\n",
        "import shutil\n",
        "#文字列の操作に使う\n",
        "import string\n",
        "import tensorflow as tf\n",
        "\n",
        "from tensorflow.keras import layers\n",
        "from tensorflow.keras import losses"
      ]
    },
    {
      "cell_type": "code",
      "source": [
        "print(tf.__version__)"
      ],
      "metadata": {
        "colab": {
          "base_uri": "https://localhost:8080/"
        },
        "id": "19TwHn8oiRcR",
        "outputId": "65fe69d0-064a-4cd4-fc37-b3123a2cb28a"
      },
      "execution_count": 2,
      "outputs": [
        {
          "output_type": "stream",
          "name": "stdout",
          "text": [
            "2.14.0\n"
          ]
        }
      ]
    },
    {
      "cell_type": "code",
      "source": [
        "#IMDB(Internet Movie DataBase)という50000件の映画レビューから抽出した、データセットを使う\n",
        "#トレーニング用とテスト用に25000件ずつある\n",
        "url = \"https://ai.stanford.edu/~amaas/data/sentiment/aclImdb_v1.tar.gz\"\n",
        "#↑urlからファイルをダウンロードする\n",
        "#tf.keras.utils.get_file()\n",
        "#\"aclImdb\": 保存先のディレクトリ名\n",
        "#url: urlの指定\n",
        "#untar: 保存するファイルが.tarなら、解凍するかどうか\n",
        "#cache_dir: ファイルのダウンロード先のディレクトリを指定\n",
        "#cache_subdir: 保存先のサブディレクトリを指定。今回はなし\n",
        "dataset=tf.keras.utils.get_file(\"aclImdb\",url,untar=True,cache_dir='.',cache_subdir='')\n",
        "dataset_dir=os.path.join(os.path.dirname(dataset),'aclImdb')"
      ],
      "metadata": {
        "colab": {
          "base_uri": "https://localhost:8080/"
        },
        "id": "x1UALQ0vinx-",
        "outputId": "3a263962-bd1d-4b11-fac2-a246aec7ee72"
      },
      "execution_count": 3,
      "outputs": [
        {
          "output_type": "stream",
          "name": "stdout",
          "text": [
            "Downloading data from https://ai.stanford.edu/~amaas/data/sentiment/aclImdb_v1.tar.gz\n",
            "84125825/84125825 [==============================] - 6s 0us/step\n"
          ]
        }
      ]
    },
    {
      "cell_type": "code",
      "source": [
        "print(os.listdir(os.path.dirname(dataset)))\n",
        "os.listdir(dataset_dir)"
      ],
      "metadata": {
        "colab": {
          "base_uri": "https://localhost:8080/"
        },
        "id": "_IfeoArZpImU",
        "outputId": "788b0b87-338a-479d-87ca-8668e5b9f0d9"
      },
      "execution_count": 15,
      "outputs": [
        {
          "output_type": "stream",
          "name": "stdout",
          "text": [
            "['.config', 'aclImdb', 'aclImdb.tar.gz', 'sample_data']\n"
          ]
        },
        {
          "output_type": "execute_result",
          "data": {
            "text/plain": [
              "['imdb.vocab', 'imdbEr.txt', 'README', 'train', 'test']"
            ]
          },
          "metadata": {},
          "execution_count": 15
        }
      ]
    },
    {
      "cell_type": "code",
      "source": [
        "train_dir=os.path.join(dataset_dir,'train')\n",
        "print(os.listdir(train_dir))"
      ],
      "metadata": {
        "colab": {
          "base_uri": "https://localhost:8080/"
        },
        "id": "XEx9Ly2FqVzL",
        "outputId": "18203786-b967-4b5f-ba49-384e3f781239"
      },
      "execution_count": 23,
      "outputs": [
        {
          "output_type": "stream",
          "name": "stdout",
          "text": [
            "['neg', 'unsupBow.feat', 'urls_unsup.txt', 'urls_pos.txt', 'unsup', 'labeledBow.feat', 'urls_neg.txt', 'pos']\n"
          ]
        }
      ]
    },
    {
      "cell_type": "code",
      "source": [
        "sample_file=os.path.join(train_dir,'pos/1189_9.txt')\n",
        "#with: 安全にファイル操作ができるらしい\n",
        "with open(sample_file) as f:\n",
        "  print(f.read())"
      ],
      "metadata": {
        "colab": {
          "base_uri": "https://localhost:8080/"
        },
        "id": "7vo7wZd9rac3",
        "outputId": "0bdc1b02-ffbe-4919-a863-cf3b19da860b"
      },
      "execution_count": 27,
      "outputs": [
        {
          "output_type": "stream",
          "name": "stdout",
          "text": [
            "The Last Hunt is one of the few westerns ever made to deal with Buffalo hunting, both as a sport and business and as a method of winning the plains Indian wars. Before the white man set foot on the other side of the Mississippi, the plains used to have herds of American Bison as large as some of our largest cities. By the time of the period The Last Hunt is set in, the buffalo had been all but wiped out. The 20th century, due to the efforts of conservationists, saw a revival in population of the species, but not hardly like it once was.<br /><br />Robert Taylor and Stewart Granger are co-starring in a second film together and this one is far superior to All the Brothers Were Valiant. Here Stewart Granger is the good guy, a world weary buffalo hunter, who has to go back to a job he hates because of financial considerations.<br /><br />The partner he's chosen to throw in with is Robert Taylor. Forgetting Taylor for the moment, I doubt if there's ever been a meaner, nastier soul than Charlie Gilsen who Taylor portrays. In Devil's Doorway he was an American Indian fighting against the prejudice stirred up by a racist played by Louis Calhern. In The Last Hunt, he's the racist here. He kills both buffalo and Indians for pure pleasure. He kills one Indian family when they steal his mules and takes the widow of one captive. Like some barbarian conqueror he expects the pleasure of Debra Paget's sexual favors. He's actually mad when Paget doesn't see it that way.<br /><br />No matter how often they refer to Russ Tamblyn as a halfbreed, I was never really convinced he was any part Indian. It's the only weakness I found in The Last Hunt.<br /><br />However Lloyd Nolan, the grizzled old buffalo skinner Taylor and Granger bring along is just great. Nolan steals every scene he's in with the cast. <br /><br />For those who like their westerns real, who want to see a side of Robert Taylor never seen on screen, and who don't like cheap heroics, The Last Hunt is the ideal hunt.\n"
          ]
        }
      ]
    }
  ]
}