{
  "nbformat": 4,
  "nbformat_minor": 0,
  "metadata": {
    "colab": {
      "provenance": [],
      "authorship_tag": "ABX9TyMI+gZx0Lnuv1BIlI1bSQbo",
      "include_colab_link": true
    },
    "kernelspec": {
      "name": "python3",
      "display_name": "Python 3"
    },
    "language_info": {
      "name": "python"
    }
  },
  "cells": [
    {
      "cell_type": "markdown",
      "metadata": {
        "id": "view-in-github",
        "colab_type": "text"
      },
      "source": [
        "<a href=\"https://colab.research.google.com/github/nematatu/Colab-Python/blob/master/%E6%84%9F%E6%83%85%E3%81%AB%E3%82%88%E3%82%8B%E3%83%86%E3%82%AD%E3%82%B9%E3%83%88%E3%81%AE%E5%88%86%E9%A1%9E.ipynb\" target=\"_parent\"><img src=\"https://colab.research.google.com/assets/colab-badge.svg\" alt=\"Open In Colab\"/></a>"
      ]
    },
    {
      "cell_type": "code",
      "execution_count": 1,
      "metadata": {
        "id": "P9PaqFwbfaT_"
      },
      "outputs": [],
      "source": [
        "import matplotlib.pyplot as plt\n",
        "#ファイルの作成、ディレクトリの移動とか、OS依存の機能をいじるのに使う\n",
        "import os\n",
        "#re(Regular Expressions)正規表現を扱うのに使う\n",
        "#文字列パターンを検索、抽出、置換したり\n",
        "import re\n",
        "#ファイル、ディレクトリの操作をするのに使う\n",
        "#osと何が違うんだ↓\n",
        "#shutilはosを基に、高度なファイル、ディレクトリ操作ができるようになったものらしい\n",
        "import shutil\n",
        "#文字列の操作に使う\n",
        "import string\n",
        "import tensorflow as tf\n",
        "\n",
        "from tensorflow.keras import layers\n",
        "from tensorflow.keras import losses"
      ]
    },
    {
      "cell_type": "code",
      "source": [
        "print(tf.__version__)"
      ],
      "metadata": {
        "colab": {
          "base_uri": "https://localhost:8080/"
        },
        "id": "19TwHn8oiRcR",
        "outputId": "afc511ac-15cc-437e-afcd-480e763e169a"
      },
      "execution_count": 2,
      "outputs": [
        {
          "output_type": "stream",
          "name": "stdout",
          "text": [
            "2.14.0\n"
          ]
        }
      ]
    },
    {
      "cell_type": "code",
      "source": [
        "#IMDB(Internet Movie DataBase)という50000件の映画レビューから抽出した、データセットを使う\n",
        "#トレーニング用とテスト用に25000件ずつある\n",
        "url = \"https://ai.stanford.edu/~amaas/data/sentiment/aclImdb_v1.tar.gz\"\n",
        "#↑urlからファイルをダウンロードする\n",
        "#tf.keras.utils.get_file()\n",
        "#\"aclImdb\": 保存先のディレクトリ名\n",
        "#url: urlの指定\n",
        "#untar: 保存するファイルが.tarなら、解凍するかどうか\n",
        "#cache_dir: ファイルのダウンロード先のディレクトリを指定\n",
        "#cache_subdir: 保存先のサブディレクトリを指定。今回はなし\n",
        "dataset=tf.keras.utils.get_file(\"aclImdb\",url,untar=True,cache_dir='.',cache_subdir='')\n",
        "dataset_dir=os.path.join(os.path.dirname(dataset),'aclImdb')"
      ],
      "metadata": {
        "colab": {
          "base_uri": "https://localhost:8080/"
        },
        "id": "x1UALQ0vinx-",
        "outputId": "fee5ddc0-5be9-46b3-c6e7-4c00f89a344b"
      },
      "execution_count": 3,
      "outputs": [
        {
          "output_type": "stream",
          "name": "stdout",
          "text": [
            "Downloading data from https://ai.stanford.edu/~amaas/data/sentiment/aclImdb_v1.tar.gz\n",
            "84125825/84125825 [==============================] - 12s 0us/step\n"
          ]
        }
      ]
    },
    {
      "cell_type": "code",
      "source": [
        "print(os.listdir(os.path.dirname(dataset)))\n",
        "os.listdir(dataset_dir)"
      ],
      "metadata": {
        "colab": {
          "base_uri": "https://localhost:8080/"
        },
        "id": "_IfeoArZpImU",
        "outputId": "b4aadf7f-4252-4184-ad48-48329edac6f1"
      },
      "execution_count": 4,
      "outputs": [
        {
          "output_type": "stream",
          "name": "stdout",
          "text": [
            "['.config', 'aclImdb.tar.gz', 'aclImdb', 'sample_data']\n"
          ]
        },
        {
          "output_type": "execute_result",
          "data": {
            "text/plain": [
              "['README', 'train', 'test', 'imdb.vocab', 'imdbEr.txt']"
            ]
          },
          "metadata": {},
          "execution_count": 4
        }
      ]
    },
    {
      "cell_type": "code",
      "source": [
        "train_dir=os.path.join(dataset_dir,'train')\n",
        "print(os.listdir(train_dir))"
      ],
      "metadata": {
        "colab": {
          "base_uri": "https://localhost:8080/"
        },
        "id": "XEx9Ly2FqVzL",
        "outputId": "c6ed77fe-6db4-4735-ee8a-0133e16d7cb8"
      },
      "execution_count": 5,
      "outputs": [
        {
          "output_type": "stream",
          "name": "stdout",
          "text": [
            "['unsupBow.feat', 'unsup', 'labeledBow.feat', 'pos', 'urls_pos.txt', 'neg', 'urls_neg.txt', 'urls_unsup.txt']\n"
          ]
        }
      ]
    },
    {
      "cell_type": "code",
      "source": [
        "sample_file=os.path.join(train_dir,'pos/1189_9.txt')\n",
        "#with: 安全にファイル操作ができるらしい\n",
        "with open(sample_file) as f:\n",
        "  print(f.read())"
      ],
      "metadata": {
        "colab": {
          "base_uri": "https://localhost:8080/"
        },
        "id": "7vo7wZd9rac3",
        "outputId": "603a6704-ce4f-4697-c78c-ef34e817604d"
      },
      "execution_count": 6,
      "outputs": [
        {
          "output_type": "stream",
          "name": "stdout",
          "text": [
            "The Last Hunt is one of the few westerns ever made to deal with Buffalo hunting, both as a sport and business and as a method of winning the plains Indian wars. Before the white man set foot on the other side of the Mississippi, the plains used to have herds of American Bison as large as some of our largest cities. By the time of the period The Last Hunt is set in, the buffalo had been all but wiped out. The 20th century, due to the efforts of conservationists, saw a revival in population of the species, but not hardly like it once was.<br /><br />Robert Taylor and Stewart Granger are co-starring in a second film together and this one is far superior to All the Brothers Were Valiant. Here Stewart Granger is the good guy, a world weary buffalo hunter, who has to go back to a job he hates because of financial considerations.<br /><br />The partner he's chosen to throw in with is Robert Taylor. Forgetting Taylor for the moment, I doubt if there's ever been a meaner, nastier soul than Charlie Gilsen who Taylor portrays. In Devil's Doorway he was an American Indian fighting against the prejudice stirred up by a racist played by Louis Calhern. In The Last Hunt, he's the racist here. He kills both buffalo and Indians for pure pleasure. He kills one Indian family when they steal his mules and takes the widow of one captive. Like some barbarian conqueror he expects the pleasure of Debra Paget's sexual favors. He's actually mad when Paget doesn't see it that way.<br /><br />No matter how often they refer to Russ Tamblyn as a halfbreed, I was never really convinced he was any part Indian. It's the only weakness I found in The Last Hunt.<br /><br />However Lloyd Nolan, the grizzled old buffalo skinner Taylor and Granger bring along is just great. Nolan steals every scene he's in with the cast. <br /><br />For those who like their westerns real, who want to see a side of Robert Taylor never seen on screen, and who don't like cheap heroics, The Last Hunt is the ideal hunt.\n"
          ]
        }
      ]
    },
    {
      "cell_type": "code",
      "source": [
        "remove_dir=os.path.join(train_dir,'unsup')\n",
        "shutil.rmtree(remove_dir)"
      ],
      "metadata": {
        "id": "wZYQ9X6LrU5t"
      },
      "execution_count": 7,
      "outputs": []
    },
    {
      "cell_type": "code",
      "source": [
        "batch_size=32\n",
        "seed=42\n",
        "\n",
        "#元のディレクトリから、テキスト形式のトレーニング用データセットにする\n",
        "raw_train_ds=tf.keras.utils.text_dataset_from_directory(\n",
        "    'aclImdb/train',\n",
        "    batch_size=batch_size,\n",
        "    #内20%を検証用に使う\n",
        "    validation_split=0.2,\n",
        "    subset='training',\n",
        "    seed=seed\n",
        ")"
      ],
      "metadata": {
        "colab": {
          "base_uri": "https://localhost:8080/"
        },
        "id": "aXpMdmChqP8-",
        "outputId": "15cff014-8bc2-4104-abec-490e761209ff"
      },
      "execution_count": 8,
      "outputs": [
        {
          "output_type": "stream",
          "name": "stdout",
          "text": [
            "Found 25000 files belonging to 2 classes.\n",
            "Using 20000 files for training.\n"
          ]
        }
      ]
    },
    {
      "cell_type": "code",
      "source": [
        "print(raw_train_ds.class_names)"
      ],
      "metadata": {
        "colab": {
          "base_uri": "https://localhost:8080/"
        },
        "id": "9ESBQn16udQ7",
        "outputId": "3d754d76-8bfc-47d7-cba3-eb3e46628816"
      },
      "execution_count": 9,
      "outputs": [
        {
          "output_type": "stream",
          "name": "stdout",
          "text": [
            "['neg', 'pos']\n"
          ]
        }
      ]
    },
    {
      "cell_type": "code",
      "source": [
        "for text_batch,label_batch in raw_train_ds.take(1):\n",
        "  for i in range(3):\n",
        "    print(\"Review\",text_batch.numpy()[i])\n",
        "    print(\"Label\",label_batch.numpy()[i])"
      ],
      "metadata": {
        "colab": {
          "base_uri": "https://localhost:8080/"
        },
        "id": "9f-koB9yq8nL",
        "outputId": "639bb67f-3aa2-4706-debf-d7b95fc538a7"
      },
      "execution_count": 10,
      "outputs": [
        {
          "output_type": "stream",
          "name": "stdout",
          "text": [
            "Review b'\"Pandemonium\" is a horror movie spoof that comes off more stupid than funny. Believe me when I tell you, I love comedies. Especially comedy spoofs. \"Airplane\", \"The Naked Gun\" trilogy, \"Blazing Saddles\", \"High Anxiety\", and \"Spaceballs\" are some of my favorite comedies that spoof a particular genre. \"Pandemonium\" is not up there with those films. Most of the scenes in this movie had me sitting there in stunned silence because the movie wasn\\'t all that funny. There are a few laughs in the film, but when you watch a comedy, you expect to laugh a lot more than a few times and that\\'s all this film has going for it. Geez, \"Scream\" had more laughs than this film and that was more of a horror film. How bizarre is that?<br /><br />*1/2 (out of four)'\n",
            "Label 0\n",
            "Review b\"David Mamet is a very interesting and a very un-equal director. His first movie 'House of Games' was the one I liked best, and it set a series of films with characters whose perspective of life changes as they get into complicated situations, and so does the perspective of the viewer.<br /><br />So is 'Homicide' which from the title tries to set the mind of the viewer to the usual crime drama. The principal characters are two cops, one Jewish and one Irish who deal with a racially charged area. The murder of an old Jewish shop owner who proves to be an ancient veteran of the Israeli Independence war triggers the Jewish identity in the mind and heart of the Jewish detective.<br /><br />This is were the flaws of the film are the more obvious. The process of awakening is theatrical and hard to believe, the group of Jewish militants is operatic, and the way the detective eventually walks to the final violent confrontation is pathetic. The end of the film itself is Mamet-like smart, but disappoints from a human emotional perspective.<br /><br />Joe Mantegna and William Macy give strong performances, but the flaws of the story are too evident to be easily compensated.\"\n",
            "Label 0\n",
            "Review b'Great documentary about the lives of NY firefighters during the worst terrorist attack of all time.. That reason alone is why this should be a must see collectors item.. What shocked me was not only the attacks, but the\"High Fat Diet\" and physical appearance of some of these firefighters. I think a lot of Doctors would agree with me that,in the physical shape they were in, some of these firefighters would NOT of made it to the 79th floor carrying over 60 lbs of gear. Having said that i now have a greater respect for firefighters and i realize becoming a firefighter is a life altering job. The French have a history of making great documentary\\'s and that is what this is, a Great Documentary.....'\n",
            "Label 1\n"
          ]
        }
      ]
    },
    {
      "cell_type": "code",
      "source": [
        "print(\"label 0 correspond to \",raw_train_ds.class_names[0])\n",
        "print(\"label 1 correspond to \",raw_train_ds.class_names[1])"
      ],
      "metadata": {
        "colab": {
          "base_uri": "https://localhost:8080/"
        },
        "id": "PIc3GfBxtPJB",
        "outputId": "6e0dd46c-a055-4421-93cf-bf6170757940"
      },
      "execution_count": 11,
      "outputs": [
        {
          "output_type": "stream",
          "name": "stdout",
          "text": [
            "label 0 correspond to  neg\n",
            "label 1 correspond to  pos\n"
          ]
        }
      ]
    },
    {
      "cell_type": "code",
      "source": [
        "#検証用データセットを作成\n",
        "raw_val_ds=tf.keras.utils.text_dataset_from_directory(\n",
        "    'aclImdb/train',\n",
        "    batch_size=batch_size,\n",
        "    validation_split=0.2,\n",
        "    subset='validation',\n",
        "    seed=seed\n",
        ")"
      ],
      "metadata": {
        "id": "0Rv7VbaOo6cs",
        "outputId": "3e9e6d66-ef51-4205-f473-9c35f8fdeaf1",
        "colab": {
          "base_uri": "https://localhost:8080/"
        }
      },
      "execution_count": 12,
      "outputs": [
        {
          "output_type": "stream",
          "name": "stdout",
          "text": [
            "Found 25000 files belonging to 2 classes.\n",
            "Using 5000 files for validation.\n"
          ]
        }
      ]
    },
    {
      "cell_type": "code",
      "source": [
        "#テスト用データセットを作成\n",
        "raw_test_ds=tf.keras.utils.text_dataset_from_directory(\n",
        "    'aclImdb/test',\n",
        "    batch_size=batch_size\n",
        ")"
      ],
      "metadata": {
        "id": "ZXwXrOsHpax5",
        "outputId": "9a4f62bd-004d-4fb0-ed84-d5df91e97930",
        "colab": {
          "base_uri": "https://localhost:8080/"
        }
      },
      "execution_count": 13,
      "outputs": [
        {
          "output_type": "stream",
          "name": "stdout",
          "text": [
            "Found 25000 files belonging to 2 classes.\n"
          ]
        }
      ]
    },
    {
      "cell_type": "code",
      "source": [
        "#<br />とかのHTMLタグを消す編\n",
        "def custom_standardization(input_data):\n",
        "  lower_case=tf.strings.lower(input_data)\n",
        "  #lower_case: 入力された文字列を小文字にしたもの\n",
        "  #の中から、<br />を検索して、空白に置き換える\n",
        "  stripped_html=tf.strings.regex_replace(lower_case,'<br />',' ')\n",
        "  #string.panctuationに句読点などが含まれていて、それを/などをつけてエスケープしている\n",
        "  #エスケープするとは、/!とすることで!に意味を持たせないようにすること\n",
        "  #なぜそうするかというと、正規表現内で!は意味があるらしく、めんどくさいことを回避するためにやってるらしい\n",
        "  #そうして集めた奴らを、['%s']の%sに代入して空白に置換している\n",
        "  return tf.strings.regex_replace(stripped_html,'[%s]' % re.escape(string.punctuation),' ')"
      ],
      "metadata": {
        "id": "iFLuskYQqHWT"
      },
      "execution_count": 34,
      "outputs": []
    },
    {
      "cell_type": "code",
      "source": [
        "#データの前処理編\n",
        "max_features=10000\n",
        "sequence_length=250\n",
        "\n",
        "#テキストデータを整数のベクトルに変換しているらしい\n",
        "vectorize_layer=layers.TextVectorization(\n",
        "    standardize=custom_standardization,\n",
        "    max_tokens=max_features,\n",
        "    output_mode='int',\n",
        "    output_sequence_length=sequence_length\n",
        ")"
      ],
      "metadata": {
        "id": "BFLjL71-vxpY"
      },
      "execution_count": 35,
      "outputs": []
    },
    {
      "cell_type": "code",
      "source": [
        "#前処理実践編\n",
        "#.map()でデータセットに関数を適応させる\n",
        "#lambdaは無名関数で、xとyを引数にとってxを返す関数\n",
        "#raw_train_dsは、(text,label)の形になっていて、textだけを抽出しているということ\n",
        "train_text=raw_train_ds.map(lambda x,y:x)\n",
        "#前処理として、レイヤーにトレーニングデータを元に学習させているだけ\n",
        "#関数の引数的なvectorize_layer(train_text)とは違う\n",
        "#↑はちゃんとテキストをベクトルに変換している\n",
        "#↓は変換まではしない\n",
        "vectorize_layer.adapt(train_text)"
      ],
      "metadata": {
        "id": "DjhCH4ONxSOf"
      },
      "execution_count": 36,
      "outputs": []
    },
    {
      "cell_type": "code",
      "source": [
        "#前処理確認編\n",
        "def vectorize_text(text,label):\n",
        "  #textの要素の-1番目、すなわち最後に１つ次元を追加する\n",
        "  #(batch_size,sequence_length)->(batch_size,sequence_length,1)となる\n",
        "  #最初に追加したければ、ext=tf.expand_dims(text,0)\n",
        "  text=tf.expand_dims(text,-1)\n",
        ""
      ],
      "metadata": {
        "id": "BJc5ANzo0_VY"
      },
      "execution_count": null,
      "outputs": []
    }
  ]
}