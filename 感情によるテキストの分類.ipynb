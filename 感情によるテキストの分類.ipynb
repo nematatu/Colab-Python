{
  "nbformat": 4,
  "nbformat_minor": 0,
  "metadata": {
    "colab": {
      "provenance": [],
      "authorship_tag": "ABX9TyNZfsmiQwKm8isNtytgiZBB",
      "include_colab_link": true
    },
    "kernelspec": {
      "name": "python3",
      "display_name": "Python 3"
    },
    "language_info": {
      "name": "python"
    }
  },
  "cells": [
    {
      "cell_type": "markdown",
      "metadata": {
        "id": "view-in-github",
        "colab_type": "text"
      },
      "source": [
        "<a href=\"https://colab.research.google.com/github/nematatu/Colab-Python/blob/master/%E6%84%9F%E6%83%85%E3%81%AB%E3%82%88%E3%82%8B%E3%83%86%E3%82%AD%E3%82%B9%E3%83%88%E3%81%AE%E5%88%86%E9%A1%9E.ipynb\" target=\"_parent\"><img src=\"https://colab.research.google.com/assets/colab-badge.svg\" alt=\"Open In Colab\"/></a>"
      ]
    },
    {
      "cell_type": "code",
      "execution_count": 2,
      "metadata": {
        "id": "P9PaqFwbfaT_"
      },
      "outputs": [],
      "source": [
        "import matplotlib.pyplot as plt\n",
        "#ファイルの作成、ディレクトリの移動とか、OS依存の機能をいじるのに使う\n",
        "import os\n",
        "#re(Regular Expressions)正規表現を扱うのに使う\n",
        "#文字列パターンを検索、抽出、置換したり\n",
        "import re\n",
        "#ファイル、ディレクトリの操作をするのに使う\n",
        "#osと何が違うんだ↓\n",
        "#shutilはosを基に、高度なファイル、ディレクトリ操作ができるようになったものらしい\n",
        "import shutil\n",
        "#文字列の操作に使う\n",
        "import string\n",
        "import tensorflow as tf\n",
        "\n",
        "from tensorflow.keras import layers\n",
        "from tensorflow.keras import losses"
      ]
    },
    {
      "cell_type": "code",
      "source": [
        "print(tf.__version__)"
      ],
      "metadata": {
        "colab": {
          "base_uri": "https://localhost:8080/"
        },
        "id": "19TwHn8oiRcR",
        "outputId": "45bfd0e3-a152-4347-c20f-d9333ba96ad5"
      },
      "execution_count": 3,
      "outputs": [
        {
          "output_type": "stream",
          "name": "stdout",
          "text": [
            "2.14.0\n"
          ]
        }
      ]
    },
    {
      "cell_type": "code",
      "source": [
        "#IMDB(Internet Movie DataBase)という50000件の映画レビューから抽出した、データセットを使う\n",
        "#トレーニング用とテスト用に25000件ずつある\n",
        "url = \"https://ai.stanford.edu/~amaas/data/sentiment/aclImdb_v1.tar.gz\"\n",
        "#↑urlからファイルをダウンロードする\n",
        "#tf.keras.utils.get_file()\n",
        "#\"aclImdb\": 保存先のディレクトリ名\n",
        "#url: urlの指定\n",
        "#untar: 保存するファイルが.tarなら、解凍するかどうか\n",
        "#cache_dir: ファイルのダウンロード先のディレクトリを指定\n",
        "#cache_subdir: 保存先のサブディレクトリを指定。今回はなし\n",
        "dataset=tf.keras.utils.get_file(\"aclImdb\",url,untar=True,cache_dir='.',cache_subdir='')\n",
        "dataset_dir=os.path.join(os.path.dirname(dataset),'aclImdb')"
      ],
      "metadata": {
        "colab": {
          "base_uri": "https://localhost:8080/"
        },
        "id": "x1UALQ0vinx-",
        "outputId": "cf8bb35b-0f34-4dc9-f63e-9f33701e18a6"
      },
      "execution_count": 4,
      "outputs": [
        {
          "output_type": "stream",
          "name": "stdout",
          "text": [
            "Downloading data from https://ai.stanford.edu/~amaas/data/sentiment/aclImdb_v1.tar.gz\n",
            "84125825/84125825 [==============================] - 12s 0us/step\n"
          ]
        }
      ]
    },
    {
      "cell_type": "code",
      "source": [
        "print(os.listdir(os.path.dirname(dataset)))\n",
        "os.listdir(dataset_dir)"
      ],
      "metadata": {
        "colab": {
          "base_uri": "https://localhost:8080/"
        },
        "id": "_IfeoArZpImU",
        "outputId": "7be2e418-03f4-4f14-9806-30ad3259e4ba"
      },
      "execution_count": 5,
      "outputs": [
        {
          "output_type": "stream",
          "name": "stdout",
          "text": [
            "['.config', 'aclImdb.tar.gz', 'aclImdb', 'sample_data']\n"
          ]
        },
        {
          "output_type": "execute_result",
          "data": {
            "text/plain": [
              "['train', 'README', 'imdbEr.txt', 'test', 'imdb.vocab']"
            ]
          },
          "metadata": {},
          "execution_count": 5
        }
      ]
    },
    {
      "cell_type": "code",
      "source": [
        "train_dir=os.path.join(dataset_dir,'train')\n",
        "print(os.listdir(train_dir))"
      ],
      "metadata": {
        "colab": {
          "base_uri": "https://localhost:8080/"
        },
        "id": "XEx9Ly2FqVzL",
        "outputId": "d2c11f22-b84b-43eb-f3b7-b3743be37c5a"
      },
      "execution_count": 6,
      "outputs": [
        {
          "output_type": "stream",
          "name": "stdout",
          "text": [
            "['neg', 'unsup', 'labeledBow.feat', 'urls_pos.txt', 'urls_unsup.txt', 'unsupBow.feat', 'pos', 'urls_neg.txt']\n"
          ]
        }
      ]
    },
    {
      "cell_type": "code",
      "source": [
        "sample_file=os.path.join(train_dir,'pos/1189_9.txt')\n",
        "#with: 安全にファイル操作ができるらしい\n",
        "with open(sample_file) as f:\n",
        "  print(f.read())"
      ],
      "metadata": {
        "colab": {
          "base_uri": "https://localhost:8080/"
        },
        "id": "7vo7wZd9rac3",
        "outputId": "65d147fd-8f9b-47ba-d478-d002b2e8abcb"
      },
      "execution_count": 7,
      "outputs": [
        {
          "output_type": "stream",
          "name": "stdout",
          "text": [
            "The Last Hunt is one of the few westerns ever made to deal with Buffalo hunting, both as a sport and business and as a method of winning the plains Indian wars. Before the white man set foot on the other side of the Mississippi, the plains used to have herds of American Bison as large as some of our largest cities. By the time of the period The Last Hunt is set in, the buffalo had been all but wiped out. The 20th century, due to the efforts of conservationists, saw a revival in population of the species, but not hardly like it once was.<br /><br />Robert Taylor and Stewart Granger are co-starring in a second film together and this one is far superior to All the Brothers Were Valiant. Here Stewart Granger is the good guy, a world weary buffalo hunter, who has to go back to a job he hates because of financial considerations.<br /><br />The partner he's chosen to throw in with is Robert Taylor. Forgetting Taylor for the moment, I doubt if there's ever been a meaner, nastier soul than Charlie Gilsen who Taylor portrays. In Devil's Doorway he was an American Indian fighting against the prejudice stirred up by a racist played by Louis Calhern. In The Last Hunt, he's the racist here. He kills both buffalo and Indians for pure pleasure. He kills one Indian family when they steal his mules and takes the widow of one captive. Like some barbarian conqueror he expects the pleasure of Debra Paget's sexual favors. He's actually mad when Paget doesn't see it that way.<br /><br />No matter how often they refer to Russ Tamblyn as a halfbreed, I was never really convinced he was any part Indian. It's the only weakness I found in The Last Hunt.<br /><br />However Lloyd Nolan, the grizzled old buffalo skinner Taylor and Granger bring along is just great. Nolan steals every scene he's in with the cast. <br /><br />For those who like their westerns real, who want to see a side of Robert Taylor never seen on screen, and who don't like cheap heroics, The Last Hunt is the ideal hunt.\n"
          ]
        }
      ]
    },
    {
      "cell_type": "code",
      "source": [
        "remove_dir=os.path.join(train_dir,'unsup')\n",
        "#shutil.rmtree(remove_dir)"
      ],
      "metadata": {
        "id": "wZYQ9X6LrU5t"
      },
      "execution_count": 8,
      "outputs": []
    },
    {
      "cell_type": "code",
      "source": [
        "batch_size=32\n",
        "seed=42\n",
        "\n",
        "#元のディレクトリから、テキスト形式のトレーニング用データセットにする\n",
        "raw_train_ds=tf.keras.utils.text_dataset_from_directory(\n",
        "    'aclImdb/train',\n",
        "    batch_size=batch_size,\n",
        "    #内20%を検証用に使う\n",
        "    validation_split=0.2,\n",
        "    subset='training',\n",
        "    seed=seed\n",
        ")"
      ],
      "metadata": {
        "colab": {
          "base_uri": "https://localhost:8080/"
        },
        "id": "aXpMdmChqP8-",
        "outputId": "06701b38-0ea3-43a7-b7c0-c4b32eda80f2"
      },
      "execution_count": 9,
      "outputs": [
        {
          "output_type": "stream",
          "name": "stdout",
          "text": [
            "Found 75000 files belonging to 3 classes.\n",
            "Using 60000 files for training.\n"
          ]
        }
      ]
    },
    {
      "cell_type": "code",
      "source": [
        "print(raw_train_ds.class_names)"
      ],
      "metadata": {
        "colab": {
          "base_uri": "https://localhost:8080/"
        },
        "id": "9ESBQn16udQ7",
        "outputId": "6b9ffb0e-f4ed-4220-8196-c2b412ba64cf"
      },
      "execution_count": 10,
      "outputs": [
        {
          "output_type": "stream",
          "name": "stdout",
          "text": [
            "['neg', 'pos', 'unsup']\n"
          ]
        }
      ]
    },
    {
      "cell_type": "code",
      "source": [
        "for text_batch,label_batch in raw_train_ds.take(1):\n",
        "  for i in range(3):\n",
        "    print(\"Review\",text_batch.numpy()[i])\n",
        "    print(\"Label\",label_batch.numpy()[i])"
      ],
      "metadata": {
        "colab": {
          "base_uri": "https://localhost:8080/"
        },
        "id": "9f-koB9yq8nL",
        "outputId": "8fa92fce-7af5-4d95-aa8f-9254e21ecb7e"
      },
      "execution_count": 11,
      "outputs": [
        {
          "output_type": "stream",
          "name": "stdout",
          "text": [
            "Review b'There is this father-son conversation in the climax of \\'KALPURUSH\\'. I quote the English DVD-subtitle version. Shumonto tells his father: \"I may not have become someone, but when I see two people in love, I smile. And when I see someone eating alone, I cry.\" Ashvini, his father, replies wistfully: \"I wish I could\\'ve lived my life like you did.\" These 2 lines, perhaps, comprise the gist of this new film by Buddhadev Dasgupta - director of teeny-weeny gems like \\'Tahader Katha\\', \\'Bagh Bahadur\\', \\'Uttara\\' & \\'Mondo Meyer Upakhyan\\' - which took nearly 3 years to reach the cinemas in India.<br /><br />The film opens with a man called Ashvini following a younger man called Shumonto, who, we are told, is his son. It seems that the father is stalking - or haunting, rather - his son. As the film progresses and we meet Shumonto\\'s ambitious wife, Supriya, and his mother, Koyel, who seems to be tied up with something in her past, we realise that the son is, indeed, haunted by his father who was a somebody. He was a successful doctor and they had this beautiful family, but something - or someone - comes in and this happy husband-wife-child drift apart. This drifting apart is too hard for these three to endure, and the son, we see, is unable to lead even a proper relationship with his wife.<br /><br />I don\\'t know of too many father-son films from Bollywood or other Indian language films. I\\'ve seen only Ramesh Sippy\\'s \\'Shakti\\' & Feroze A. Khan\\'s \\'Gandhi, my father\\'. Both were the powerful types with dramatic, sad endings. I\\'ve also seen \\'Thevar Magan\\' & its Hindi remake \\'Virasat\\', but they were different. KALPURUSH is drama, but not the powerful type. It is, like other Dasgupta films, creatively- photographed, dream-like, poetic & soft. This keeps the viewer absolutely un-prepared for the surprise ending, for the film hardly feels like a father-son film. It starts like a husband-wife story, creates the tension, goes to become a mother-son film, and then explains why it is so, why the son is so, what was his relationship like with his father, what happens to the father, the mother, what the son\\'s wife does, and how the son carries on with his life.<br /><br />It would be unfair to dub KALPURUSH strictly for Buddhadev Dasgupta fans. However, I do suggest that the viewers acquaint themselves with Dasgupta\\'s films before going to see KALPURUSH. Dasgupta\\'s films are often accused of having a near-invisible storyline. KALPURUSH is no different. It starts, too, in a very un-Buddhadev Dasgupta-ish way. Instead of bare landscapes of Puruliya & Midnapore, one sees the trams of Calcutta in the opening credits. It helps, though, for it is like - What is this, urban Bengal? Soon after this, the film turns typical Dasgupta. The rural Bengal, this time, are the scenic outdoor locales of coastal Orissa.<br /><br />The actors are stupendous. Mithun Chakraborty is a legend. This is his second film with Dasgupta. He plays his age, suits the part, one just has to see him in this one. Rahul Bose is so silent one could feel the loss of his loser character. Sameera Reddy has looked good in just 3 films - \\'Musafir\\', \\'Migration\\' & \\'Kalpurush\\'. I haven\\'t seen \\'Ami, Yasin ar amar Madhubala\\' so I can\\'t comment on that. She better shift to the Bengali film industry. A mentor like Dasgupta would surely do her a lot good. Sudipta Chakraborty\\'s Other Woman role is short, but long enough to bring in that right amount of glamour, desire & heartbreak. Labony Sarkar is natural with a capital N.<br /><br />With the usual Buddhadev Dasgupta tropes in place, KALPURUSH is a visual treat. There are bare landscapes, dry leaves flying in the wind, haunting background score, mysterious folk artistes in even more mysterious costumes & masks, dilapidated, old buildings, and things rustic and antique. This time there is also the sea and an aeroplane flying right outside the open window. KALPURUSH is a film which needs to be seen.'\n",
            "Label 2\n",
            "Review b'The year 2005 saw no fewer than 3 filmed productions of H. G. Wells\\' great novel, \"War of the Worlds\". This is perhaps the least well-known and very probably the best of them. No other version of WotW has ever attempted not only to present the story very much as Wells wrote it, but also to create the atmosphere of the time in which it was supposed to take place: the last year of the 19th Century, 1900 \\xc2\\x85 using Wells\\' original setting, in and near Woking, England.<br /><br />IMDb seems unfriendly to what they regard as \"spoilers\". That might apply with some films, where the ending might actually be a surprise, but with regard to one of the most famous novels in the world, it seems positively silly. I have no sympathy for people who have neglected to read one of the seminal works in English literature, so let\\'s get right to the chase. The aliens are destroyed through catching an Earth disease, against which they have no immunity. If that\\'s a spoiler, so be it; after a book and 3 other films (including the 1953 classic), you ought to know how this ends.<br /><br />This film, which follows Wells\\' plot in the main, is also very cleverly presented \\xc2\\x96 in a way that might put many viewers off due to their ignorance of late 19th/early 20th Century photography. Although filmed in a widescreen aspect, the film goes to some lengths to give an impression of contemporaneity. The general coloration of skin and clothes display a sepia tint often found in old photographs (rather than black). Colors are often reminiscent of hand-tinting. At other times, colors are washed out. These variations are typical of early films, which didn\\'t use standardized celluloid stock and therefore presented a good many changes in print quality, even going from black/white to sepia/white to blue/white to reddish/white and so on \\xc2\\x96 as you\\'ll see on occasion here. The special effects are deliberately retrograde, of a sort seen even as late as the 1920s \\xc2\\x96 and yet the Martians and their machines are very much as Wells described them and have a more nearly realistic \"feel\". Some of effects are really awkward \\xc2\\x96 such as the destruction of Big Ben. The acting is often more in the style of that period than ours. Some aspects of Victorian dress may appear odd, particularly the use of pomade or brilliantine on head and facial hair.<br /><br />This film is the only one that follows with some closeness Wells\\' original narrative \\xc2\\x96 as has been noted. Viewers may find it informative to note plot details that appear here that are occasionally retained in other versions of the story. Wells\\' description of the Martians \\xc2\\x96 a giant head mounted on numerous tentacles \\xc2\\x96 is effectively portrayed. When the Martian machines appear, about an hour into the film, they too give a good impression of how Wells described them. Both Wells and this film do an excellent job of portraying the progress of the Martians from the limited perspective (primarily) of rural England \\xc2\\x96 plus a few scenes in London (involving the Narrator\\'s brother). The director is unable to resist showing the destruction of a major landmark (Big Ben), but at least doesn\\'t dwell unduly on the devastation of London.<br /><br />The victory of the Martians is hardly a surprise, despite the destruction by cannon of some of their machines. The Narrator, traveling about to seek escape, sees much of what Wells terms \"the rout of Mankind\". He encounters a curate endowed with the Victorian affliction of a much too precious and nervous personality. They eventually find themselves on the very edge of a Martian nest, where they discover an awful fact: the Martians are shown to be vampires who consume their prey alive in a very effective scene. Wells adds that after eating they set up \"a prolonged and cheerful hooting\". The Narrator finally is obliged to beat senseless the increasingly hysterical curate \\xc2\\x96 who revives just as the Martians drag him off to the larder (cheers from the gallery; British curates are so often utterly insufferable).<br /><br />This film lasts almost 3 hours, going through Wells\\' story in welcome detail. It\\'s about time the author got his due \\xc2\\x96 in a compelling presentation that builds in dramatic impact. A word about the acting: Don\\'t expect award-winning performances. They\\'re not bad, however, the actors are earnest and they grow on you. Most of them, however, have had very abbreviated film careers, often only in this film. The Narrator is played by hunky Anthony Piana, in his 2nd film. The Curate is John Kaufman \\xc2\\x96 also in his 2nd film as an actor but who has had more experience directing. The Brother (\"Henderson\") is played with some conviction by W. Bernard Bauman in his first film. The Artilleryman, the only other sizable part, is played by James Lathrop in his first film.<br /><br />This is overall a splendid film, portraying for the first time the War of the Worlds as Wells wrote it. Despite its slight defects, it is far and away better than any of its hyped-up competitors. If you want to see H. G. Wells\\' War of the Worlds \\xc2\\x96 and not some wholly distorted version of it \\xc2\\x96 see this film!'\n",
            "Label 1\n",
            "Review b\"This show is probably one of the worst shows I've seen on the network. I have begun to even avoid its commercials because I still am astonished how its been on TV so long. This show is probably the worst thing I've seen in a decade. When I say bad... I MEAN BAD. The things done are mostly scripted and very repetitive. All there is, is riots and people beating other people up. I just don't understand how this show was even thought about putting it on air, because its just so bad. It's completely ridiculous. Out of 5 stars *****, I don't think I would even give it a star.<br /><br />At all costs. Avoid this show.\"\n",
            "Label 2\n"
          ]
        }
      ]
    },
    {
      "cell_type": "code",
      "source": [
        "print(\"label 0 correspond to \",raw_train_ds.class_names[0])\n",
        "print(\"label 1 correspond to \",raw_train_ds.class_names[1])"
      ],
      "metadata": {
        "colab": {
          "base_uri": "https://localhost:8080/"
        },
        "id": "PIc3GfBxtPJB",
        "outputId": "47e2c50d-89ac-451b-a82b-09dcb637dde9"
      },
      "execution_count": 12,
      "outputs": [
        {
          "output_type": "stream",
          "name": "stdout",
          "text": [
            "label 0 correspond to  neg\n",
            "label 1 correspond to  pos\n"
          ]
        }
      ]
    },
    {
      "cell_type": "code",
      "source": [
        "#検証用データセットを作成\n",
        "raw_val_ds=tf.keras.utils.text_dataset_from_directory(\n",
        "    'aclImdb/train',\n",
        "    batch_size=batch_size,\n",
        "    validation_split=0.2,\n",
        "    subset='validation',\n",
        "    seed=seed\n",
        ")"
      ],
      "metadata": {
        "colab": {
          "base_uri": "https://localhost:8080/"
        },
        "id": "0Rv7VbaOo6cs",
        "outputId": "7b7e31a5-1523-4bbd-dffe-fc1110e2810e"
      },
      "execution_count": 13,
      "outputs": [
        {
          "output_type": "stream",
          "name": "stdout",
          "text": [
            "Found 75000 files belonging to 3 classes.\n",
            "Using 15000 files for validation.\n"
          ]
        }
      ]
    },
    {
      "cell_type": "code",
      "source": [
        "#テスト用データセットを作成\n",
        "raw_test_ds=tf.keras.utils.text_dataset_from_directory(\n",
        "    'aclImdb/test',\n",
        "    batch_size=batch_size\n",
        ")"
      ],
      "metadata": {
        "colab": {
          "base_uri": "https://localhost:8080/"
        },
        "id": "ZXwXrOsHpax5",
        "outputId": "97027326-b9da-40bf-c6d8-463e04864643"
      },
      "execution_count": 14,
      "outputs": [
        {
          "output_type": "stream",
          "name": "stdout",
          "text": [
            "Found 25000 files belonging to 2 classes.\n"
          ]
        }
      ]
    },
    {
      "cell_type": "code",
      "source": [
        "#<br />とかのHTMLタグを消す編\n",
        "def custom_standardization(input_data):\n",
        "  lower_case=tf.strings.lower(input_data)\n",
        "  #lower_case: 入力された文字列を小文字にしたもの\n",
        "  #の中から、<br />を検索して、空白に置き換える\n",
        "  stripped_html=tf.strings.regex_replace(lower_case,'<br />',' ')\n",
        "  #string.panctuationに句読点などが含まれていて、それを/などをつけてエスケープしている\n",
        "  #エスケープするとは、/!とすることで!に意味を持たせないようにすること\n",
        "  #なぜそうするかというと、正規表現内で!は意味があるらしく、めんどくさいことを回避するためにやってるらしい\n",
        "  #そうして集めた奴らを、['%s']の%sに代入して空白に置換している\n",
        "  return tf.strings.regex_replace(stripped_html,'[%s]' % re.escape(string.punctuation),' ')"
      ],
      "metadata": {
        "id": "iFLuskYQqHWT"
      },
      "execution_count": 15,
      "outputs": []
    },
    {
      "cell_type": "code",
      "source": [
        "#データの前処理編\n",
        "max_features=10000\n",
        "sequence_length=250\n",
        "\n",
        "#テキストデータを整数のベクトルに変換しているらしい\n",
        "vectorize_layer=layers.TextVectorization(\n",
        "    standardize=custom_standardization,\n",
        "    max_tokens=max_features,\n",
        "    output_mode='int',\n",
        "    output_sequence_length=sequence_length\n",
        ")"
      ],
      "metadata": {
        "id": "BFLjL71-vxpY"
      },
      "execution_count": 16,
      "outputs": []
    },
    {
      "cell_type": "code",
      "source": [
        "#前処理実践編\n",
        "#.map()でデータセットに関数を適応させる\n",
        "#lambdaは無名関数で、xとyを引数にとってxを返す関数\n",
        "#raw_train_dsは、(text,label)の形になっていて、textだけを抽出しているということ\n",
        "train_text=raw_train_ds.map(lambda x,y:x)\n",
        "#前処理として、レイヤーにトレーニングデータを元に学習させているだけ\n",
        "#関数の引数的なvectorize_layer(train_text)とは違う\n",
        "#↑はちゃんとテキストをベクトルに変換している\n",
        "#↓は変換まではしない\n",
        "vectorize_layer.adapt(train_text)"
      ],
      "metadata": {
        "id": "DjhCH4ONxSOf"
      },
      "execution_count": 17,
      "outputs": []
    },
    {
      "cell_type": "code",
      "source": [
        "#前処理確認編\n",
        "def vectorize_text(text,label):\n",
        "  #textの要素の-1番目、すなわち最後に１つ次元を追加する\n",
        "  #(batch_size,sequence_length)->(batch_size,sequence_length,1)となる\n",
        "  #最初に追加したければ、ext=tf.expand_dims(text,0)\n",
        "  text=tf.expand_dims(text,-1)\n",
        "  return vectorize_layer(text),label"
      ],
      "metadata": {
        "id": "BJc5ANzo0_VY"
      },
      "execution_count": 18,
      "outputs": []
    },
    {
      "cell_type": "code",
      "source": [
        "#next(iter())を使うことでいい感じにメモリを効率よく使えるらしい\n",
        "#やってることは、全部取ってきてる\n",
        "text_batch,label_batch=next(iter(raw_train_ds))\n",
        "first_review,first_label=text_batch[0],label_batch[0]\n",
        "\n",
        "print(\"Review\",first_review)\n",
        "print(\"Label\",raw_train_ds.class_names[first_label])\n",
        "print(\"Vectorized review\",vectorize_text(first_review,first_label))"
      ],
      "metadata": {
        "colab": {
          "base_uri": "https://localhost:8080/"
        },
        "id": "BgxUigV-5Ng1",
        "outputId": "3005ff55-2e81-4911-a04f-5e1b78796dce"
      },
      "execution_count": 19,
      "outputs": [
        {
          "output_type": "stream",
          "name": "stdout",
          "text": [
            "Review tf.Tensor(b\"British man Brian Roberts (Michael York) comes to Berlin to teach English in the 1930's, at the time the Nazi party is rising.There he meets an interesting singer Sally Bowles (Liza Minnelli).The bi-sexual teacher becomes very fond of her.In between there's the handsome and rich Maximilian von Heune (Helmut Griem).In Berlin he also meets people as Fritz Wendel (Fritz Wepper) and (Natalia Landauer).They're both Jewish and attracted to each other.Joel Grey is the eccentric Master of Ceremonies.The cast is absolutely fantastic in this Bob Fosse's musical drama.I read about two years ago Christopher Isherwood's Goodbye to Berlin, which this movie is based on.This week I saw the movie and they're both great.In the movie you can hear the songs being sang and they're all marvelous.I truly recommend this movie to a whole bunch of people.\", shape=(), dtype=string)\n",
            "Label unsup\n",
            "Vectorized review (<tf.Tensor: shape=(1, 250), dtype=int64, numpy=\n",
            "array([[ 705,  127, 1736, 2816,  508,  714,  267,    6, 4321,    6, 3314,\n",
            "         660,    9,    2, 3890,   13,   33,    2,   59,    2, 2166, 1019,\n",
            "           7, 4520,   40,   25,  949,   36,  210, 1843, 4012,    1, 7452,\n",
            "        7260,    2, 9949,  859, 1560,  466,   54, 4397,    5,   41,    9,\n",
            "         201,   40,   13,    2, 2228,    3,  953,    1, 3043,    1,    1,\n",
            "           1,    9, 4321,   25,   80,  949,   77,   15, 7228,    1, 7228,\n",
            "           1,    3,    1,    1,   32,  152,  195, 2785,    3, 3808,    6,\n",
            "         255,   82, 5093, 3541,    7,    2, 4031, 1164,    5,    1,    2,\n",
            "         178,    7,  437,  831,    9,   11, 1412, 9439,   13,  719,  440,\n",
            "          10,  354,   44,  106,  155,  601, 1524,    1,   13, 6343,    6,\n",
            "        4321,   62,   11,   18,    7,  431,   23,   11, 1265,   10,  215,\n",
            "           2,   18,    3,   32,  152,  195,   83,    9,    2,   18,   21,\n",
            "          51,  845,    2,  752,  108, 6336,    3,   32,  152,   31, 3027,\n",
            "          10,  376,  392,   11,   18,    6,    4,  217,  743,    5,   77,\n",
            "           0,    0,    0,    0,    0,    0,    0,    0,    0,    0,    0,\n",
            "           0,    0,    0,    0,    0,    0,    0,    0,    0,    0,    0,\n",
            "           0,    0,    0,    0,    0,    0,    0,    0,    0,    0,    0,\n",
            "           0,    0,    0,    0,    0,    0,    0,    0,    0,    0,    0,\n",
            "           0,    0,    0,    0,    0,    0,    0,    0,    0,    0,    0,\n",
            "           0,    0,    0,    0,    0,    0,    0,    0,    0,    0,    0,\n",
            "           0,    0,    0,    0,    0,    0,    0,    0,    0,    0,    0,\n",
            "           0,    0,    0,    0,    0,    0,    0,    0,    0,    0,    0,\n",
            "           0,    0,    0,    0,    0,    0,    0,    0]])>, <tf.Tensor: shape=(), dtype=int32, numpy=2>)\n"
          ]
        }
      ]
    },
    {
      "cell_type": "code",
      "source": [
        "print(\"1287 --->\",vectorize_layer.get_vocabulary()[1287])\n",
        "print(\"313 --->\",vectorize_layer.get_vocabulary()[313])\n",
        "print('vocabulary size: {}'.format(len(vectorize_layer.get_vocabulary())))\n"
      ],
      "metadata": {
        "id": "FjFC92I0GEMt",
        "outputId": "b59b3241-5d5e-4f1d-c479-8cefd4dbfc2b",
        "colab": {
          "base_uri": "https://localhost:8080/"
        }
      },
      "execution_count": 20,
      "outputs": [
        {
          "output_type": "stream",
          "name": "stdout",
          "text": [
            "1287 ---> trip\n",
            "313 ---> wife\n",
            "vocabulary size: 10000\n"
          ]
        }
      ]
    },
    {
      "cell_type": "code",
      "source": [
        "#最後の前処理\n",
        "train_ds=raw_train_ds.map(vectorize_text)\n",
        "val_ds=raw_val_ds.map(vectorize_text)\n",
        "test_ds=raw_test_ds.map(vectorize_text)"
      ],
      "metadata": {
        "id": "KiKKkcDPGoD4"
      },
      "execution_count": 21,
      "outputs": []
    },
    {
      "cell_type": "code",
      "source": [
        "#AUTOTUNE: パフォーマンスを向上させるために自動で最適な値が選ばれる\n",
        "AUTOTUNE=tf.data.AUTOTUNE\n",
        "\n",
        "#cache()とすることで、データセットを一時的に保存することで以後高速化できる\n",
        "#prefetch() :非同期に実行。トレーニングと、データの前処理などを非同期にいける\n",
        "train_ds=train_ds.cache().prefetch(buffer_size=AUTOTUNE)\n",
        "val_ds=val_ds.cache().prefetch(buffer_size=AUTOTUNE)\n",
        "test_ds=test_ds.cache().prefetch(buffer_size=AUTOTUNE)"
      ],
      "metadata": {
        "id": "ncULiRsGHb_P"
      },
      "execution_count": 22,
      "outputs": []
    },
    {
      "cell_type": "code",
      "source": [
        "#モデルを作成\n",
        "embedding_dim=16"
      ],
      "metadata": {
        "id": "HOCuXoyLJG3N"
      },
      "execution_count": 23,
      "outputs": []
    },
    {
      "cell_type": "code",
      "source": [
        "model=tf.keras.Sequential([\n",
        "    #layers.Embedding(): 自然言語処理系でよく使われる、文章を多次元ベクトルに変換するAPI\n",
        "    layers.Embedding(max_features+1,embedding_dim),\n",
        "    layers.Dropout(0.2),\n",
        "    #GlobalAveragePooling1D: Embeddingによってベクトルに変換された文章のベクトルの次元ごとに平均を取る\n",
        "    #これにより、文章の特徴をコンパクトにまとめることができる\n",
        "    layers.GlobalAveragePooling1D(),\n",
        "    layers.Dropout(0.2),\n",
        "    layers.Dense(1)\n",
        "])\n",
        "\n",
        "model.summary()"
      ],
      "metadata": {
        "id": "m3zX1FEcJMGB",
        "outputId": "f984f5af-85dd-4327-c288-b9184ab6fa5c",
        "colab": {
          "base_uri": "https://localhost:8080/"
        }
      },
      "execution_count": 24,
      "outputs": [
        {
          "output_type": "stream",
          "name": "stdout",
          "text": [
            "Model: \"sequential\"\n",
            "_________________________________________________________________\n",
            " Layer (type)                Output Shape              Param #   \n",
            "=================================================================\n",
            " embedding (Embedding)       (None, None, 16)          160016    \n",
            "                                                                 \n",
            " dropout (Dropout)           (None, None, 16)          0         \n",
            "                                                                 \n",
            " global_average_pooling1d (  (None, 16)                0         \n",
            " GlobalAveragePooling1D)                                         \n",
            "                                                                 \n",
            " dropout_1 (Dropout)         (None, 16)                0         \n",
            "                                                                 \n",
            " dense (Dense)               (None, 1)                 17        \n",
            "                                                                 \n",
            "=================================================================\n",
            "Total params: 160033 (625.13 KB)\n",
            "Trainable params: 160033 (625.13 KB)\n",
            "Non-trainable params: 0 (0.00 Byte)\n",
            "_________________________________________________________________\n"
          ]
        }
      ]
    },
    {
      "cell_type": "code",
      "source": [
        "model.compile(\n",
        "    loss=losses.BinaryCrossentropy(from_logits=True),\n",
        "    optimizer='adam',\n",
        "    metrics=tf.metrics.BinaryAccuracy(threshold=0.0)\n",
        ")"
      ],
      "metadata": {
        "id": "NtvCyhi7NTDf"
      },
      "execution_count": 25,
      "outputs": []
    },
    {
      "cell_type": "code",
      "source": [
        "epochs=10\n",
        "history=model.fit(\n",
        "    train_ds,\n",
        "    #validataion_data: トレーニング後に検証用データセットを使って評価する\n",
        "    validation_data=val_ds,\n",
        "    epochs=epochs\n",
        ")"
      ],
      "metadata": {
        "id": "i8OLoZv0Q6LA",
        "outputId": "3fddbfdf-a4d6-4554-80eb-af95dad82de6",
        "colab": {
          "base_uri": "https://localhost:8080/"
        }
      },
      "execution_count": 26,
      "outputs": [
        {
          "output_type": "stream",
          "name": "stdout",
          "text": [
            "Epoch 1/10\n",
            "1875/1875 [==============================] - 25s 13ms/step - loss: -15.3755 - binary_accuracy: 0.1663 - val_loss: -43.5949 - val_binary_accuracy: 0.1681\n",
            "Epoch 2/10\n",
            "1875/1875 [==============================] - 15s 8ms/step - loss: -96.3056 - binary_accuracy: 0.1663 - val_loss: -152.8668 - val_binary_accuracy: 0.1681\n",
            "Epoch 3/10\n",
            "1875/1875 [==============================] - 17s 9ms/step - loss: -234.6417 - binary_accuracy: 0.1663 - val_loss: -310.3115 - val_binary_accuracy: 0.1681\n",
            "Epoch 4/10\n",
            "1875/1875 [==============================] - 16s 8ms/step - loss: -417.9184 - binary_accuracy: 0.1663 - val_loss: -510.8307 - val_binary_accuracy: 0.1681\n",
            "Epoch 5/10\n",
            "1875/1875 [==============================] - 16s 8ms/step - loss: -645.2557 - binary_accuracy: 0.1663 - val_loss: -753.1915 - val_binary_accuracy: 0.1681\n",
            "Epoch 6/10\n",
            "1875/1875 [==============================] - 15s 8ms/step - loss: -917.5320 - binary_accuracy: 0.1663 - val_loss: -1036.9404 - val_binary_accuracy: 0.1681\n",
            "Epoch 7/10\n",
            "1875/1875 [==============================] - 15s 8ms/step - loss: -1228.7754 - binary_accuracy: 0.1663 - val_loss: -1361.2571 - val_binary_accuracy: 0.1681\n",
            "Epoch 8/10\n",
            "1875/1875 [==============================] - 15s 8ms/step - loss: -1585.8865 - binary_accuracy: 0.1663 - val_loss: -1726.5525 - val_binary_accuracy: 0.1681\n",
            "Epoch 9/10\n",
            "1875/1875 [==============================] - 16s 8ms/step - loss: -1979.5247 - binary_accuracy: 0.1663 - val_loss: -2131.4856 - val_binary_accuracy: 0.1681\n",
            "Epoch 10/10\n",
            "1875/1875 [==============================] - 16s 8ms/step - loss: -2416.2407 - binary_accuracy: 0.1663 - val_loss: -2576.3206 - val_binary_accuracy: 0.1681\n"
          ]
        }
      ]
    },
    {
      "cell_type": "code",
      "source": [
        "loss,accuracy=model.evaluate(test_ds)\n",
        "\n",
        "print(\"Loss: \",loss)\n",
        "print(\"Accuracy: \",accuracy)"
      ],
      "metadata": {
        "id": "UeA4bZm5WZVk",
        "outputId": "ff9a88d2-471c-4276-cfe3-e5b9bdaa2766",
        "colab": {
          "base_uri": "https://localhost:8080/"
        }
      },
      "execution_count": 27,
      "outputs": [
        {
          "output_type": "stream",
          "name": "stdout",
          "text": [
            "782/782 [==============================] - 4s 4ms/step - loss: 2640.3953 - binary_accuracy: 0.5000\n",
            "Loss:  2640.395263671875\n",
            "Accuracy:  0.5\n"
          ]
        }
      ]
    },
    {
      "cell_type": "code",
      "source": [
        "#history.histroy: model.fit()中に全ての情報\n",
        "history_dict=history.history\n",
        "#history.historyに含まれる項目を出してる\n",
        "history_dict.keys()"
      ],
      "metadata": {
        "id": "FA8hK-N5W1vP",
        "outputId": "660e0fe7-27d9-4433-8a74-7ea95523ff71",
        "colab": {
          "base_uri": "https://localhost:8080/"
        }
      },
      "execution_count": 28,
      "outputs": [
        {
          "output_type": "execute_result",
          "data": {
            "text/plain": [
              "dict_keys(['loss', 'binary_accuracy', 'val_loss', 'val_binary_accuracy'])"
            ]
          },
          "metadata": {},
          "execution_count": 28
        }
      ]
    },
    {
      "cell_type": "code",
      "source": [
        "acc=history_dict['binary_accuracy']\n",
        "val_acc=history_dict['val_binary_accuracy']\n",
        "loss=history_dict['loss']\n",
        "val_loss=history_dict['val_loss']\n",
        "epochs = range(1, len(acc) + 1)\n",
        "\n",
        "# \"bo\" is for \"blue dot\"\n",
        "plt.plot(epochs, loss, 'bo', label='Training loss')\n",
        "# b is for \"solid blue line\"\n",
        "plt.plot(epochs, val_loss, 'b', label='Validation loss')\n",
        "plt.title('Training and validation loss')\n",
        "plt.xlabel('Epochs')\n",
        "plt.ylabel('Loss')\n",
        "plt.legend()\n",
        "\n",
        "plt.show()"
      ],
      "metadata": {
        "id": "hj_rZTAgYVHd",
        "outputId": "d001775d-ab38-4841-d7c4-ef47edfa1618",
        "colab": {
          "base_uri": "https://localhost:8080/",
          "height": 472
        }
      },
      "execution_count": 35,
      "outputs": [
        {
          "output_type": "display_data",
          "data": {
            "text/plain": [
              "<Figure size 640x480 with 1 Axes>"
            ],
            "image/png": "[encoded data removed]"
          },
          "metadata": {}
        }
      ]
    },
    {
      "cell_type": "code",
      "source": [
        "plt.plot(epochs, acc, 'bo', label='Training acc')\n",
        "plt.plot(epochs, val_acc, 'b', label='Validation acc')\n",
        "plt.title('Training and validation accuracy')\n",
        "plt.xlabel('Epochs')\n",
        "plt.ylabel('Accuracy')\n",
        "plt.legend(loc='lower right')\n",
        "\n",
        "plt.show()\n"
      ],
      "metadata": {
        "id": "gLtCw-QYZzJT",
        "outputId": "a1f798a6-2832-418c-b468-1b3755e26e3a",
        "colab": {
          "base_uri": "https://localhost:8080/",
          "height": 472
        }
      },
      "execution_count": 38,
      "outputs": [
        {
          "output_type": "display_data",
          "data": {
            "text/plain": [
              "<Figure size 640x480 with 1 Axes>"
            ],
            "image/png": "[encoded data removed]"
          },
          "metadata": {}
        }
      ]
    }
  ]
}