{
  "nbformat": 4,
  "nbformat_minor": 0,
  "metadata": {
    "colab": {
      "provenance": [],
      "authorship_tag": "ABX9TyM4wPTTaMVyhX/8LgKJ1oyg",
      "include_colab_link": true
    },
    "kernelspec": {
      "name": "python3",
      "display_name": "Python 3"
    },
    "language_info": {
      "name": "python"
    }
  },
  "cells": [
    {
      "cell_type": "markdown",
      "metadata": {
        "id": "view-in-github",
        "colab_type": "text"
      },
      "source": [
        "<a href=\"https://colab.research.google.com/github/nematatu/Colab-Python/blob/master/%E7%94%BB%E5%83%8F%E5%88%86%E9%A1%9E%E3%83%86%E3%82%B9%E3%83%88.ipynb\" target=\"_parent\"><img src=\"https://colab.research.google.com/assets/colab-badge.svg\" alt=\"Open In Colab\"/></a>"
      ]
    },
    {
      "cell_type": "code",
      "source": [
        "!pip -q install icrawler"
      ],
      "metadata": {
        "id": "22owMoH3LOvj"
      },
      "execution_count": 29,
      "outputs": []
    },
    {
      "cell_type": "code",
      "source": [
        "!rm -rf ./Face ./FaceEdited ./Original ./test ./img"
      ],
      "metadata": {
        "id": "re91lcN8KWMd"
      },
      "execution_count": 30,
      "outputs": []
    },
    {
      "cell_type": "code",
      "source": [
        "import os\n",
        "from IPython.display import Image,display_jpeg\n",
        "from icrawler.builtin import GoogleImageCrawler"
      ],
      "metadata": {
        "id": "Kan_L85JKxWY"
      },
      "execution_count": 31,
      "outputs": []
    },
    {
      "cell_type": "code",
      "execution_count": 32,
      "metadata": {
        "id": "Qbw4U5KhHU0U"
      },
      "outputs": [],
      "source": [
        "# 顔認識する対象を決定（検索ワードを入力）\n",
        "SearchName = [\"田中美久\",\"えなこ\",\"いけちゃん\",\"菊池姫奈\"]\n",
        "# 画像の取得枚数の上限\n",
        "ImgNumber =600\n",
        "# CNNで学習するときの画像のサイズを設定（サイズが大きいと学習に時間がかかる）\n",
        "ImgSize=(250,250)\n",
        "input_shape=(250,250,3)"
      ]
    },
    {
      "cell_type": "code",
      "source": [
        "# オリジナル画像用のフォルダ\n",
        "os.makedirs(\"./Original\", exist_ok=True)\n",
        "# 顔の画像用のフォルダ\n",
        "os.makedirs(\"./Face\", exist_ok=True)\n",
        "# ImgSizeで設定したサイズに編集された顔画像用のフォルダ\n",
        "os.makedirs(\"./FaceEdited\", exist_ok=True)\n",
        "# テストデータを入れる用のフォルダ\n",
        "os.makedirs(\"./test\", exist_ok=True)"
      ],
      "metadata": {
        "id": "tihxbQKyISRD"
      },
      "execution_count": 33,
      "outputs": []
    },
    {
      "cell_type": "code",
      "source": [
        "for person in SearchName:\n",
        "  if not os.path.exists('./img'):\n",
        "    os.mkdir('./img')\n",
        "  save_directory = os.path.join(\"./img\",person) # 保存先ディレクトリ\n",
        "  os.mkdir(save_directory)\n",
        "\n",
        "  google_crawler = GoogleImageCrawler(storage={\"root_dir\": save_directory})\n",
        "  num_images = 100 # 取得する画像の数\n",
        "  google_crawler.crawl(keyword=person, max_num=num_images)"
      ],
      "metadata": {
        "colab": {
          "base_uri": "https://localhost:8080/"
        },
        "id": "ionrIe_RKz00",
        "outputId": "d12daa45-c959-4ee7-ab14-c4ff7e68ab96"
      },
      "execution_count": 35,
      "outputs": [
        {
          "output_type": "stream",
          "name": "stderr",
          "text": [
            "ERROR:downloader:Response status code 403, file https://wx3.sinaimg.cn/mw690/0065misNly1hidf0jihwjj30u0173tk2.jpg\n",
            "ERROR:downloader:Response status code 404, file https://upload.wikimedia.org/wikipedia/commons/thumb/6/6a/Miku_Tanaka_SOS47.jpg\n",
            "ERROR:downloader:Response status code 403, file https://wx2.sinaimg.cn/mw690/0065misNly1hl63ssoaazj31kw11y106.jpg\n",
            "ERROR:downloader:Response status code 403, file https://wx4.sinaimg.cn/orj360/0065misNly1hl3vrn07gcj30yf1x01b2.jpg\n",
            "ERROR:downloader:Response status code 400, file http://k.sinaimg.cn/n/sinakd10106/227/w640h387/20201011/3dcb-kakmcxc6809742.jpg\n",
            "ERROR:downloader:Response status code 403, file https://preview.redd.it/tanaka-miku-%E7%94%B0%E4%B8%AD%E7%BE%8E%E4%B9%85-v0-az1ofdznojdb1.jpg\n",
            "ERROR:downloader:Response status code 403, file https://tvax3.sinaimg.cn/crop.0.0.600.600.1024/0065misNly8hl6etu2l17j30go0goac6.jpg\n",
            "ERROR:downloader:Response status code 400, file https://k.sinaimg.cn/n/ent/4_img/upload/bebc130b/400/w1200h800/20180503/LWHF-fzyqqiq2613028.jpg\n",
            "ERROR:downloader:Response status code 404, file https://blogger.googleusercontent.com/img/a/AVvXsEiCZbBoN2rr9zqcHDCtNMpZB0kIHyIj0EuA_Vl3BoDTa5__zjQXb45jdc41SgATJsn3AfzJjbkRCzcEHs_ROq-qjciVOby4cZoJ1Lv-gy6hkhjiG1TheisUlwnObWEkVSJKKB_JJVuyz0fReTHavrrQwk-l2mrmFXjMXpDWzpuHzvTxEh8rbviEywelBg\\u003ds0?micmicidol.jpg\n",
            "ERROR:downloader:Response status code 403, file https://img03.sogoucdn.com/v2/thumb/retype_exclude_gif/ext/auto/crop/xy/ai/w/834/h/556?appid\\u003d200698\\u0026url\\u003dhttp://pic.baike.soso.com/ugc/baikepic2/3877/ori-20210511193850-209708107_png_834_1118_914035.jpg\n",
            "ERROR:downloader:Response status code 404, file https://www.jdlingyu.com/wp-content/uploads/thumb/2021/05/fill_w576_h356_g0_mark_115233smadvs8s64aackhd.jpg\n",
            "ERROR:downloader:Response status code 404, file https://upload.wikimedia.org/wikipedia/commons/thumb/4/44/Panache%21_C82_20120810.jpg\n",
            "ERROR:downloader:Response status code 404, file https://upload.wikimedia.org/wikipedia/commons/thumb/2/20/%E3%81%88%E3%81%AA%E3%81%93%E3%81%AB%E3%82%88%E3%82%8B%E6%84%9B%E5%92%B2%E3%82%82%E3%82%82%E3%81%AE%E3%82%B3%E3%82%B9%E3%83%97%E3%83%AC_20180430.jpg\n",
            "ERROR:downloader:Response status code 404, file https://www.kankomie.or.jp/rails/active_storage/representations/proxy/eyJfcmFpbHMiOnsibWVzc2FnZSI6IkJBaHBBM1dpQWc9PSIsImV4cCI6bnVsbCwicHVyIjoiYmxvYl9pZCJ9fQ\\u003d\\u003d--76907019bb800e4eabc1a50f5b39e3f6c85d3d0b/eyJfcmFpbHMiOnsibWVzc2FnZSI6IkJBaDdCem9MWm05eWJXRjBPZ2wzWldKd09oSnlaWE5wZW1WZmRHOWZabWwwV3dkcEFvUURNQT09IiwiZXhwIjpudWxsLCJwdXIiOiJ2YXJpYXRpb24ifX0\\u003d--ef4af471d0804d4a7b7d74cb943d03ada1b9519d/%E3%81%84%E3%81%91%E3%81%A1%E3%82%83%E3%82%931.jpg\n",
            "ERROR:downloader:Response status code 403, file https://preview.redd.it/19-no-35-ikechan-%E3%81%84%E3%81%91%E3%81%A1%E3%82%83%E3%82%93-v0-9srdkuncqfyb1.png\n"
          ]
        }
      ]
    }
  ]
}